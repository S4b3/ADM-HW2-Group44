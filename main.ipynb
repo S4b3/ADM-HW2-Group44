{
 "cells": [
  {
   "cell_type": "markdown",
   "metadata": {
    "id": "vP52gxeryd5Z"
   },
   "source": [
    "# Kaggle Imports\n",
    "---\n",
    "Uncomment and run those cells if you're working on Cloud and you need to import the dataset!"
   ]
  },
  {
   "cell_type": "markdown",
   "metadata": {
    "id": "J_qk4_oYyd5c"
   },
   "source": [
    "- Use this on Colab to import your api json\n",
    "  "
   ]
  },
  {
   "cell_type": "code",
   "execution_count": 265,
   "metadata": {
    "colab": {
     "base_uri": "https://localhost:8080/",
     "height": 55,
     "resources": {
      "http://localhost:8080/nbextensions/google.colab/files.js": {
       "data": "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",
       "headers": [
        [
         "content-type",
         "application/javascript"
        ]
       ],
       "ok": true,
       "status": 200,
       "status_text": ""
      }
     }
    },
    "id": "Y187VC4CbxLD",
    "outputId": "593c2ccb-d922-4965-d12c-a0a2bc0e2041"
   },
   "outputs": [
    {
     "data": {
      "text/html": [
       "\n",
       "     <input type=\"file\" id=\"files-232b0a91-1d89-498a-9294-01b0d1c298ba\" name=\"files[]\" multiple disabled\n",
       "        style=\"border:none\" />\n",
       "     <output id=\"result-232b0a91-1d89-498a-9294-01b0d1c298ba\">\n",
       "      Upload widget is only available when the cell has been executed in the\n",
       "      current browser session. Please rerun this cell to enable.\n",
       "      </output>\n",
       "      <script src=\"/nbextensions/google.colab/files.js\"></script> "
      ],
      "text/plain": [
       "<IPython.core.display.HTML object>"
      ]
     },
     "metadata": {},
     "output_type": "display_data"
    },
    {
     "name": "stdout",
     "output_type": "stream",
     "text": [
      "mv: cannot stat 'kaggle.json': No such file or directory\n"
     ]
    }
   ],
   "source": [
    "'''\n",
    "from google.colab import files\n",
    "\n",
    "uploaded = files.upload()\n",
    "\n",
    "for fn in uploaded.keys():\n",
    "  print('User uploaded file \"{name}\" with length {length} bytes'.format(\n",
    "      name=fn, length=len(uploaded[fn])))\n",
    "  \n",
    "# Then move kaggle.json into the folder where the API expects to find it.\n",
    "!mkdir -p ~/.kaggle/ && mv kaggle.json ~/.kaggle/ && chmod 600 ~/.kaggle/kaggle.json\n",
    "'''"
   ]
  },
  {
   "cell_type": "markdown",
   "metadata": {
    "id": "2BanQdEOyd5e"
   },
   "source": [
    "- Install Kaggle and import then unzip dataset"
   ]
  },
  {
   "cell_type": "code",
   "execution_count": 2,
   "metadata": {
    "colab": {
     "base_uri": "https://localhost:8080/",
     "height": 35
    },
    "id": "CKprt9Tlbki5",
    "outputId": "675743cb-154d-4cc3-9ee5-d2afadb5b799"
   },
   "outputs": [
    {
     "name": "stdout",
     "output_type": "stream",
     "text": [
      "Requirement already satisfied: pandas in /Users/valentinosacco/opt/anaconda3/envs/my_env/lib/python3.8/site-packages (1.3.2)\n",
      "Requirement already satisfied: numpy>=1.17.3 in /Users/valentinosacco/opt/anaconda3/envs/my_env/lib/python3.8/site-packages (from pandas) (1.20.3)\n",
      "Requirement already satisfied: python-dateutil>=2.7.3 in /Users/valentinosacco/opt/anaconda3/envs/my_env/lib/python3.8/site-packages (from pandas) (2.8.2)\n",
      "Requirement already satisfied: pytz>=2017.3 in /Users/valentinosacco/opt/anaconda3/envs/my_env/lib/python3.8/site-packages (from pandas) (2021.1)\n",
      "Requirement already satisfied: six>=1.5 in /Users/valentinosacco/opt/anaconda3/envs/my_env/lib/python3.8/site-packages (from python-dateutil>=2.7.3->pandas) (1.16.0)\n",
      "Requirement already satisfied: kaggle in /Users/valentinosacco/opt/anaconda3/envs/my_env/lib/python3.8/site-packages (1.5.12)\n",
      "Requirement already satisfied: six>=1.10 in /Users/valentinosacco/opt/anaconda3/envs/my_env/lib/python3.8/site-packages (from kaggle) (1.16.0)\n",
      "Requirement already satisfied: urllib3 in /Users/valentinosacco/opt/anaconda3/envs/my_env/lib/python3.8/site-packages (from kaggle) (1.26.7)\n",
      "Requirement already satisfied: tqdm in /Users/valentinosacco/opt/anaconda3/envs/my_env/lib/python3.8/site-packages (from kaggle) (4.62.3)\n",
      "Requirement already satisfied: certifi in /Users/valentinosacco/opt/anaconda3/envs/my_env/lib/python3.8/site-packages (from kaggle) (2021.5.30)\n",
      "Requirement already satisfied: requests in /Users/valentinosacco/opt/anaconda3/envs/my_env/lib/python3.8/site-packages (from kaggle) (2.26.0)\n",
      "Requirement already satisfied: python-dateutil in /Users/valentinosacco/opt/anaconda3/envs/my_env/lib/python3.8/site-packages (from kaggle) (2.8.2)\n",
      "Requirement already satisfied: python-slugify in /Users/valentinosacco/opt/anaconda3/envs/my_env/lib/python3.8/site-packages (from kaggle) (5.0.2)\n",
      "Requirement already satisfied: text-unidecode>=1.3 in /Users/valentinosacco/opt/anaconda3/envs/my_env/lib/python3.8/site-packages (from python-slugify->kaggle) (1.3)\n",
      "Requirement already satisfied: charset-normalizer~=2.0.0 in /Users/valentinosacco/opt/anaconda3/envs/my_env/lib/python3.8/site-packages (from requests->kaggle) (2.0.7)\n",
      "Requirement already satisfied: idna<4,>=2.5 in /Users/valentinosacco/opt/anaconda3/envs/my_env/lib/python3.8/site-packages (from requests->kaggle) (3.3)\n",
      "Warning: Your Kaggle API key is readable by other users on this system! To fix this, you can run 'chmod 600 /Users/valentinosacco/.kaggle/kaggle.json'\n",
      "Downloading steam-reviews-2021.zip to /Users/valentinosacco/Dev/Uni/ADM/ADM-HW2-Group44\n",
      "100%|██████████████████████████████████████| 2.97G/2.97G [04:29<00:00, 11.0MB/s]\n",
      "100%|██████████████████████████████████████| 2.97G/2.97G [04:29<00:00, 11.9MB/s]\n",
      "Archive:  steam-reviews-2021.zip\n",
      "  inflating: steam_reviews.csv       \n"
     ]
    }
   ],
   "source": [
    "'''\n",
    "!pip install pandas\n",
    "!pip install kaggle\n",
    "!kaggle datasets download -d najzeko/steam-reviews-2021\n",
    "!unzip steam-reviews-2021.zip\n",
    "'''\n"
   ]
  },
  {
   "cell_type": "markdown",
   "metadata": {
    "id": "IE8vIaIyyd5g"
   },
   "source": [
    "  # Libraries and Functions imports"
   ]
  },
  {
   "cell_type": "code",
   "execution_count": 54,
   "metadata": {
    "id": "uzhoYvwneec0"
   },
   "outputs": [],
   "source": [
    "import pandas as pd\n",
    "import numpy as np        \n",
    "from datetime import datetime\n",
    "import matplotlib.pyplot as plt"
   ]
  },
  {
   "cell_type": "code",
   "execution_count": 55,
   "metadata": {
    "colab": {
     "base_uri": "https://localhost:8080/"
    },
    "id": "RKj2FQ0_fqq3",
    "outputId": "fff0d458-f561-4492-c836-6d96a7957241"
   },
   "outputs": [
    {
     "name": "stdout",
     "output_type": "stream",
     "text": [
      "Index(['Unnamed: 0', 'app_id', 'app_name', 'review_id', 'language', 'review',\n",
      "       'timestamp_created', 'timestamp_updated', 'recommended',\n",
      "       'votes_helpful', 'votes_funny', 'weighted_vote_score', 'comment_count',\n",
      "       'steam_purchase', 'received_for_free', 'written_during_early_access',\n",
      "       'author.steamid', 'author.num_games_owned', 'author.num_reviews',\n",
      "       'author.playtime_forever', 'author.playtime_last_two_weeks',\n",
      "       'author.playtime_at_review', 'author.last_played'],\n",
      "      dtype='object')\n"
     ]
    }
   ],
   "source": [
    "dataframe = pd.read_csv('./steam_reviews.csv', nrows= 5000000)\n",
    "print(dataframe.columns)"
   ]
  },
  {
   "cell_type": "markdown",
   "metadata": {},
   "source": [
    "# [RQ1]"
   ]
  },
  {
   "cell_type": "code",
   "execution_count": 56,
   "metadata": {},
   "outputs": [
    {
     "name": "stdout",
     "output_type": "stream",
     "text": [
      "(5000000, 23)\n"
     ]
    }
   ],
   "source": [
    "print(dataframe.shape)\n"
   ]
  },
  {
   "cell_type": "markdown",
   "metadata": {},
   "source": [
    "In this dataset we have Nrows and 23 variables."
   ]
  },
  {
   "cell_type": "code",
   "execution_count": 57,
   "metadata": {},
   "outputs": [
    {
     "data": {
      "text/html": [
       "<div>\n",
       "<style scoped>\n",
       "    .dataframe tbody tr th:only-of-type {\n",
       "        vertical-align: middle;\n",
       "    }\n",
       "\n",
       "    .dataframe tbody tr th {\n",
       "        vertical-align: top;\n",
       "    }\n",
       "\n",
       "    .dataframe thead th {\n",
       "        text-align: right;\n",
       "    }\n",
       "</style>\n",
       "<table border=\"1\" class=\"dataframe\">\n",
       "  <thead>\n",
       "    <tr style=\"text-align: right;\">\n",
       "      <th></th>\n",
       "      <th>Unnamed: 0</th>\n",
       "      <th>app_id</th>\n",
       "      <th>app_name</th>\n",
       "      <th>review_id</th>\n",
       "      <th>language</th>\n",
       "      <th>review</th>\n",
       "      <th>timestamp_created</th>\n",
       "      <th>timestamp_updated</th>\n",
       "      <th>recommended</th>\n",
       "      <th>votes_helpful</th>\n",
       "      <th>...</th>\n",
       "      <th>steam_purchase</th>\n",
       "      <th>received_for_free</th>\n",
       "      <th>written_during_early_access</th>\n",
       "      <th>author.steamid</th>\n",
       "      <th>author.num_games_owned</th>\n",
       "      <th>author.num_reviews</th>\n",
       "      <th>author.playtime_forever</th>\n",
       "      <th>author.playtime_last_two_weeks</th>\n",
       "      <th>author.playtime_at_review</th>\n",
       "      <th>author.last_played</th>\n",
       "    </tr>\n",
       "  </thead>\n",
       "  <tbody>\n",
       "    <tr>\n",
       "      <th>0</th>\n",
       "      <td>0</td>\n",
       "      <td>292030</td>\n",
       "      <td>The Witcher 3: Wild Hunt</td>\n",
       "      <td>85185598</td>\n",
       "      <td>schinese</td>\n",
       "      <td>不玩此生遗憾，RPG游戏里的天花板，太吸引人了</td>\n",
       "      <td>1611381629</td>\n",
       "      <td>1611381629</td>\n",
       "      <td>True</td>\n",
       "      <td>0</td>\n",
       "      <td>...</td>\n",
       "      <td>True</td>\n",
       "      <td>False</td>\n",
       "      <td>False</td>\n",
       "      <td>76561199095369542</td>\n",
       "      <td>6</td>\n",
       "      <td>2</td>\n",
       "      <td>1909.0</td>\n",
       "      <td>1448.0</td>\n",
       "      <td>1909.0</td>\n",
       "      <td>1.611343e+09</td>\n",
       "    </tr>\n",
       "    <tr>\n",
       "      <th>1</th>\n",
       "      <td>1</td>\n",
       "      <td>292030</td>\n",
       "      <td>The Witcher 3: Wild Hunt</td>\n",
       "      <td>85185250</td>\n",
       "      <td>schinese</td>\n",
       "      <td>拔DIAO无情打桩机--杰洛特!!!</td>\n",
       "      <td>1611381030</td>\n",
       "      <td>1611381030</td>\n",
       "      <td>True</td>\n",
       "      <td>0</td>\n",
       "      <td>...</td>\n",
       "      <td>True</td>\n",
       "      <td>False</td>\n",
       "      <td>False</td>\n",
       "      <td>76561198949504115</td>\n",
       "      <td>30</td>\n",
       "      <td>10</td>\n",
       "      <td>2764.0</td>\n",
       "      <td>2743.0</td>\n",
       "      <td>2674.0</td>\n",
       "      <td>1.611386e+09</td>\n",
       "    </tr>\n",
       "    <tr>\n",
       "      <th>2</th>\n",
       "      <td>2</td>\n",
       "      <td>292030</td>\n",
       "      <td>The Witcher 3: Wild Hunt</td>\n",
       "      <td>85185111</td>\n",
       "      <td>schinese</td>\n",
       "      <td>巫师3NB</td>\n",
       "      <td>1611380800</td>\n",
       "      <td>1611380800</td>\n",
       "      <td>True</td>\n",
       "      <td>0</td>\n",
       "      <td>...</td>\n",
       "      <td>True</td>\n",
       "      <td>False</td>\n",
       "      <td>False</td>\n",
       "      <td>76561199090098988</td>\n",
       "      <td>5</td>\n",
       "      <td>1</td>\n",
       "      <td>1061.0</td>\n",
       "      <td>1061.0</td>\n",
       "      <td>1060.0</td>\n",
       "      <td>1.611384e+09</td>\n",
       "    </tr>\n",
       "  </tbody>\n",
       "</table>\n",
       "<p>3 rows × 23 columns</p>\n",
       "</div>"
      ],
      "text/plain": [
       "   Unnamed: 0  app_id                  app_name  review_id  language  \\\n",
       "0           0  292030  The Witcher 3: Wild Hunt   85185598  schinese   \n",
       "1           1  292030  The Witcher 3: Wild Hunt   85185250  schinese   \n",
       "2           2  292030  The Witcher 3: Wild Hunt   85185111  schinese   \n",
       "\n",
       "                    review  timestamp_created  timestamp_updated  recommended  \\\n",
       "0  不玩此生遗憾，RPG游戏里的天花板，太吸引人了         1611381629         1611381629         True   \n",
       "1       拔DIAO无情打桩机--杰洛特!!!         1611381030         1611381030         True   \n",
       "2                    巫师3NB         1611380800         1611380800         True   \n",
       "\n",
       "   votes_helpful  ...  steam_purchase  received_for_free  \\\n",
       "0              0  ...            True              False   \n",
       "1              0  ...            True              False   \n",
       "2              0  ...            True              False   \n",
       "\n",
       "   written_during_early_access     author.steamid  author.num_games_owned  \\\n",
       "0                        False  76561199095369542                       6   \n",
       "1                        False  76561198949504115                      30   \n",
       "2                        False  76561199090098988                       5   \n",
       "\n",
       "   author.num_reviews  author.playtime_forever  \\\n",
       "0                   2                   1909.0   \n",
       "1                  10                   2764.0   \n",
       "2                   1                   1061.0   \n",
       "\n",
       "   author.playtime_last_two_weeks  author.playtime_at_review  \\\n",
       "0                          1448.0                     1909.0   \n",
       "1                          2743.0                     2674.0   \n",
       "2                          1061.0                     1060.0   \n",
       "\n",
       "   author.last_played  \n",
       "0        1.611343e+09  \n",
       "1        1.611386e+09  \n",
       "2        1.611384e+09  \n",
       "\n",
       "[3 rows x 23 columns]"
      ]
     },
     "execution_count": 57,
     "metadata": {},
     "output_type": "execute_result"
    }
   ],
   "source": [
    "dataframe.head(3)"
   ]
  },
  {
   "cell_type": "code",
   "execution_count": 58,
   "metadata": {},
   "outputs": [
    {
     "name": "stdout",
     "output_type": "stream",
     "text": [
      "<class 'pandas.core.frame.DataFrame'>\n",
      "RangeIndex: 5000000 entries, 0 to 4999999\n",
      "Data columns (total 23 columns):\n",
      " #   Column                          Dtype  \n",
      "---  ------                          -----  \n",
      " 0   Unnamed: 0                      int64  \n",
      " 1   app_id                          int64  \n",
      " 2   app_name                        object \n",
      " 3   review_id                       int64  \n",
      " 4   language                        object \n",
      " 5   review                          object \n",
      " 6   timestamp_created               int64  \n",
      " 7   timestamp_updated               int64  \n",
      " 8   recommended                     bool   \n",
      " 9   votes_helpful                   int64  \n",
      " 10  votes_funny                     int64  \n",
      " 11  weighted_vote_score             float64\n",
      " 12  comment_count                   int64  \n",
      " 13  steam_purchase                  bool   \n",
      " 14  received_for_free               bool   \n",
      " 15  written_during_early_access     bool   \n",
      " 16  author.steamid                  int64  \n",
      " 17  author.num_games_owned          int64  \n",
      " 18  author.num_reviews              int64  \n",
      " 19  author.playtime_forever         float64\n",
      " 20  author.playtime_last_two_weeks  float64\n",
      " 21  author.playtime_at_review       float64\n",
      " 22  author.last_played              float64\n",
      "dtypes: bool(4), float64(5), int64(11), object(3)\n",
      "memory usage: 743.9+ MB\n"
     ]
    }
   ],
   "source": [
    "dataframe.info()"
   ]
  },
  {
   "cell_type": "code",
   "execution_count": 75,
   "metadata": {},
   "outputs": [
    {
     "name": "stdout",
     "output_type": "stream",
     "text": [
      "[0, 1, 2, 3, 5, 10, 50, 3631553]\n"
     ]
    },
    {
     "data": {
      "text/plain": [
       "<Figure size 432x288 with 0 Axes>"
      ]
     },
     "metadata": {},
     "output_type": "display_data"
    },
    {
     "data": {
      "image/png": "[encoded data removed]",
      "text/plain": [
       "<Figure size 1224x576 with 3 Axes>"
      ]
     },
     "metadata": {
      "needs_background": "light"
     },
     "output_type": "display_data"
    }
   ],
   "source": [
    "recomm_amount = dataframe[\"recommended\"].value_counts()\n",
    "recomm_amount = recomm_amount/sum(recomm_amount)\n",
    "#print(recomm_amount)\n",
    "\n",
    "helpful=dataframe[\"votes_helpful\"].value_counts()\n",
    "my_bins=[0,1,2,3,5,10,50,helpful.max()]\n",
    "print(my_bins)\n",
    "out=pd.cut(dataframe[\"votes_helpful\"],bins=my_bins,include_lowest=True)\n",
    "ax=out.value_counts(sort=False)\n",
    "ax=ax/sum(ax)\n",
    "#print(ax)\n",
    "\n",
    "funny=dataframe[\"votes_funny\"].value_counts()\n",
    "my_bins=[0,1,2,3,5,10,50,funny.max()]\n",
    "out2=pd.cut(dataframe[\"votes_funny\"],bins=my_bins,include_lowest=True)\n",
    "bx=out2.value_counts(sort=False)\n",
    "bx=bx/sum(bx)\n",
    "#print(bx)\n",
    "\n",
    "\n",
    "\n",
    "plt.figure()\n",
    "fig=plt.figure(figsize=(17,8))\n",
    "plt.subplot(131)\n",
    "recomm_amount.plot.bar(\n",
    "    title='Recommended',\n",
    "ylabel='Percentage',)\n",
    "plt.yticks(np.arange(0,1,0.1))\n",
    "plt.xticks([0,1],['Yes','No'])\n",
    "\n",
    "plt.subplot(132)\n",
    "ax.plot.bar(color='r',title=\"Votes_helpful\",ylabel='Percentage')\n",
    "plt.xticks([0,1,2,3,4,5,6],['0','1','2','3-5','6-10','11-50','>50'])\n",
    "plt.yticks(np.arange(0,1,0.1))\n",
    "\n",
    "plt.subplot(133)\n",
    "bx.plot.bar(color='r',title=\"Votes_funny\",ylabel='Percentage')\n",
    "plt.xticks([0,1,2,3,4,5,6],['0','1','2','3-5','6-10','11-50','>50'])\n",
    "plt.yticks(np.arange(0,1,0.1))\n",
    "\n",
    "plt.show()"
   ]
  },
  {
   "cell_type": "code",
   "execution_count": 79,
   "metadata": {},
   "outputs": [
    {
     "data": {
      "text/plain": [
       "<Figure size 432x288 with 0 Axes>"
      ]
     },
     "metadata": {},
     "output_type": "display_data"
    },
    {
     "data": {
      "image/png": "[encoded data removed]",
      "text/plain": [
       "<Figure size 1224x576 with 2 Axes>"
      ]
     },
     "metadata": {
      "needs_background": "light"
     },
     "output_type": "display_data"
    }
   ],
   "source": [
    "##TEST!\n",
    "##Analyzing the comments without 0 helpful vote and without 0 and 1, the most commons\n",
    "helpful2=dataframe[dataframe.votes_helpful>0][\"votes_helpful\"]\n",
    "my_bins=[1,2,3,4,5,6,7,8,9,10,20,30,40,50,helpful2.max()]\n",
    "out=pd.cut(helpful2,bins=my_bins,include_lowest=True)\n",
    "ax=out.value_counts(sort=False)\n",
    "ax=ax/sum(ax)\n",
    "#print(ax)\n",
    "\n",
    "\n",
    "plt.figure()\n",
    "fig=plt.figure(figsize=(17,8))\n",
    "plt.subplot(121)\n",
    "ax.plot.bar(color='r',title=\"Votes_helpful without 0\",ylabel='Percentage')\n",
    "plt.xticks([0,1,2,3,4,5,6,7,8,9,10,11,12,13],['1','2','3','4','5','6','7','8','9','10-20','20-30','30-40','40-50','>50'])\n",
    "plt.yticks(np.arange(0,1,0.1))\n",
    "\n",
    "\n",
    "helpful3=dataframe[dataframe.votes_helpful>1][\"votes_helpful\"]\n",
    "my_bins=[2,3,4,5,6,7,8,9,10,20,30,40,50,helpful2.max()]\n",
    "out2=pd.cut(helpful2,bins=my_bins,include_lowest=True)\n",
    "bx=out2.value_counts(sort=False)\n",
    "bx=bx/sum(bx)\n",
    "#print(bx)\n",
    "\n",
    "plt.subplot(122)\n",
    "bx.plot.bar(color='r',title=\"Votes_helpful without 0 and 1\",ylabel='Percentage')\n",
    "plt.xticks([0,1,2,3,4,5,6,7,8,9,10,11,12],['2','3','4','5','6','7','8','9','10-20','20-30','30-40','40-50','>50'])\n",
    "plt.yticks(np.arange(0,1,0.1))\n",
    "\n",
    "\n",
    "plt.show()"
   ]
  },
  {
   "cell_type": "code",
   "execution_count": 80,
   "metadata": {},
   "outputs": [
    {
     "data": {
      "text/plain": [
       "<Figure size 432x288 with 0 Axes>"
      ]
     },
     "metadata": {},
     "output_type": "display_data"
    },
    {
     "data": {
      "text/plain": [
       "<Figure size 360x432 with 0 Axes>"
      ]
     },
     "metadata": {},
     "output_type": "display_data"
    }
   ],
   "source": [
    "weighted=dataframe[\"weighted_vote_score\"]\n",
    "plt.figure()\n",
    "fig=plt.figure(figsize=(5,6))\n",
    "\n",
    "#weighted.plot(kind='box')"
   ]
  },
  {
   "cell_type": "code",
   "execution_count": 81,
   "metadata": {},
   "outputs": [
    {
     "data": {
      "text/html": [
       "<div>\n",
       "<style scoped>\n",
       "    .dataframe tbody tr th:only-of-type {\n",
       "        vertical-align: middle;\n",
       "    }\n",
       "\n",
       "    .dataframe tbody tr th {\n",
       "        vertical-align: top;\n",
       "    }\n",
       "\n",
       "    .dataframe thead th {\n",
       "        text-align: right;\n",
       "    }\n",
       "</style>\n",
       "<table border=\"1\" class=\"dataframe\">\n",
       "  <thead>\n",
       "    <tr style=\"text-align: right;\">\n",
       "      <th></th>\n",
       "      <th>Unnamed: 0</th>\n",
       "      <th>app_id</th>\n",
       "      <th>review_id</th>\n",
       "      <th>timestamp_created</th>\n",
       "      <th>timestamp_updated</th>\n",
       "      <th>recommended</th>\n",
       "      <th>votes_helpful</th>\n",
       "      <th>votes_funny</th>\n",
       "      <th>weighted_vote_score</th>\n",
       "      <th>comment_count</th>\n",
       "      <th>steam_purchase</th>\n",
       "      <th>received_for_free</th>\n",
       "      <th>written_during_early_access</th>\n",
       "      <th>author.steamid</th>\n",
       "      <th>author.num_games_owned</th>\n",
       "      <th>author.num_reviews</th>\n",
       "      <th>author.playtime_forever</th>\n",
       "      <th>author.playtime_last_two_weeks</th>\n",
       "      <th>author.playtime_at_review</th>\n",
       "      <th>author.last_played</th>\n",
       "    </tr>\n",
       "  </thead>\n",
       "  <tbody>\n",
       "    <tr>\n",
       "      <th>Unnamed: 0</th>\n",
       "      <td>1.000000</td>\n",
       "      <td>0.524016</td>\n",
       "      <td>0.124508</td>\n",
       "      <td>0.137937</td>\n",
       "      <td>0.130387</td>\n",
       "      <td>-0.056750</td>\n",
       "      <td>0.007424</td>\n",
       "      <td>-0.001135</td>\n",
       "      <td>0.000079</td>\n",
       "      <td>-0.005111</td>\n",
       "      <td>-0.008731</td>\n",
       "      <td>-0.002604</td>\n",
       "      <td>0.206403</td>\n",
       "      <td>0.000301</td>\n",
       "      <td>0.000312</td>\n",
       "      <td>0.004471</td>\n",
       "      <td>-0.070620</td>\n",
       "      <td>0.017652</td>\n",
       "      <td>-0.083798</td>\n",
       "      <td>0.112901</td>\n",
       "    </tr>\n",
       "    <tr>\n",
       "      <th>app_id</th>\n",
       "      <td>0.524016</td>\n",
       "      <td>1.000000</td>\n",
       "      <td>0.301433</td>\n",
       "      <td>0.334128</td>\n",
       "      <td>0.322653</td>\n",
       "      <td>-0.216370</td>\n",
       "      <td>0.017234</td>\n",
       "      <td>-0.001708</td>\n",
       "      <td>0.032927</td>\n",
       "      <td>-0.001978</td>\n",
       "      <td>0.005030</td>\n",
       "      <td>-0.008399</td>\n",
       "      <td>0.204868</td>\n",
       "      <td>0.018527</td>\n",
       "      <td>-0.000483</td>\n",
       "      <td>-0.007531</td>\n",
       "      <td>-0.114138</td>\n",
       "      <td>0.026615</td>\n",
       "      <td>-0.120711</td>\n",
       "      <td>0.181634</td>\n",
       "    </tr>\n",
       "    <tr>\n",
       "      <th>review_id</th>\n",
       "      <td>0.124508</td>\n",
       "      <td>0.301433</td>\n",
       "      <td>1.000000</td>\n",
       "      <td>0.971143</td>\n",
       "      <td>0.935846</td>\n",
       "      <td>0.030895</td>\n",
       "      <td>-0.021407</td>\n",
       "      <td>-0.005681</td>\n",
       "      <td>-0.207032</td>\n",
       "      <td>-0.050546</td>\n",
       "      <td>0.089569</td>\n",
       "      <td>0.035097</td>\n",
       "      <td>-0.171629</td>\n",
       "      <td>0.465596</td>\n",
       "      <td>-0.000412</td>\n",
       "      <td>-0.075352</td>\n",
       "      <td>-0.087793</td>\n",
       "      <td>0.130702</td>\n",
       "      <td>-0.018985</td>\n",
       "      <td>0.481795</td>\n",
       "    </tr>\n",
       "    <tr>\n",
       "      <th>timestamp_created</th>\n",
       "      <td>0.137937</td>\n",
       "      <td>0.334128</td>\n",
       "      <td>0.971143</td>\n",
       "      <td>1.000000</td>\n",
       "      <td>0.962345</td>\n",
       "      <td>0.016022</td>\n",
       "      <td>-0.019064</td>\n",
       "      <td>-0.005238</td>\n",
       "      <td>-0.185133</td>\n",
       "      <td>-0.048724</td>\n",
       "      <td>0.097820</td>\n",
       "      <td>0.042656</td>\n",
       "      <td>-0.146601</td>\n",
       "      <td>0.437671</td>\n",
       "      <td>-0.000356</td>\n",
       "      <td>-0.070705</td>\n",
       "      <td>-0.083226</td>\n",
       "      <td>0.110265</td>\n",
       "      <td>-0.020076</td>\n",
       "      <td>0.507079</td>\n",
       "    </tr>\n",
       "    <tr>\n",
       "      <th>timestamp_updated</th>\n",
       "      <td>0.130387</td>\n",
       "      <td>0.322653</td>\n",
       "      <td>0.935846</td>\n",
       "      <td>0.962345</td>\n",
       "      <td>1.000000</td>\n",
       "      <td>0.012449</td>\n",
       "      <td>-0.017018</td>\n",
       "      <td>-0.005024</td>\n",
       "      <td>-0.169687</td>\n",
       "      <td>-0.040561</td>\n",
       "      <td>0.094722</td>\n",
       "      <td>0.040644</td>\n",
       "      <td>-0.156496</td>\n",
       "      <td>0.423419</td>\n",
       "      <td>-0.000389</td>\n",
       "      <td>-0.054913</td>\n",
       "      <td>-0.042971</td>\n",
       "      <td>0.118901</td>\n",
       "      <td>0.025457</td>\n",
       "      <td>0.521500</td>\n",
       "    </tr>\n",
       "    <tr>\n",
       "      <th>recommended</th>\n",
       "      <td>-0.056750</td>\n",
       "      <td>-0.216370</td>\n",
       "      <td>0.030895</td>\n",
       "      <td>0.016022</td>\n",
       "      <td>0.012449</td>\n",
       "      <td>1.000000</td>\n",
       "      <td>-0.040110</td>\n",
       "      <td>-0.000718</td>\n",
       "      <td>-0.200645</td>\n",
       "      <td>-0.070795</td>\n",
       "      <td>0.052154</td>\n",
       "      <td>-0.006647</td>\n",
       "      <td>-0.033081</td>\n",
       "      <td>0.070616</td>\n",
       "      <td>0.000133</td>\n",
       "      <td>-0.034174</td>\n",
       "      <td>0.025064</td>\n",
       "      <td>0.013823</td>\n",
       "      <td>0.018574</td>\n",
       "      <td>0.102224</td>\n",
       "    </tr>\n",
       "    <tr>\n",
       "      <th>votes_helpful</th>\n",
       "      <td>0.007424</td>\n",
       "      <td>0.017234</td>\n",
       "      <td>-0.021407</td>\n",
       "      <td>-0.019064</td>\n",
       "      <td>-0.017018</td>\n",
       "      <td>-0.040110</td>\n",
       "      <td>1.000000</td>\n",
       "      <td>0.000188</td>\n",
       "      <td>0.139252</td>\n",
       "      <td>0.455662</td>\n",
       "      <td>-0.007515</td>\n",
       "      <td>-0.001804</td>\n",
       "      <td>0.012933</td>\n",
       "      <td>-0.020569</td>\n",
       "      <td>-0.000027</td>\n",
       "      <td>0.022552</td>\n",
       "      <td>0.013719</td>\n",
       "      <td>-0.000064</td>\n",
       "      <td>0.010817</td>\n",
       "      <td>-0.014154</td>\n",
       "    </tr>\n",
       "    <tr>\n",
       "      <th>votes_funny</th>\n",
       "      <td>-0.001135</td>\n",
       "      <td>-0.001708</td>\n",
       "      <td>-0.005681</td>\n",
       "      <td>-0.005238</td>\n",
       "      <td>-0.005024</td>\n",
       "      <td>-0.000718</td>\n",
       "      <td>0.000188</td>\n",
       "      <td>1.000000</td>\n",
       "      <td>0.007391</td>\n",
       "      <td>0.000864</td>\n",
       "      <td>-0.000161</td>\n",
       "      <td>-0.000447</td>\n",
       "      <td>0.001568</td>\n",
       "      <td>-0.002586</td>\n",
       "      <td>-0.000002</td>\n",
       "      <td>0.000784</td>\n",
       "      <td>0.000731</td>\n",
       "      <td>-0.000702</td>\n",
       "      <td>0.000374</td>\n",
       "      <td>-0.002107</td>\n",
       "    </tr>\n",
       "    <tr>\n",
       "      <th>weighted_vote_score</th>\n",
       "      <td>0.000079</td>\n",
       "      <td>0.032927</td>\n",
       "      <td>-0.207032</td>\n",
       "      <td>-0.185133</td>\n",
       "      <td>-0.169687</td>\n",
       "      <td>-0.200645</td>\n",
       "      <td>0.139252</td>\n",
       "      <td>0.007391</td>\n",
       "      <td>1.000000</td>\n",
       "      <td>0.108773</td>\n",
       "      <td>-0.049887</td>\n",
       "      <td>0.010462</td>\n",
       "      <td>0.066515</td>\n",
       "      <td>-0.129955</td>\n",
       "      <td>-0.000295</td>\n",
       "      <td>0.093872</td>\n",
       "      <td>0.061811</td>\n",
       "      <td>-0.009946</td>\n",
       "      <td>0.028476</td>\n",
       "      <td>-0.083499</td>\n",
       "    </tr>\n",
       "    <tr>\n",
       "      <th>comment_count</th>\n",
       "      <td>-0.005111</td>\n",
       "      <td>-0.001978</td>\n",
       "      <td>-0.050546</td>\n",
       "      <td>-0.048724</td>\n",
       "      <td>-0.040561</td>\n",
       "      <td>-0.070795</td>\n",
       "      <td>0.455662</td>\n",
       "      <td>0.000864</td>\n",
       "      <td>0.108773</td>\n",
       "      <td>1.000000</td>\n",
       "      <td>-0.009925</td>\n",
       "      <td>0.003231</td>\n",
       "      <td>0.012483</td>\n",
       "      <td>-0.031849</td>\n",
       "      <td>-0.000033</td>\n",
       "      <td>0.034760</td>\n",
       "      <td>0.041907</td>\n",
       "      <td>0.004207</td>\n",
       "      <td>0.032701</td>\n",
       "      <td>-0.025770</td>\n",
       "    </tr>\n",
       "    <tr>\n",
       "      <th>steam_purchase</th>\n",
       "      <td>-0.008731</td>\n",
       "      <td>0.005030</td>\n",
       "      <td>0.089569</td>\n",
       "      <td>0.097820</td>\n",
       "      <td>0.094722</td>\n",
       "      <td>0.052154</td>\n",
       "      <td>-0.007515</td>\n",
       "      <td>-0.000161</td>\n",
       "      <td>-0.049887</td>\n",
       "      <td>-0.009925</td>\n",
       "      <td>1.000000</td>\n",
       "      <td>-0.104385</td>\n",
       "      <td>0.024771</td>\n",
       "      <td>0.104732</td>\n",
       "      <td>0.000221</td>\n",
       "      <td>-0.035956</td>\n",
       "      <td>-0.027329</td>\n",
       "      <td>0.005898</td>\n",
       "      <td>-0.031164</td>\n",
       "      <td>0.088400</td>\n",
       "    </tr>\n",
       "    <tr>\n",
       "      <th>received_for_free</th>\n",
       "      <td>-0.002604</td>\n",
       "      <td>-0.008399</td>\n",
       "      <td>0.035097</td>\n",
       "      <td>0.042656</td>\n",
       "      <td>0.040644</td>\n",
       "      <td>-0.006647</td>\n",
       "      <td>-0.001804</td>\n",
       "      <td>-0.000447</td>\n",
       "      <td>0.010462</td>\n",
       "      <td>0.003231</td>\n",
       "      <td>-0.104385</td>\n",
       "      <td>1.000000</td>\n",
       "      <td>-0.012332</td>\n",
       "      <td>0.075211</td>\n",
       "      <td>-0.000075</td>\n",
       "      <td>-0.001333</td>\n",
       "      <td>-0.005511</td>\n",
       "      <td>0.006513</td>\n",
       "      <td>-0.009009</td>\n",
       "      <td>0.018129</td>\n",
       "    </tr>\n",
       "    <tr>\n",
       "      <th>written_during_early_access</th>\n",
       "      <td>0.206403</td>\n",
       "      <td>0.204868</td>\n",
       "      <td>-0.171629</td>\n",
       "      <td>-0.146601</td>\n",
       "      <td>-0.156496</td>\n",
       "      <td>-0.033081</td>\n",
       "      <td>0.012933</td>\n",
       "      <td>0.001568</td>\n",
       "      <td>0.066515</td>\n",
       "      <td>0.012483</td>\n",
       "      <td>0.024771</td>\n",
       "      <td>-0.012332</td>\n",
       "      <td>1.000000</td>\n",
       "      <td>-0.131016</td>\n",
       "      <td>-0.000128</td>\n",
       "      <td>0.012847</td>\n",
       "      <td>-0.016152</td>\n",
       "      <td>-0.016769</td>\n",
       "      <td>-0.035087</td>\n",
       "      <td>-0.033041</td>\n",
       "    </tr>\n",
       "    <tr>\n",
       "      <th>author.steamid</th>\n",
       "      <td>0.000301</td>\n",
       "      <td>0.018527</td>\n",
       "      <td>0.465596</td>\n",
       "      <td>0.437671</td>\n",
       "      <td>0.423419</td>\n",
       "      <td>0.070616</td>\n",
       "      <td>-0.020569</td>\n",
       "      <td>-0.002586</td>\n",
       "      <td>-0.129955</td>\n",
       "      <td>-0.031849</td>\n",
       "      <td>0.104732</td>\n",
       "      <td>0.075211</td>\n",
       "      <td>-0.131016</td>\n",
       "      <td>1.000000</td>\n",
       "      <td>-0.000073</td>\n",
       "      <td>-0.102735</td>\n",
       "      <td>-0.085207</td>\n",
       "      <td>0.074416</td>\n",
       "      <td>-0.088669</td>\n",
       "      <td>0.253599</td>\n",
       "    </tr>\n",
       "    <tr>\n",
       "      <th>author.num_games_owned</th>\n",
       "      <td>0.000312</td>\n",
       "      <td>-0.000483</td>\n",
       "      <td>-0.000412</td>\n",
       "      <td>-0.000356</td>\n",
       "      <td>-0.000389</td>\n",
       "      <td>0.000133</td>\n",
       "      <td>-0.000027</td>\n",
       "      <td>-0.000002</td>\n",
       "      <td>-0.000295</td>\n",
       "      <td>-0.000033</td>\n",
       "      <td>0.000221</td>\n",
       "      <td>-0.000075</td>\n",
       "      <td>-0.000128</td>\n",
       "      <td>-0.000073</td>\n",
       "      <td>1.000000</td>\n",
       "      <td>-0.000048</td>\n",
       "      <td>-0.000162</td>\n",
       "      <td>-0.000087</td>\n",
       "      <td>-0.000135</td>\n",
       "      <td>-0.000709</td>\n",
       "    </tr>\n",
       "    <tr>\n",
       "      <th>author.num_reviews</th>\n",
       "      <td>0.004471</td>\n",
       "      <td>-0.007531</td>\n",
       "      <td>-0.075352</td>\n",
       "      <td>-0.070705</td>\n",
       "      <td>-0.054913</td>\n",
       "      <td>-0.034174</td>\n",
       "      <td>0.022552</td>\n",
       "      <td>0.000784</td>\n",
       "      <td>0.093872</td>\n",
       "      <td>0.034760</td>\n",
       "      <td>-0.035956</td>\n",
       "      <td>-0.001333</td>\n",
       "      <td>0.012847</td>\n",
       "      <td>-0.102735</td>\n",
       "      <td>-0.000048</td>\n",
       "      <td>1.000000</td>\n",
       "      <td>-0.029419</td>\n",
       "      <td>-0.022723</td>\n",
       "      <td>-0.027753</td>\n",
       "      <td>-0.081645</td>\n",
       "    </tr>\n",
       "    <tr>\n",
       "      <th>author.playtime_forever</th>\n",
       "      <td>-0.070620</td>\n",
       "      <td>-0.114138</td>\n",
       "      <td>-0.087793</td>\n",
       "      <td>-0.083226</td>\n",
       "      <td>-0.042971</td>\n",
       "      <td>0.025064</td>\n",
       "      <td>0.013719</td>\n",
       "      <td>0.000731</td>\n",
       "      <td>0.061811</td>\n",
       "      <td>0.041907</td>\n",
       "      <td>-0.027329</td>\n",
       "      <td>-0.005511</td>\n",
       "      <td>-0.016152</td>\n",
       "      <td>-0.085207</td>\n",
       "      <td>-0.000162</td>\n",
       "      <td>-0.029419</td>\n",
       "      <td>1.000000</td>\n",
       "      <td>0.331813</td>\n",
       "      <td>0.849646</td>\n",
       "      <td>0.107769</td>\n",
       "    </tr>\n",
       "    <tr>\n",
       "      <th>author.playtime_last_two_weeks</th>\n",
       "      <td>0.017652</td>\n",
       "      <td>0.026615</td>\n",
       "      <td>0.130702</td>\n",
       "      <td>0.110265</td>\n",
       "      <td>0.118901</td>\n",
       "      <td>0.013823</td>\n",
       "      <td>-0.000064</td>\n",
       "      <td>-0.000702</td>\n",
       "      <td>-0.009946</td>\n",
       "      <td>0.004207</td>\n",
       "      <td>0.005898</td>\n",
       "      <td>0.006513</td>\n",
       "      <td>-0.016769</td>\n",
       "      <td>0.074416</td>\n",
       "      <td>-0.000087</td>\n",
       "      <td>-0.022723</td>\n",
       "      <td>0.331813</td>\n",
       "      <td>1.000000</td>\n",
       "      <td>0.225078</td>\n",
       "      <td>0.109950</td>\n",
       "    </tr>\n",
       "    <tr>\n",
       "      <th>author.playtime_at_review</th>\n",
       "      <td>-0.083798</td>\n",
       "      <td>-0.120711</td>\n",
       "      <td>-0.018985</td>\n",
       "      <td>-0.020076</td>\n",
       "      <td>0.025457</td>\n",
       "      <td>0.018574</td>\n",
       "      <td>0.010817</td>\n",
       "      <td>0.000374</td>\n",
       "      <td>0.028476</td>\n",
       "      <td>0.032701</td>\n",
       "      <td>-0.031164</td>\n",
       "      <td>-0.009009</td>\n",
       "      <td>-0.035087</td>\n",
       "      <td>-0.088669</td>\n",
       "      <td>-0.000135</td>\n",
       "      <td>-0.027753</td>\n",
       "      <td>0.849646</td>\n",
       "      <td>0.225078</td>\n",
       "      <td>1.000000</td>\n",
       "      <td>0.082561</td>\n",
       "    </tr>\n",
       "    <tr>\n",
       "      <th>author.last_played</th>\n",
       "      <td>0.112901</td>\n",
       "      <td>0.181634</td>\n",
       "      <td>0.481795</td>\n",
       "      <td>0.507079</td>\n",
       "      <td>0.521500</td>\n",
       "      <td>0.102224</td>\n",
       "      <td>-0.014154</td>\n",
       "      <td>-0.002107</td>\n",
       "      <td>-0.083499</td>\n",
       "      <td>-0.025770</td>\n",
       "      <td>0.088400</td>\n",
       "      <td>0.018129</td>\n",
       "      <td>-0.033041</td>\n",
       "      <td>0.253599</td>\n",
       "      <td>-0.000709</td>\n",
       "      <td>-0.081645</td>\n",
       "      <td>0.107769</td>\n",
       "      <td>0.109950</td>\n",
       "      <td>0.082561</td>\n",
       "      <td>1.000000</td>\n",
       "    </tr>\n",
       "  </tbody>\n",
       "</table>\n",
       "</div>"
      ],
      "text/plain": [
       "                                Unnamed: 0    app_id  review_id  \\\n",
       "Unnamed: 0                        1.000000  0.524016   0.124508   \n",
       "app_id                            0.524016  1.000000   0.301433   \n",
       "review_id                         0.124508  0.301433   1.000000   \n",
       "timestamp_created                 0.137937  0.334128   0.971143   \n",
       "timestamp_updated                 0.130387  0.322653   0.935846   \n",
       "recommended                      -0.056750 -0.216370   0.030895   \n",
       "votes_helpful                     0.007424  0.017234  -0.021407   \n",
       "votes_funny                      -0.001135 -0.001708  -0.005681   \n",
       "weighted_vote_score               0.000079  0.032927  -0.207032   \n",
       "comment_count                    -0.005111 -0.001978  -0.050546   \n",
       "steam_purchase                   -0.008731  0.005030   0.089569   \n",
       "received_for_free                -0.002604 -0.008399   0.035097   \n",
       "written_during_early_access       0.206403  0.204868  -0.171629   \n",
       "author.steamid                    0.000301  0.018527   0.465596   \n",
       "author.num_games_owned            0.000312 -0.000483  -0.000412   \n",
       "author.num_reviews                0.004471 -0.007531  -0.075352   \n",
       "author.playtime_forever          -0.070620 -0.114138  -0.087793   \n",
       "author.playtime_last_two_weeks    0.017652  0.026615   0.130702   \n",
       "author.playtime_at_review        -0.083798 -0.120711  -0.018985   \n",
       "author.last_played                0.112901  0.181634   0.481795   \n",
       "\n",
       "                                timestamp_created  timestamp_updated  \\\n",
       "Unnamed: 0                               0.137937           0.130387   \n",
       "app_id                                   0.334128           0.322653   \n",
       "review_id                                0.971143           0.935846   \n",
       "timestamp_created                        1.000000           0.962345   \n",
       "timestamp_updated                        0.962345           1.000000   \n",
       "recommended                              0.016022           0.012449   \n",
       "votes_helpful                           -0.019064          -0.017018   \n",
       "votes_funny                             -0.005238          -0.005024   \n",
       "weighted_vote_score                     -0.185133          -0.169687   \n",
       "comment_count                           -0.048724          -0.040561   \n",
       "steam_purchase                           0.097820           0.094722   \n",
       "received_for_free                        0.042656           0.040644   \n",
       "written_during_early_access             -0.146601          -0.156496   \n",
       "author.steamid                           0.437671           0.423419   \n",
       "author.num_games_owned                  -0.000356          -0.000389   \n",
       "author.num_reviews                      -0.070705          -0.054913   \n",
       "author.playtime_forever                 -0.083226          -0.042971   \n",
       "author.playtime_last_two_weeks           0.110265           0.118901   \n",
       "author.playtime_at_review               -0.020076           0.025457   \n",
       "author.last_played                       0.507079           0.521500   \n",
       "\n",
       "                                recommended  votes_helpful  votes_funny  \\\n",
       "Unnamed: 0                        -0.056750       0.007424    -0.001135   \n",
       "app_id                            -0.216370       0.017234    -0.001708   \n",
       "review_id                          0.030895      -0.021407    -0.005681   \n",
       "timestamp_created                  0.016022      -0.019064    -0.005238   \n",
       "timestamp_updated                  0.012449      -0.017018    -0.005024   \n",
       "recommended                        1.000000      -0.040110    -0.000718   \n",
       "votes_helpful                     -0.040110       1.000000     0.000188   \n",
       "votes_funny                       -0.000718       0.000188     1.000000   \n",
       "weighted_vote_score               -0.200645       0.139252     0.007391   \n",
       "comment_count                     -0.070795       0.455662     0.000864   \n",
       "steam_purchase                     0.052154      -0.007515    -0.000161   \n",
       "received_for_free                 -0.006647      -0.001804    -0.000447   \n",
       "written_during_early_access       -0.033081       0.012933     0.001568   \n",
       "author.steamid                     0.070616      -0.020569    -0.002586   \n",
       "author.num_games_owned             0.000133      -0.000027    -0.000002   \n",
       "author.num_reviews                -0.034174       0.022552     0.000784   \n",
       "author.playtime_forever            0.025064       0.013719     0.000731   \n",
       "author.playtime_last_two_weeks     0.013823      -0.000064    -0.000702   \n",
       "author.playtime_at_review          0.018574       0.010817     0.000374   \n",
       "author.last_played                 0.102224      -0.014154    -0.002107   \n",
       "\n",
       "                                weighted_vote_score  comment_count  \\\n",
       "Unnamed: 0                                 0.000079      -0.005111   \n",
       "app_id                                     0.032927      -0.001978   \n",
       "review_id                                 -0.207032      -0.050546   \n",
       "timestamp_created                         -0.185133      -0.048724   \n",
       "timestamp_updated                         -0.169687      -0.040561   \n",
       "recommended                               -0.200645      -0.070795   \n",
       "votes_helpful                              0.139252       0.455662   \n",
       "votes_funny                                0.007391       0.000864   \n",
       "weighted_vote_score                        1.000000       0.108773   \n",
       "comment_count                              0.108773       1.000000   \n",
       "steam_purchase                            -0.049887      -0.009925   \n",
       "received_for_free                          0.010462       0.003231   \n",
       "written_during_early_access                0.066515       0.012483   \n",
       "author.steamid                            -0.129955      -0.031849   \n",
       "author.num_games_owned                    -0.000295      -0.000033   \n",
       "author.num_reviews                         0.093872       0.034760   \n",
       "author.playtime_forever                    0.061811       0.041907   \n",
       "author.playtime_last_two_weeks            -0.009946       0.004207   \n",
       "author.playtime_at_review                  0.028476       0.032701   \n",
       "author.last_played                        -0.083499      -0.025770   \n",
       "\n",
       "                                steam_purchase  received_for_free  \\\n",
       "Unnamed: 0                           -0.008731          -0.002604   \n",
       "app_id                                0.005030          -0.008399   \n",
       "review_id                             0.089569           0.035097   \n",
       "timestamp_created                     0.097820           0.042656   \n",
       "timestamp_updated                     0.094722           0.040644   \n",
       "recommended                           0.052154          -0.006647   \n",
       "votes_helpful                        -0.007515          -0.001804   \n",
       "votes_funny                          -0.000161          -0.000447   \n",
       "weighted_vote_score                  -0.049887           0.010462   \n",
       "comment_count                        -0.009925           0.003231   \n",
       "steam_purchase                        1.000000          -0.104385   \n",
       "received_for_free                    -0.104385           1.000000   \n",
       "written_during_early_access           0.024771          -0.012332   \n",
       "author.steamid                        0.104732           0.075211   \n",
       "author.num_games_owned                0.000221          -0.000075   \n",
       "author.num_reviews                   -0.035956          -0.001333   \n",
       "author.playtime_forever              -0.027329          -0.005511   \n",
       "author.playtime_last_two_weeks        0.005898           0.006513   \n",
       "author.playtime_at_review            -0.031164          -0.009009   \n",
       "author.last_played                    0.088400           0.018129   \n",
       "\n",
       "                                written_during_early_access  author.steamid  \\\n",
       "Unnamed: 0                                         0.206403        0.000301   \n",
       "app_id                                             0.204868        0.018527   \n",
       "review_id                                         -0.171629        0.465596   \n",
       "timestamp_created                                 -0.146601        0.437671   \n",
       "timestamp_updated                                 -0.156496        0.423419   \n",
       "recommended                                       -0.033081        0.070616   \n",
       "votes_helpful                                      0.012933       -0.020569   \n",
       "votes_funny                                        0.001568       -0.002586   \n",
       "weighted_vote_score                                0.066515       -0.129955   \n",
       "comment_count                                      0.012483       -0.031849   \n",
       "steam_purchase                                     0.024771        0.104732   \n",
       "received_for_free                                 -0.012332        0.075211   \n",
       "written_during_early_access                        1.000000       -0.131016   \n",
       "author.steamid                                    -0.131016        1.000000   \n",
       "author.num_games_owned                            -0.000128       -0.000073   \n",
       "author.num_reviews                                 0.012847       -0.102735   \n",
       "author.playtime_forever                           -0.016152       -0.085207   \n",
       "author.playtime_last_two_weeks                    -0.016769        0.074416   \n",
       "author.playtime_at_review                         -0.035087       -0.088669   \n",
       "author.last_played                                -0.033041        0.253599   \n",
       "\n",
       "                                author.num_games_owned  author.num_reviews  \\\n",
       "Unnamed: 0                                    0.000312            0.004471   \n",
       "app_id                                       -0.000483           -0.007531   \n",
       "review_id                                    -0.000412           -0.075352   \n",
       "timestamp_created                            -0.000356           -0.070705   \n",
       "timestamp_updated                            -0.000389           -0.054913   \n",
       "recommended                                   0.000133           -0.034174   \n",
       "votes_helpful                                -0.000027            0.022552   \n",
       "votes_funny                                  -0.000002            0.000784   \n",
       "weighted_vote_score                          -0.000295            0.093872   \n",
       "comment_count                                -0.000033            0.034760   \n",
       "steam_purchase                                0.000221           -0.035956   \n",
       "received_for_free                            -0.000075           -0.001333   \n",
       "written_during_early_access                  -0.000128            0.012847   \n",
       "author.steamid                               -0.000073           -0.102735   \n",
       "author.num_games_owned                        1.000000           -0.000048   \n",
       "author.num_reviews                           -0.000048            1.000000   \n",
       "author.playtime_forever                      -0.000162           -0.029419   \n",
       "author.playtime_last_two_weeks               -0.000087           -0.022723   \n",
       "author.playtime_at_review                    -0.000135           -0.027753   \n",
       "author.last_played                           -0.000709           -0.081645   \n",
       "\n",
       "                                author.playtime_forever  \\\n",
       "Unnamed: 0                                    -0.070620   \n",
       "app_id                                        -0.114138   \n",
       "review_id                                     -0.087793   \n",
       "timestamp_created                             -0.083226   \n",
       "timestamp_updated                             -0.042971   \n",
       "recommended                                    0.025064   \n",
       "votes_helpful                                  0.013719   \n",
       "votes_funny                                    0.000731   \n",
       "weighted_vote_score                            0.061811   \n",
       "comment_count                                  0.041907   \n",
       "steam_purchase                                -0.027329   \n",
       "received_for_free                             -0.005511   \n",
       "written_during_early_access                   -0.016152   \n",
       "author.steamid                                -0.085207   \n",
       "author.num_games_owned                        -0.000162   \n",
       "author.num_reviews                            -0.029419   \n",
       "author.playtime_forever                        1.000000   \n",
       "author.playtime_last_two_weeks                 0.331813   \n",
       "author.playtime_at_review                      0.849646   \n",
       "author.last_played                             0.107769   \n",
       "\n",
       "                                author.playtime_last_two_weeks  \\\n",
       "Unnamed: 0                                            0.017652   \n",
       "app_id                                                0.026615   \n",
       "review_id                                             0.130702   \n",
       "timestamp_created                                     0.110265   \n",
       "timestamp_updated                                     0.118901   \n",
       "recommended                                           0.013823   \n",
       "votes_helpful                                        -0.000064   \n",
       "votes_funny                                          -0.000702   \n",
       "weighted_vote_score                                  -0.009946   \n",
       "comment_count                                         0.004207   \n",
       "steam_purchase                                        0.005898   \n",
       "received_for_free                                     0.006513   \n",
       "written_during_early_access                          -0.016769   \n",
       "author.steamid                                        0.074416   \n",
       "author.num_games_owned                               -0.000087   \n",
       "author.num_reviews                                   -0.022723   \n",
       "author.playtime_forever                               0.331813   \n",
       "author.playtime_last_two_weeks                        1.000000   \n",
       "author.playtime_at_review                             0.225078   \n",
       "author.last_played                                    0.109950   \n",
       "\n",
       "                                author.playtime_at_review  author.last_played  \n",
       "Unnamed: 0                                      -0.083798            0.112901  \n",
       "app_id                                          -0.120711            0.181634  \n",
       "review_id                                       -0.018985            0.481795  \n",
       "timestamp_created                               -0.020076            0.507079  \n",
       "timestamp_updated                                0.025457            0.521500  \n",
       "recommended                                      0.018574            0.102224  \n",
       "votes_helpful                                    0.010817           -0.014154  \n",
       "votes_funny                                      0.000374           -0.002107  \n",
       "weighted_vote_score                              0.028476           -0.083499  \n",
       "comment_count                                    0.032701           -0.025770  \n",
       "steam_purchase                                  -0.031164            0.088400  \n",
       "received_for_free                               -0.009009            0.018129  \n",
       "written_during_early_access                     -0.035087           -0.033041  \n",
       "author.steamid                                  -0.088669            0.253599  \n",
       "author.num_games_owned                          -0.000135           -0.000709  \n",
       "author.num_reviews                              -0.027753           -0.081645  \n",
       "author.playtime_forever                          0.849646            0.107769  \n",
       "author.playtime_last_two_weeks                   0.225078            0.109950  \n",
       "author.playtime_at_review                        1.000000            0.082561  \n",
       "author.last_played                               0.082561            1.000000  "
      ]
     },
     "execution_count": 81,
     "metadata": {},
     "output_type": "execute_result"
    }
   ],
   "source": [
    "dataframe.corr()"
   ]
  },
  {
   "cell_type": "markdown",
   "metadata": {
    "id": "pWSLz_iPFQgo"
   },
   "source": [
    "# [RQ2] Let's explore the dataset by finding simple insights into the reviews.\n",
    "---"
   ]
  },
  {
   "cell_type": "markdown",
   "metadata": {
    "id": "d9bt-NZaFbm2"
   },
   "source": [
    "### Plot the number of reviews for each application in descending order."
   ]
  },
  {
   "cell_type": "code",
   "execution_count": 82,
   "metadata": {
    "colab": {
     "base_uri": "https://localhost:8080/",
     "height": 0
    },
    "id": "OuVXwZXtzunJ",
    "outputId": "eb3f9157-840b-4d3a-b707-46407205bda8"
   },
   "outputs": [
    {
     "data": {
      "text/plain": [
       "Text(0, 0.5, 'Reviews Amount')"
      ]
     },
     "execution_count": 82,
     "metadata": {},
     "output_type": "execute_result"
    },
    {
     "data": {
      "image/png": "[encoded data removed]",
      "text/plain": [
       "<Figure size 2160x1440 with 1 Axes>"
      ]
     },
     "metadata": {
      "needs_background": "light"
     },
     "output_type": "display_data"
    }
   ],
   "source": [
    "reviewsAmounts = dataframe['app_name'].value_counts()\n",
    "ra_plot = reviewsAmounts.plot(kind='bar',\n",
    "                                    figsize=(30,20),\n",
    "                                    title=\"Reviews amount for each App\")\n",
    "ra_plot.set_xlabel(\"Application Name\")\n",
    "ra_plot.set_ylabel(\"Reviews Amount\")\n",
    "#plt.show()"
   ]
  },
  {
   "cell_type": "markdown",
   "metadata": {
    "id": "YRfbLFOuFlhR"
   },
   "source": [
    "### Find out are the most and least reviewed applications"
   ]
  },
  {
   "cell_type": "code",
   "execution_count": 83,
   "metadata": {
    "colab": {
     "base_uri": "https://localhost:8080/"
    },
    "id": "sicK8WYe8Dn3",
    "outputId": "af8407b1-c1b9-453c-99ea-ce782255d4b0"
   },
   "outputs": [
    {
     "name": "stdout",
     "output_type": "stream",
     "text": [
      "Garry's Mod\n",
      "Shadow Complex Remastered\n"
     ]
    }
   ],
   "source": [
    "print(reviewsAmounts.idxmax())\n",
    "print(reviewsAmounts.idxmin())"
   ]
  },
  {
   "cell_type": "markdown",
   "metadata": {
    "id": "v3YouPvQF1Co"
   },
   "source": [
    "### What applications have the best Weighted Vote Score?\n"
   ]
  },
  {
   "cell_type": "code",
   "execution_count": 84,
   "metadata": {
    "colab": {
     "base_uri": "https://localhost:8080/"
    },
    "id": "SmZ9SjDE9N-L",
    "outputId": "c2865fc0-9d27-459d-b18f-f5e810511dd8"
   },
   "outputs": [
    {
     "name": "stdout",
     "output_type": "stream",
     "text": [
      "2353895    Subnautica\n",
      "Name: app_name, dtype: object\n"
     ]
    }
   ],
   "source": [
    "# daframe.sort_values('weighted_vote_score')\n",
    "scores = dataframe['weighted_vote_score']\n",
    "max = scores.idxmax()\n",
    "\n",
    "print(dataframe[dataframe['weighted_vote_score'] == dataframe['weighted_vote_score'].max()]['app_name'])\n"
   ]
  },
  {
   "cell_type": "markdown",
   "metadata": {
    "id": "CrFGNNieF3th"
   },
   "source": [
    "### Which applications have the most and the least recommendations?\n"
   ]
  },
  {
   "cell_type": "code",
   "execution_count": 85,
   "metadata": {
    "colab": {
     "base_uri": "https://localhost:8080/"
    },
    "id": "Ow-jtVNC_GPR",
    "outputId": "8c756189-3a66-4ce5-a2ae-a21493e5ae1f"
   },
   "outputs": [
    {
     "name": "stdout",
     "output_type": "stream",
     "text": [
      "       app_name  recommendations\n",
      "25  Garry's Mod           632558\n",
      "33     Identity              439\n"
     ]
    }
   ],
   "source": [
    "recommended = dataframe.groupby('app_name')['recommended'].apply(lambda r : (r == True).sum()).reset_index(name = 'recommendations')\n",
    "max_min_recommendations = recommended[\n",
    "        (recommended['recommendations'] == recommended['recommendations'].max()) |\n",
    "        (recommended['recommendations'] == recommended['recommendations'].min())\n",
    "      ]\n",
    "print(max_min_recommendations)"
   ]
  },
  {
   "cell_type": "markdown",
   "metadata": {
    "id": "_Qg8RFmNGCzc"
   },
   "source": [
    "### How many of these applications were purchased, and how many were given for free?\n"
   ]
  },
  {
   "cell_type": "code",
   "execution_count": 86,
   "metadata": {
    "colab": {
     "base_uri": "https://localhost:8080/",
     "height": 307
    },
    "id": "47wFyLzLF-S2",
    "outputId": "34364af0-2ee7-4b10-b10e-518a892405e6"
   },
   "outputs": [
    {
     "name": "stdout",
     "output_type": "stream",
     "text": [
      "Given for free     137647\n",
      "Purchased         4862353\n",
      "Name: received_for_free, dtype: int64\n"
     ]
    }
   ],
   "source": [
    "print((dataframe)['received_for_free'].agg({'Given for free' : lambda x : (x == True).sum(), 'Purchased' : lambda y : (y == False).sum()}))"
   ]
  },
  {
   "cell_type": "markdown",
   "metadata": {
    "id": "3DyMBjtjXyqE"
   },
   "source": [
    "# [RQ3]  Now it's important to understand the preferred time to do reviews.\n",
    "---\n"
   ]
  },
  {
   "cell_type": "markdown",
   "metadata": {
    "id": "-9gIqyKpYT50"
   },
   "source": [
    "### What is the most common time that authors review an application? For example, authors usually write a review at 17:44."
   ]
  },
  {
   "cell_type": "code",
   "execution_count": 87,
   "metadata": {
    "id": "tRlv27JmfQp0"
   },
   "outputs": [],
   "source": [
    "timeframes = pd.to_datetime(dataframe['timestamp_created'].apply(lambda time : (datetime.fromtimestamp(time))))"
   ]
  },
  {
   "cell_type": "code",
   "execution_count": 88,
   "metadata": {
    "id": "GWr_u55og75Z"
   },
   "outputs": [
    {
     "name": "stdout",
     "output_type": "stream",
     "text": [
      "People usually write reviews at: \n",
      "16:54\n"
     ]
    },
    {
     "data": {
      "text/plain": [
       "[None]"
      ]
     },
     "execution_count": 88,
     "metadata": {},
     "output_type": "execute_result"
    }
   ],
   "source": [
    "modes = timeframes.dt.time.mode()\n",
    "print(\"People usually write reviews at: \")\n",
    "[print(time.strftime('%H:%M') ) for time in modes.values]"
   ]
  },
  {
   "cell_type": "markdown",
   "metadata": {
    "id": "PT04u-zWkej4"
   },
   "source": [
    "### Create a function that receives as a parameter a list of time intervals and returns the plot the number of reviews for each of the intervals.\n"
   ]
  },
  {
   "cell_type": "code",
   "execution_count": 89,
   "metadata": {
    "id": "E9RyZZBImeh0"
   },
   "outputs": [],
   "source": [
    "# Counting how many datetime occurences in input_timeframes belong to each interval in intervals\n",
    "#\n",
    "# Parameters :\n",
    "# [intervals] : List of datetime tuples (interval_start, interval_end)\n",
    "# such that they define time intervals. E.G. = (06:00, 12:00). [start] has to be lesser than [end]\n",
    "# [input_timeframes] : input list of (DateTime objects)\n",
    "#\n",
    "# Returns : A Pandas dataframe with input_timeframes grouped by intervals.\n",
    "#           E.G. : \n",
    "#           '    Interval   |   Reviews    '\n",
    "#           ' --------------|--------------'\n",
    "#           ' 06:00 - 09:59 |    100000    '\n",
    "#           ' 10:00 - 11:59 |     30000    '\n",
    "#           '------------------------------'\n",
    "def count_reviews_in_belonging_t_interval(intervals, input_timeframes):\n",
    "\n",
    "    df_timeframes = pd.DataFrame()\n",
    "    df_timeframes['times'] = input_timeframes\n",
    "    df_timeframes.index = pd.to_datetime(input_timeframes)\n",
    "    output = pd.DataFrame({'Interval' : [], 'Reviews' : []})\n",
    "\n",
    "    for (start,end) in intervals :\n",
    "        assert(start < end), 'Input Mismatch: DateTime interval had start greater than end!'\n",
    "        \n",
    "        start = start.strftime('%H:%M')\n",
    "        end = end.strftime('%H:%M')\n",
    "        r_amount = len(df_timeframes.between_time(start, end))\n",
    "        output = output.append(pd.DataFrame({'Interval' : ['{}-{}'.format(start,end)], 'Reviews': [r_amount]}), ignore_index = True)\n",
    "    return output\n"
   ]
  },
  {
   "cell_type": "markdown",
   "metadata": {
    "id": "SYgtygz-spAI"
   },
   "source": [
    "### Use the function that you created in the previous literal to plot the number of reviews between the following time intervals:"
   ]
  },
  {
   "cell_type": "code",
   "execution_count": 90,
   "metadata": {
    "id": "VPumks8psqUM"
   },
   "outputs": [
    {
     "data": {
      "text/plain": [
       "<AxesSubplot:xlabel='Interval'>"
      ]
     },
     "execution_count": 90,
     "metadata": {},
     "output_type": "execute_result"
    },
    {
     "data": {
      "image/png": "[encoded data removed]",
      "text/plain": [
       "<Figure size 432x288 with 1 Axes>"
      ]
     },
     "metadata": {
      "needs_background": "light"
     },
     "output_type": "display_data"
    }
   ],
   "source": [
    "# Defining said intervals as datetime objects\n",
    "intervals = [\n",
    "    ( datetime.strptime('06:00:00', \"%H:%M:%S\"), datetime.strptime('10:59:59', \"%H:%M:%S\") ),\n",
    "    ( datetime.strptime('11:00:00', \"%H:%M:%S\"), datetime.strptime('16:59:59', \"%H:%M:%S\") ),\n",
    "    ( datetime.strptime('14:00:00', \"%H:%M:%S\"), datetime.strptime('16:59:59', \"%H:%M:%S\") ), \n",
    "    ( datetime.strptime('17:00:00', \"%H:%M:%S\"), datetime.strptime('19:59:59', \"%H:%M:%S\") ),\n",
    "    ( datetime.strptime('20:00:00', \"%H:%M:%S\"), datetime.strptime('23:59:59', \"%H:%M:%S\") ),\n",
    "    ( datetime.strptime('00:00:00', \"%H:%M:%S\"), datetime.strptime('02:59:59', \"%H:%M:%S\") ),\n",
    "    ( datetime.strptime('03:00:00', \"%H:%M:%S\"), datetime.strptime('05:59:59', \"%H:%M:%S\") )\n",
    "]\n",
    "\n",
    "# Counnting how many reviews have been placed in said intervals\n",
    "output = count_reviews_in_belonging_t_interval(intervals, timeframes)\n",
    "output.plot(x = 'Interval', y='Reviews', kind='bar')"
   ]
  },
  {
   "cell_type": "markdown",
   "metadata": {},
   "source": [
    "# [RQ4] As Steam is a worldwide platform, the reviews can be done in many languages. Let's extract some information about it."
   ]
  },
  {
   "cell_type": "markdown",
   "metadata": {},
   "source": [
    "### What are the top 3 languages used to review applications?"
   ]
  },
  {
   "cell_type": "code",
   "execution_count": 91,
   "metadata": {},
   "outputs": [
    {
     "name": "stdout",
     "output_type": "stream",
     "text": [
      "['english', 'schinese', 'russian']\n"
     ]
    }
   ],
   "source": [
    "top_3_languages = dataframe['language'].value_counts()[:3].index.tolist()\n",
    "print(top_3_languages)"
   ]
  },
  {
   "cell_type": "markdown",
   "metadata": {},
   "source": [
    "### Create a function that receives as parameters both the name of a data set and a list of languages’ names and returns a data frame filtered only with the reviews written in the provided languages."
   ]
  },
  {
   "cell_type": "code",
   "execution_count": 92,
   "metadata": {},
   "outputs": [],
   "source": [
    "def filter_dataset_on_languages(dataset, languages) :\n",
    "    return dataset[dataset['language'].isin(languages)]\n"
   ]
  },
  {
   "cell_type": "markdown",
   "metadata": {},
   "source": [
    "### Use the function created in the previous literal to find what percentage of these reviews (associated with the top 3 languages) were voted as funny?"
   ]
  },
  {
   "cell_type": "code",
   "execution_count": 93,
   "metadata": {},
   "outputs": [],
   "source": [
    "filtered_ds = filter_dataset_on_languages(dataframe, top_3_languages)"
   ]
  },
  {
   "cell_type": "code",
   "execution_count": 94,
   "metadata": {},
   "outputs": [
    {
     "name": "stdout",
     "output_type": "stream",
     "text": [
      "11.99%\n"
     ]
    }
   ],
   "source": [
    "print('{:.2f}%'.format(100 * (len(filtered_ds[filtered_ds['votes_funny'] > 0])) / len(filtered_ds)))"
   ]
  },
  {
   "cell_type": "markdown",
   "metadata": {},
   "source": [
    "### Use the function created in the literal “a” to find what percentage of these reviews (associated with the top 3 languages) were voted as helpful?"
   ]
  },
  {
   "cell_type": "code",
   "execution_count": 95,
   "metadata": {},
   "outputs": [
    {
     "name": "stdout",
     "output_type": "stream",
     "text": [
      "28.50%\n"
     ]
    }
   ],
   "source": [
    "print('{:.2f}%'.format(100 * (len(filtered_ds[filtered_ds['votes_helpful'] > 0])) / len(filtered_ds)))"
   ]
  },
  {
   "cell_type": "markdown",
   "metadata": {},
   "source": [
    "# [RQ5] The reviews' authors are users from the game that provide their opinion on it. Now you can check how often they make reviews.\n",
    "\n"
   ]
  },
  {
   "cell_type": "markdown",
   "metadata": {},
   "source": [
    "### Plot the top 10 most popular reviewers and the number of reviews."
   ]
  },
  {
   "cell_type": "code",
   "execution_count": 96,
   "metadata": {},
   "outputs": [],
   "source": [
    "top_10_reviewers = dataframe[dataframe['author.steamid'].isin(dataframe['author.steamid'].value_counts()[:10].index.tolist())][['author.steamid','author.num_reviews']].drop_duplicates()"
   ]
  },
  {
   "cell_type": "code",
   "execution_count": 97,
   "metadata": {},
   "outputs": [
    {
     "data": {
      "text/plain": [
       "<AxesSubplot:xlabel='Reviewer'>"
      ]
     },
     "execution_count": 97,
     "metadata": {},
     "output_type": "execute_result"
    },
    {
     "data": {
      "image/png": "[encoded data removed]",
      "text/plain": [
       "<Figure size 432x288 with 1 Axes>"
      ]
     },
     "metadata": {
      "needs_background": "light"
     },
     "output_type": "display_data"
    }
   ],
   "source": [
    "reviewers = pd.DataFrame({'Reviewer':top_10_reviewers['author.steamid'], 'Reviews Amount':top_10_reviewers['author.num_reviews']})\n",
    "reviewers.plot(x = 'Reviewer', y = 'Reviews Amount', kind='bar')\n"
   ]
  },
  {
   "cell_type": "markdown",
   "metadata": {},
   "source": [
    "### What applications did the most popular author review?"
   ]
  },
  {
   "cell_type": "code",
   "execution_count": 98,
   "metadata": {},
   "outputs": [],
   "source": [
    "most_popular_author = dataframe['author.steamid'].mode()[0]\n",
    "most_popular_author_reviews = dataframe[dataframe['author.steamid'] == most_popular_author]\n"
   ]
  },
  {
   "cell_type": "code",
   "execution_count": 99,
   "metadata": {},
   "outputs": [
    {
     "name": "stdout",
     "output_type": "stream",
     "text": [
      "         app_id                            app_name\n",
      "512675       70                           Half-Life\n",
      "539037      240              Counter-Strike: Source\n",
      "658130      420            Half-Life 2: Episode Two\n",
      "849477      620                            Portal 2\n",
      "1549581    4000                         Garry's Mod\n",
      "1728583    8930          Sid Meier's Civilization V\n",
      "2141495  381210                    Dead by Daylight\n",
      "2252905  289070         Sid Meier's Civilization VI\n",
      "2392987  264710                          Subnautica\n",
      "2571139  477160                    Human: Fall Flat\n",
      "2646056  242920                            Banished\n",
      "2682381  504230                             Celeste\n",
      "2708381  240720  Getting Over It with Bennett Foddy\n",
      "2743294  253230                       A Hat in Time\n",
      "2913786  242760                          The Forest\n",
      "3289384  332200                         Axiom Verge\n",
      "3393685  250900       The Binding of Isaac: Rebirth\n",
      "3470835  206440                         To the Moon\n",
      "3474508  200900                         Cave Story+\n",
      "3481912  297130                         Titan Souls\n",
      "3510504   40800                      Super Meat Boy\n",
      "3527008  611760     Don't Escape: 4 Days to Survive\n",
      "3528306  247240                  Volgarr the Viking\n",
      "3588070  311690                   Enter the Gungeon\n",
      "3602924  283640                  Salt and Sanctuary\n",
      "3717014  367520                       Hollow Knight\n",
      "3745867  583470                     The End Is Nigh\n",
      "3807274  427520                            Factorio\n",
      "3913822  294100                            RimWorld\n",
      "3971181  581320               Insurgency: Sandstorm\n",
      "4422767  227300              Euro Truck Simulator 2\n",
      "4839918  690830                          Foundation\n",
      "4863995  233860                              Kenshi\n",
      "4896914  590380                     Into the Breach\n",
      "4942547  552500             Warhammer: Vermintide 2\n"
     ]
    }
   ],
   "source": [
    "print(most_popular_author_reviews[['app_id','app_name']])"
   ]
  },
  {
   "cell_type": "markdown",
   "metadata": {},
   "source": [
    "### How many applications did he purchase, and how many did he get as free? Provide the number (count) and the percentage."
   ]
  },
  {
   "cell_type": "code",
   "execution_count": 100,
   "metadata": {},
   "outputs": [
    {
     "name": "stdout",
     "output_type": "stream",
     "text": [
      "Most popular reviewer has : \n",
      "34/35 (97.14%) games that have been purchased\n",
      "1/35 (2.86%) games that have been received for free\n"
     ]
    }
   ],
   "source": [
    "games_received_for_free = most_popular_author_reviews[most_popular_author_reviews['received_for_free'] == True]\n",
    "games_paid = most_popular_author_reviews[most_popular_author_reviews['received_for_free'] == False]\n",
    "\n",
    "amount_paid = len(games_paid)\n",
    "amount_free = len(games_received_for_free)\n",
    "tot = amount_free + amount_paid\n",
    "\n",
    "print(\"Most popular reviewer has : \")\n",
    "print(\"{}/{} ({:.2f}%) games that have been purchased\".format(amount_paid, tot, 100 * amount_paid / tot))\n",
    "print(\"{}/{} ({:.2f}%) games that have been received for free\".format(amount_free, tot, 100 * amount_free / tot))"
   ]
  },
  {
   "cell_type": "markdown",
   "metadata": {},
   "source": [
    "### How many of the applications he purchased reviewed positively, and how many negatively? How about the applications he received for free?"
   ]
  },
  {
   "cell_type": "code",
   "execution_count": 101,
   "metadata": {},
   "outputs": [
    {
     "name": "stdout",
     "output_type": "stream",
     "text": [
      "Author 76561198062813911 has reviewed positively 34 of the 34 purchased.\n",
      "Author 76561198062813911 has reviewed negatively 0 of the 34 purchased.\n",
      "Author 76561198062813911 has reviewed positively 1 of the 1 purchased.\n",
      "Author 76561198062813911 has reviewed negatively 0 of the 1 purchased.\n"
     ]
    }
   ],
   "source": [
    "print(\"Author {} has reviewed positively {} of the {} purchased.\".format(most_popular_author, len(games_paid[games_paid['recommended'] == True]), amount_paid))\n",
    "print(\"Author {} has reviewed negatively {} of the {} purchased.\".format(most_popular_author, len(games_paid[games_paid['recommended'] == False]), amount_paid))\n",
    "print(\"Author {} has reviewed positively {} of the {} purchased.\".format(most_popular_author, len(games_received_for_free[games_received_for_free['recommended'] == True]), amount_free))\n",
    "print(\"Author {} has reviewed negatively {} of the {} purchased.\".format(most_popular_author, len(games_received_for_free[games_received_for_free['recommended'] == False]), amount_free))"
   ]
  },
  {
   "cell_type": "markdown",
   "metadata": {},
   "source": [
    "# [RQ6] It's time to get information from the updates that a user does to his reviews.\n",
    "---"
   ]
  },
  {
   "cell_type": "markdown",
   "metadata": {},
   "source": [
    "### What is the average time (days and minutes) a user lets pass before he updates a review?"
   ]
  },
  {
   "cell_type": "code",
   "execution_count": 102,
   "metadata": {},
   "outputs": [],
   "source": [
    "# Filtering out reviews that don't have updated timestamp\n",
    "updated_reviews = dataframe[dataframe['timestamp_updated'].notnull()]\n",
    "updated_reviews = updated_reviews[updated_reviews['timestamp_updated'] != updated_reviews['timestamp_created']]"
   ]
  },
  {
   "cell_type": "code",
   "execution_count": 103,
   "metadata": {},
   "outputs": [],
   "source": [
    "time_between_updates = updated_reviews.apply(lambda row : (datetime.fromtimestamp(row['timestamp_updated']) - datetime.fromtimestamp(row['timestamp_created'])), axis=1)"
   ]
  },
  {
   "cell_type": "code",
   "execution_count": 104,
   "metadata": {},
   "outputs": [
    {
     "name": "stdout",
     "output_type": "stream",
     "text": [
      "369 days 15:49:46.837960392\n"
     ]
    }
   ],
   "source": [
    "average_time_between_updates = np.mean(time_between_updates)\n",
    "print(average_time_between_updates)"
   ]
  },
  {
   "cell_type": "markdown",
   "metadata": {},
   "source": [
    "### Plot the top 3 authors that usually update their reviews."
   ]
  },
  {
   "cell_type": "code",
   "execution_count": 105,
   "metadata": {},
   "outputs": [
    {
     "data": {
      "text/plain": [
       "<AxesSubplot:title={'center':'Top 3 Review Updaters'}, xlabel='Reviewers', ylabel='Updates Amount'>"
      ]
     },
     "execution_count": 105,
     "metadata": {},
     "output_type": "execute_result"
    },
    {
     "data": {
      "image/png": "[encoded data removed]",
      "text/plain": [
       "<Figure size 432x288 with 1 Axes>"
      ]
     },
     "metadata": {
      "needs_background": "light"
     },
     "output_type": "display_data"
    }
   ],
   "source": [
    "most_frequent_updaters = (updated_reviews['author.steamid'].value_counts()[:3])\n",
    "most_frequent_updaters.plot(kind='bar', title =\"Top 3 Review Updaters\", xlabel=\"Reviewers\", ylabel =\"Updates Amount\")"
   ]
  },
  {
   "cell_type": "markdown",
   "metadata": {},
   "source": [
    "# [RQ7] Of course, calculating probabilities is a job that any Data Scientist must know. Let's compute Some interesting figures.\n",
    "---\n"
   ]
  },
  {
   "cell_type": "markdown",
   "metadata": {},
   "source": [
    "### What’s the probability that a review has a Weighted Vote Score equal to or bigger than 0.5?"
   ]
  },
  {
   "cell_type": "code",
   "execution_count": 106,
   "metadata": {},
   "outputs": [],
   "source": [
    "well_voted_reviews = (dataframe[dataframe['weighted_vote_score'] >= 0.5] )"
   ]
  },
  {
   "cell_type": "code",
   "execution_count": 107,
   "metadata": {},
   "outputs": [
    {
     "name": "stdout",
     "output_type": "stream",
     "text": [
      "21.80%\n"
     ]
    }
   ],
   "source": [
    "well_voted_review_probability = len(well_voted_reviews) / len(dataframe)\n",
    "print('{:.2f}%'.format(100 * well_voted_review_probability))"
   ]
  },
  {
   "cell_type": "markdown",
   "metadata": {},
   "source": [
    "### What’s the probability that a review has at least one vote as funny given that the Weighted Vote Score is bigger than 0.5?"
   ]
  },
  {
   "cell_type": "code",
   "execution_count": 108,
   "metadata": {},
   "outputs": [],
   "source": [
    "funny_and_well_voted_reviews = well_voted_reviews[well_voted_reviews['votes_funny'] > 0]"
   ]
  },
  {
   "cell_type": "code",
   "execution_count": 109,
   "metadata": {},
   "outputs": [],
   "source": [
    "funny_and_well_voted_reviews_probability = (len(funny_and_well_voted_reviews) / len(well_voted_reviews))"
   ]
  },
  {
   "cell_type": "code",
   "execution_count": 110,
   "metadata": {},
   "outputs": [
    {
     "name": "stdout",
     "output_type": "stream",
     "text": [
      "24.80%\n"
     ]
    }
   ],
   "source": [
    "print('{:.2f}%'.format(100 * funny_and_well_voted_reviews_probability))"
   ]
  },
  {
   "cell_type": "markdown",
   "metadata": {},
   "source": [
    "### Is the probability that “a review has at least one vote as funny” independent of the “probability that a review has a Weighted Vote Score equal or bigger than 0.5”?"
   ]
  },
  {
   "cell_type": "markdown",
   "metadata": {},
   "source": [
    "by definition probs are indipendent if the prob of their interception is equal to p(a) * p(b).. so..."
   ]
  },
  {
   "cell_type": "code",
   "execution_count": 111,
   "metadata": {},
   "outputs": [],
   "source": [
    "funny_reviews = dataframe[dataframe['votes_funny'] > 0]\n",
    "funny_well_voted_interception = (dataframe.query('votes_funny > 0 & weighted_vote_score >= 0.5'))"
   ]
  },
  {
   "cell_type": "code",
   "execution_count": 112,
   "metadata": {},
   "outputs": [],
   "source": [
    "funny_reviews_probability = len(funny_reviews)/len(dataframe)\n",
    "\n",
    "funny_times_well_voted_probability = funny_reviews_probability * well_voted_review_probability\n",
    "funny_well_voted_interception_probability = len(funny_well_voted_interception)/len(dataframe)"
   ]
  },
  {
   "cell_type": "code",
   "execution_count": 113,
   "metadata": {},
   "outputs": [
    {
     "name": "stdout",
     "output_type": "stream",
     "text": [
      "False\n"
     ]
    }
   ],
   "source": [
    "print(funny_well_voted_interception_probability == funny_times_well_voted_probability)"
   ]
  },
  {
   "cell_type": "markdown",
   "metadata": {},
   "source": [
    "# [RQ8] Every decision you take in a data-based environment should be reinforced with charts, statistical tests and analysis methods to check if a hypothesis is correct or not.\n",
    "---"
   ]
  },
  {
   "cell_type": "markdown",
   "metadata": {},
   "source": [
    "### Is there a significant difference in the Weighted Vote Score of reviews made in Chinese vs the ones made in Russian? Use an appropriate statistical test or technique and support your choice.\n"
   ]
  },
  {
   "cell_type": "code",
   "execution_count": 114,
   "metadata": {},
   "outputs": [
    {
     "name": "stdout",
     "output_type": "stream",
     "text": [
      "<class 'list'>\n"
     ]
    },
    {
     "data": {
      "text/plain": [
       "<Figure size 432x288 with 0 Axes>"
      ]
     },
     "metadata": {},
     "output_type": "display_data"
    },
    {
     "data": {
      "image/png": "[encoded data removed]",
      "text/plain": [
       "<Figure size 1224x576 with 1 Axes>"
      ]
     },
     "metadata": {
      "needs_background": "light"
     },
     "output_type": "display_data"
    },
    {
     "name": "stdout",
     "output_type": "stream",
     "text": [
      "The p-value of the test is:  0.0\n"
     ]
    }
   ],
   "source": [
    "#from scipy.stats import mannwhitneyu\n",
    "import scipy.stats as stats\n",
    "#from scipy.stats import wilcoxon\n",
    "from scipy.stats import ks_2samp\n",
    "\n",
    "\n",
    "dataframe_chin_rus=dataframe[(dataframe['language']=='schinese') | (dataframe['language']=='russian') ]\n",
    "dataframe_chin_rus=dataframe_chin_rus[['weighted_vote_score','language']]\n",
    "df_weight_rus = dataframe_chin_rus[dataframe_chin_rus['language']=='russian']['weighted_vote_score'].tolist()\n",
    "df_weight_chin = dataframe_chin_rus[dataframe_chin_rus['language']=='schinese']['weighted_vote_score'].tolist()\n",
    "\n",
    "print(type(df_weight_rus))\n",
    "#print(df_weight_rus.describe())\n",
    "#print(df_weight_chin.describe())\n",
    "\n",
    "#print('Mean of weighted scores of the Russian reviews are :',df_weight_rus.mean(),\n",
    "#      '\\nMean of weighted scores of the chinese reviews are : ',df_weight_chin.mean())\n",
    "\n",
    "plt.figure()\n",
    "fig=plt.figure(figsize=(17,8))\n",
    "\n",
    "bins=np.linspace(0,1,25)\n",
    "plt.hist(df_weight_rus, bins,alpha=0.5, label=\"russian\")\n",
    "plt.hist(df_weight_chin, bins,alpha=0.5, label=\"chinese\")\n",
    "plt.legend(loc='upper right')\n",
    "plt.show()\n",
    "\n",
    "#w,p=mannwhitneyu(df_weight_rus,df_weight_chin)\n",
    "w,p = ks_2samp(df_weight_rus,df_weight_chin)\n",
    "ttest=stats.ttest_ind(df_weight_rus,df_weight_chin, equal_var=False)\n",
    "\n",
    "print('The p-value of the test is: ',p)\n"
   ]
  },
  {
   "cell_type": "markdown",
   "metadata": {},
   "source": [
    "We are confronting two distributions, the Chinese weighted score and the Russian weighted score. \n",
    "- In this case, we don't have normal distributed values, so we are going to use the Kolmogorov-Smirnov test of the scipy library: it's a non parametric test for the null hypothesis that the distribution underlying sample x is the same as the distribution underlying sample y.\n",
    "- The two means are different, and the significance test results have a p-value of <0.05. We can assume that the two weighted scores are significantly different. "
   ]
  },
  {
   "cell_type": "markdown",
   "metadata": {},
   "source": [
    "### Can you find any significant relationship between the time that a user lets pass before he updates the review and the Weighted Vote Score? Use an appropriate statistical test or technique and support your choice.\n"
   ]
  },
  {
   "cell_type": "code",
   "execution_count": 115,
   "metadata": {},
   "outputs": [],
   "source": [
    "import seaborn as sns \n",
    "timeframes = pd.to_datetime(dataframe['timestamp_created'].apply(lambda time : (datetime.fromtimestamp(time))))\n",
    "timeframes_upd = pd.to_datetime(dataframe['timestamp_updated'].apply(lambda time : (datetime.fromtimestamp(time))))\n",
    "#The difference between updated time and created time gives us the Gap time between updation.\n",
    "timeframe_gaptime = timeframes_upd - timeframes\n",
    "timeframe_gaptime= timeframe_gaptime / np.timedelta64(1, 's')\n",
    "\n",
    "\n",
    "weighted = dataframe['weighted_vote_score']\n",
    "\n",
    "data={'Gaptime': timeframe_gaptime,\n",
    "      'VotedWeights' : weighted,\n",
    "      'Recommended': dataframe['recommended']\n",
    "     }\n",
    "time_weight_df=pd.DataFrame(data)\n"
   ]
  },
  {
   "cell_type": "code",
   "execution_count": 116,
   "metadata": {},
   "outputs": [
    {
     "data": {
      "text/plain": [
       "<Figure size 432x288 with 0 Axes>"
      ]
     },
     "metadata": {},
     "output_type": "display_data"
    },
    {
     "data": {
      "image/png": "[encoded data removed]",
      "text/plain": [
       "<Figure size 1224x576 with 1 Axes>"
      ]
     },
     "metadata": {
      "needs_background": "light"
     },
     "output_type": "display_data"
    },
    {
     "name": "stdout",
     "output_type": "stream",
     "text": [
      "The R-Squared value of the correlation between Weighted score and GapTime is:  -0.04103767238264977\n"
     ]
    }
   ],
   "source": [
    "##plot\n",
    "plt.figure()\n",
    "fig=plt.figure(figsize=(17,8))\n",
    "sns.scatterplot(data=time_weight_df, x='Gaptime', y='VotedWeights')\n",
    "plt.title('Scatterplot of Gap time between updates of reviews and Weighted Score')\n",
    "plt.xlabel('Gap Time')\n",
    "plt.ylabel('Weighted Vote Score')\n",
    "plt.show()\n",
    "\n",
    "from sklearn.metrics import r2_score\n",
    "\n",
    "print('The R-Squared value of the correlation between Weighted score and GapTime is: ',r2_score(time_weight_df['Gaptime'],time_weight_df['VotedWeights'] ))"
   ]
  },
  {
   "cell_type": "markdown",
   "metadata": {},
   "source": [
    "From the scatter-plot we can see how there is no linear correlation between the variables, with a low R_Squared measure. "
   ]
  },
  {
   "cell_type": "markdown",
   "metadata": {},
   "source": [
    "### Is there any change in the relationship of the variables mentioned in the previous literal if you include whether an application is recommended or not in the review? Use an appropriate statistical test or technique and support your choice."
   ]
  },
  {
   "cell_type": "code",
   "execution_count": null,
   "metadata": {},
   "outputs": [
    {
     "data": {
      "text/plain": [
       "<Figure size 432x288 with 0 Axes>"
      ]
     },
     "metadata": {},
     "output_type": "display_data"
    }
   ],
   "source": [
    "plt.figure()\n",
    "fig=plt.figure(figsize=(15,8))\n",
    "sns.scatterplot(data=time_weight_df, x='Gaptime', y='VotedWeights', hue='Recommended')\n",
    "plt.title('Scatterplot of Gap time between updates of reviews and Weighted Score')\n",
    "plt.xlabel('Gap Time')\n",
    "plt.ylabel('Weighted Vote Score')\n",
    "plt.show()\n",
    "\n",
    "print('The R-Squared of the Recommended reviews is :',\n",
    "      r2_score(time_weight_df[time_weight_df['Recommended']==True]['Gaptime'],\n",
    "time_weight_df[time_weight_df['Recommended']==True]['VotedWeights'] ))\n",
    "\n",
    "print( 'The R-Squared of the Not Recommended reviews is : ', \n",
    "r2_score(time_weight_df[time_weight_df['Recommended']==False]['Gaptime'],\n",
    "time_weight_df[time_weight_df['Recommended']==False]['VotedWeights'] ))\n"
   ]
  },
  {
   "cell_type": "markdown",
   "metadata": {},
   "source": [
    "There is no real difference, even if we analyze according the Recommended variable."
   ]
  },
  {
   "cell_type": "markdown",
   "metadata": {},
   "source": [
    "### What are histograms, bar plots, scatterplots and pie charts used for?"
   ]
  },
  {
   "cell_type": "markdown",
   "metadata": {},
   "source": [
    "This techniques of presenting data are really useful when we want to present in a visible way the relation between our variables. ###to be continued"
   ]
  },
  {
   "cell_type": "markdown",
   "metadata": {},
   "source": [
    "### What insights can you extract from a Box Plot?"
   ]
  },
  {
   "cell_type": "markdown",
   "metadata": {},
   "source": [
    "A Boxplot is a simple graphic way to represent our data: a rectangle is drawn #to be continued"
   ]
  },
  {
   "cell_type": "code",
   "execution_count": null,
   "metadata": {},
   "outputs": [],
   "source": [
    "#example of boxplot\n",
    "dataframe_chin_rus.boxplot(column=['weighted_vote_score'], by=['language'],figsize=(9,6))"
   ]
  },
  {
   "cell_type": "markdown",
   "metadata": {},
   "source": [
    "# Teoretical Questions \n",
    "---"
   ]
  },
  {
   "cell_type": "markdown",
   "metadata": {},
   "source": [
    "# [TQ1]\n",
    "\n",
    "We are given the following algorithm.\n",
    "```\n",
    "Input: \n",
    "    A: array of length n\n",
    "    k: integers between 1 and n\n",
    "    \n",
    "function alg(A, k):\n",
    "  s <-- a random element of A\n",
    "  set L = [all the elements of A with value <= s]\n",
    "  set R = [all the elements of A with value > s]\n",
    "  r = len(L)\n",
    "  if k == r:\n",
    "    return s\n",
    "  else if k < r:  \n",
    "    return alg(L, k)\n",
    "  else:\n",
    "    return alg(R, k - r)\n",
    "```\n",
    "What does the algorithm compute?\n",
    "What is asymptotically (i.e., we are asking for big-O complexity) the running time of the algorithm in the worst case, as a function of n?\n",
    "What is asymptotically the running time of the algorithm in the best case?"
   ]
  },
  {
   "cell_type": "code",
   "execution_count": null,
   "metadata": {},
   "outputs": [],
   "source": []
  },
  {
   "cell_type": "markdown",
   "metadata": {},
   "source": [
    "# TQ2\n",
    "You are given the recursive function splitSwap, which accepts an array a, an index i, and a length n.\n",
    "```\n",
    "function splitSwap(a, l, n):\n",
    "  if n <= 1:\n",
    "    return\n",
    "  splitSwap(a, l, n/2)\n",
    "  splitSwap(a, l+ n /2, n/2)\n",
    "  swapList(a, l, n)\n",
    "The subroutine swapList is described here:\n",
    "\n",
    "function swapList(a, l, n):\n",
    "  for i = 0 to n/2:\n",
    "    tmp = a[l + i]\n",
    "    a[l + i] = a[l + n/2 + i]\n",
    "    a[l + n/2 + i] = tmp\n",
    " ```\n",
    "How much running time does it take to execute splitSwap(a, 0, n)? (We want a Big O analysis.)\n",
    "What does this algorithm do? Is it optimal? Describe the mechanism of the algorithm in details, we do not want to know only its final result.\n",
    "HINT: Consider the scenario where len(a) and n are numbers that are a power of 2.\n",
    "\n",
    "---"
   ]
  },
  {
   "cell_type": "markdown",
   "metadata": {},
   "source": [
    "### How does it work?\n",
    "This algorithm is designed to *split* **a** (the input) starting from index *L* and to swap every item after its *Lth*.  \n",
    "\n",
    "The algorithm implements a recursive function that modifies the input by enqueueing operations in a tree-like structure, with depth equal to :    \n",
    "**2^d = N**.   \n",
    "Where d is the *depth*\n",
    "\n",
    "Visually:    \n",
    "<img src=\"https://user-images.githubusercontent.com/50860347/139086690-4bf9b177-1231-4a08-aa1e-adde8215eaa6.jpg\" alt=\"Tree structure\" width=\"400\"/>\n",
    "\n",
    "The tree is then computed by visiting the left child first [**splitSwap(a, l, n/2)**], then the right one [**splitSwap(a, l+ n /2, n/2)**] and at last their parent: [**splitSwap(a, l, n)**].\n",
    "\n",
    "In order to work without throwing errors the algorithm requires some **constraints** to be respected: In particular, N has to be smaller than len(a)/2 and l+N has to be smaller than len(a).   This is required to avoid **Index Out Of Bound Exceptions**"
   ]
  },
  {
   "cell_type": "markdown",
   "metadata": {},
   "source": [
    "# git is **kinda** fun"
   ]
  },
  {
   "cell_type": "code",
   "execution_count": null,
   "metadata": {},
   "outputs": [],
   "source": []
  },
  {
   "cell_type": "code",
   "execution_count": null,
   "metadata": {},
   "outputs": [],
   "source": []
  },
  {
   "cell_type": "code",
   "execution_count": null,
   "metadata": {},
   "outputs": [],
   "source": []
  },
  {
   "cell_type": "code",
   "execution_count": null,
   "metadata": {},
   "outputs": [],
   "source": []
  },
  {
   "cell_type": "code",
   "execution_count": null,
   "metadata": {},
   "outputs": [],
   "source": []
  },
  {
   "cell_type": "code",
   "execution_count": null,
   "metadata": {},
   "outputs": [],
   "source": []
  },
  {
   "cell_type": "code",
   "execution_count": null,
   "metadata": {},
   "outputs": [],
   "source": []
  },
  {
   "cell_type": "code",
   "execution_count": null,
   "metadata": {},
   "outputs": [],
   "source": []
  },
  {
   "cell_type": "code",
   "execution_count": null,
   "metadata": {},
   "outputs": [],
   "source": []
  },
  {
   "cell_type": "code",
   "execution_count": null,
   "metadata": {},
   "outputs": [],
   "source": []
  },
  {
   "cell_type": "code",
   "execution_count": null,
   "metadata": {},
   "outputs": [],
   "source": []
  },
  {
   "cell_type": "code",
   "execution_count": null,
   "metadata": {},
   "outputs": [],
   "source": []
  }
 ],
 "metadata": {
  "colab": {
   "collapsed_sections": [
    "d9bt-NZaFbm2",
    "YRfbLFOuFlhR",
    "v3YouPvQF1Co"
   ],
   "name": "main.ipynb",
   "provenance": []
  },
  "interpreter": {
   "hash": "f2aa7c95bd86456af63100c3cd7a0850f99a04d60470a2adcdc01225edcb23fb"
  },
  "kernelspec": {
   "display_name": "Python 3",
   "language": "python",
   "name": "python3"
  },
  "language_info": {
   "codemirror_mode": {
    "name": "ipython",
    "version": 3
   },
   "file_extension": ".py",
   "mimetype": "text/x-python",
   "name": "python",
   "nbconvert_exporter": "python",
   "pygments_lexer": "ipython3",
   "version": "3.8.8"
  }
 },
 "nbformat": 4,
 "nbformat_minor": 4
}
