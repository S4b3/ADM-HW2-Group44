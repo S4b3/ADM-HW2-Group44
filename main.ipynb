{
 "cells": [
  {
   "cell_type": "markdown",
   "metadata": {
    "id": "vP52gxeryd5Z"
   },
   "source": [
    "# Kaggle Imports\n",
    "---\n",
    "Uncomment and run those cells if you're working on Cloud and you need to import the dataset!"
   ]
  },
  {
   "cell_type": "markdown",
   "metadata": {
    "id": "J_qk4_oYyd5c"
   },
   "source": [
    "- Use this on Colab to import your api json\n",
    "  "
   ]
  },
  {
   "cell_type": "code",
   "execution_count": 265,
   "metadata": {
    "colab": {
     "base_uri": "https://localhost:8080/",
     "height": 55,
     "resources": {
      "http://localhost:8080/nbextensions/google.colab/files.js": {
       "data": "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",
       "headers": [
        [
         "content-type",
         "application/javascript"
        ]
       ],
       "ok": true,
       "status": 200,
       "status_text": ""
      }
     }
    },
    "id": "Y187VC4CbxLD",
    "outputId": "593c2ccb-d922-4965-d12c-a0a2bc0e2041"
   },
   "outputs": [
    {
     "data": {
      "text/html": [
       "\n",
       "     <input type=\"file\" id=\"files-232b0a91-1d89-498a-9294-01b0d1c298ba\" name=\"files[]\" multiple disabled\n",
       "        style=\"border:none\" />\n",
       "     <output id=\"result-232b0a91-1d89-498a-9294-01b0d1c298ba\">\n",
       "      Upload widget is only available when the cell has been executed in the\n",
       "      current browser session. Please rerun this cell to enable.\n",
       "      </output>\n",
       "      <script src=\"/nbextensions/google.colab/files.js\"></script> "
      ],
      "text/plain": [
       "<IPython.core.display.HTML object>"
      ]
     },
     "metadata": {},
     "output_type": "display_data"
    },
    {
     "name": "stdout",
     "output_type": "stream",
     "text": [
      "mv: cannot stat 'kaggle.json': No such file or directory\n"
     ]
    }
   ],
   "source": [
    "'''\n",
    "from google.colab import files\n",
    "\n",
    "uploaded = files.upload()\n",
    "\n",
    "for fn in uploaded.keys():\n",
    "  print('User uploaded file \"{name}\" with length {length} bytes'.format(\n",
    "      name=fn, length=len(uploaded[fn])))\n",
    "  \n",
    "# Then move kaggle.json into the folder where the API expects to find it.\n",
    "!mkdir -p ~/.kaggle/ && mv kaggle.json ~/.kaggle/ && chmod 600 ~/.kaggle/kaggle.json\n",
    "'''"
   ]
  },
  {
   "cell_type": "markdown",
   "metadata": {
    "id": "2BanQdEOyd5e"
   },
   "source": [
    "- Install Kaggle and import then unzip dataset"
   ]
  },
  {
   "cell_type": "code",
   "execution_count": 1,
   "metadata": {
    "colab": {
     "base_uri": "https://localhost:8080/",
     "height": 35
    },
    "id": "CKprt9Tlbki5",
    "outputId": "675743cb-154d-4cc3-9ee5-d2afadb5b799"
   },
   "outputs": [
    {
     "name": "stdout",
     "output_type": "stream",
     "text": [
      "^C\n",
      "^C\n"
     ]
    }
   ],
   "source": [
    "'''\n",
    "!pip install pandas\n",
    "!pip install kaggle\n",
    "!pip install googletrans==3.1.0a0\n",
    "!kaggle datasets download -d najzeko/steam-reviews-2021\n",
    "!unzip steam-reviews-2021.zip\n",
    "'''"
   ]
  },
  {
   "cell_type": "code",
   "execution_count": 2,
   "metadata": {},
   "outputs": [
    {
     "data": {
      "text/plain": [
       "' bonus imports \\n!wget https://sapienza2021adm.s3.eu-south-1.amazonaws.com/steam_reviews_bonus_1.zip\\n'"
      ]
     },
     "execution_count": 2,
     "metadata": {},
     "output_type": "execute_result"
    }
   ],
   "source": [
    "''' bonus imports \n",
    "!wget https://sapienza2021adm.s3.eu-south-1.amazonaws.com/steam_reviews_bonus_1.zip\n",
    "'''\n"
   ]
  },
  {
   "cell_type": "markdown",
   "metadata": {
    "id": "IE8vIaIyyd5g"
   },
   "source": [
    "  # Libraries and Functions imports"
   ]
  },
  {
   "cell_type": "code",
   "execution_count": 3,
   "metadata": {
    "id": "uzhoYvwneec0"
   },
   "outputs": [],
   "source": [
    "import pandas as pd\n",
    "import numpy as np        \n",
    "from datetime import datetime\n",
    "import matplotlib.pyplot as plt\n",
    "from googletrans import Translator"
   ]
  },
  {
   "cell_type": "code",
   "execution_count": 4,
   "metadata": {
    "colab": {
     "base_uri": "https://localhost:8080/"
    },
    "id": "RKj2FQ0_fqq3",
    "outputId": "fff0d458-f561-4492-c836-6d96a7957241"
   },
   "outputs": [
    {
     "name": "stdout",
     "output_type": "stream",
     "text": [
      "Index(['Unnamed: 0', 'app_id', 'app_name', 'review_id', 'language', 'review',\n",
      "       'timestamp_created', 'timestamp_updated', 'recommended',\n",
      "       'votes_helpful', 'votes_funny', 'weighted_vote_score', 'comment_count',\n",
      "       'steam_purchase', 'received_for_free', 'written_during_early_access',\n",
      "       'author.steamid', 'author.num_games_owned', 'author.num_reviews',\n",
      "       'author.playtime_forever', 'author.playtime_last_two_weeks',\n",
      "       'author.playtime_at_review', 'author.last_played'],\n",
      "      dtype='object')\n"
     ]
    }
   ],
   "source": [
    "# read the main csv and parse it in a pandas dataframe \n",
    "dataframe = pd.read_csv('./steam_reviews.csv')\n",
    "print(dataframe.columns)"
   ]
  },
  {
   "cell_type": "markdown",
   "metadata": {},
   "source": [
    "# Bonus dataset imports"
   ]
  },
  {
   "cell_type": "markdown",
   "metadata": {},
   "source": [
    "### Here we import the bonus dataset and append it to the main one.\n",
    "*to facilitate the reading we will refer to the bonus dataset as \"bonus\" and to the main dataset as \"main\".*   \n",
    "In order to do so, some steps are required:\n",
    "- *Import* the bonuses and merge them together\n",
    "- *Check* if bonus and main have the same columns\n",
    "- *Rearrange* bonus columns to equal main's\n",
    "- *Check* the dtypes of bonus and main columns to find differences\n",
    "- *Parse* bonus columns in the relative correct dtype"
   ]
  },
  {
   "cell_type": "code",
   "execution_count": 5,
   "metadata": {},
   "outputs": [
    {
     "name": "stderr",
     "output_type": "stream",
     "text": [
      "C:\\Users\\Valentino\\anaconda3\\lib\\site-packages\\IPython\\core\\interactiveshell.py:3165: DtypeWarning: Columns (0,8,9,10,14,15,16) have mixed types.Specify dtype option on import or set low_memory=False.\n",
      "  has_raised = await self.run_ast_nodes(code_ast.body, cell_name,\n"
     ]
    }
   ],
   "source": [
    "df_extensions_joined = pd.read_csv('./steam_reviews_bonus_1.csv').append(pd.read_csv('./steam_reviews_bonus_2.csv'))"
   ]
  },
  {
   "cell_type": "code",
   "execution_count": 6,
   "metadata": {},
   "outputs": [
    {
     "name": "stdout",
     "output_type": "stream",
     "text": [
      "['Unnamed: 0', 'Unnamed: 0.1', 'app_id', 'app_name', 'review_id', 'language', 'review', 'timestamp_created', 'timestamp_updated', 'recommended', 'votes_helpful', 'votes_funny', 'weighted_vote_score', 'comment_count', 'steam_purchase', 'received_for_free', 'written_during_early_access', 'author.steamid', 'author.num_games_owned', 'author.num_reviews', 'author.playtime_forever', 'author.playtime_last_two_weeks', 'author.playtime_at_review', 'author.last_played']\n",
      "['Unnamed: 0', 'app_id', 'app_name', 'review_id', 'language', 'review', 'timestamp_created', 'timestamp_updated', 'recommended', 'votes_helpful', 'votes_funny', 'weighted_vote_score', 'comment_count', 'steam_purchase', 'received_for_free', 'written_during_early_access', 'author.steamid', 'author.num_games_owned', 'author.num_reviews', 'author.playtime_forever', 'author.playtime_last_two_weeks', 'author.playtime_at_review', 'author.last_played']\n"
     ]
    }
   ],
   "source": [
    "# rearrange df columns\n",
    "cols = list(df_extensions_joined.columns.values)\n",
    "print(cols)\n",
    "main_cols = list(dataframe.columns.values)\n",
    "print(main_cols)"
   ]
  },
  {
   "cell_type": "code",
   "execution_count": 7,
   "metadata": {},
   "outputs": [],
   "source": [
    "cols = cols[:1] + cols[2:]\n",
    "df_extensions_joined = df_extensions_joined[cols]"
   ]
  },
  {
   "cell_type": "code",
   "execution_count": 8,
   "metadata": {},
   "outputs": [
    {
     "name": "stdout",
     "output_type": "stream",
     "text": [
      "True\n"
     ]
    }
   ],
   "source": [
    "print(cols == list(dataframe.columns.values))"
   ]
  },
  {
   "cell_type": "code",
   "execution_count": 9,
   "metadata": {},
   "outputs": [
    {
     "name": "stdout",
     "output_type": "stream",
     "text": [
      "Unnamed: 0                        False\n",
      "app_id                            False\n",
      "app_name                           True\n",
      "review_id                          True\n",
      "language                           True\n",
      "review                             True\n",
      "timestamp_created                 False\n",
      "timestamp_updated                 False\n",
      "recommended                       False\n",
      "votes_helpful                     False\n",
      "votes_funny                       False\n",
      "weighted_vote_score                True\n",
      "comment_count                     False\n",
      "steam_purchase                    False\n",
      "received_for_free                 False\n",
      "written_during_early_access       False\n",
      "author.steamid                    False\n",
      "author.num_games_owned            False\n",
      "author.num_reviews                False\n",
      "author.playtime_forever            True\n",
      "author.playtime_last_two_weeks     True\n",
      "author.playtime_at_review          True\n",
      "author.last_played                 True\n",
      "dtype: bool\n"
     ]
    }
   ],
   "source": [
    "print(dataframe.dtypes == df_extensions_joined.dtypes)"
   ]
  },
  {
   "cell_type": "code",
   "execution_count": 10,
   "metadata": {},
   "outputs": [
    {
     "name": "stdout",
     "output_type": "stream",
     "text": [
      "Unnamed: 0                          int64\n",
      "app_id                              int64\n",
      "app_name                           object\n",
      "review_id                           int64\n",
      "language                           object\n",
      "review                             object\n",
      "timestamp_created                   int64\n",
      "timestamp_updated                   int64\n",
      "recommended                          bool\n",
      "votes_helpful                       int64\n",
      "votes_funny                         int64\n",
      "weighted_vote_score               float64\n",
      "comment_count                       int64\n",
      "steam_purchase                       bool\n",
      "received_for_free                    bool\n",
      "written_during_early_access          bool\n",
      "author.steamid                      int64\n",
      "author.num_games_owned              int64\n",
      "author.num_reviews                  int64\n",
      "author.playtime_forever           float64\n",
      "author.playtime_last_two_weeks    float64\n",
      "author.playtime_at_review         float64\n",
      "author.last_played                float64\n",
      "dtype: object\n",
      "Unnamed: 0                         object\n",
      "app_id                            float64\n",
      "app_name                           object\n",
      "review_id                           int64\n",
      "language                           object\n",
      "review                             object\n",
      "timestamp_created                 float64\n",
      "timestamp_updated                  object\n",
      "recommended                        object\n",
      "votes_helpful                      object\n",
      "votes_funny                       float64\n",
      "weighted_vote_score               float64\n",
      "comment_count                     float64\n",
      "steam_purchase                     object\n",
      "received_for_free                  object\n",
      "written_during_early_access        object\n",
      "author.steamid                    float64\n",
      "author.num_games_owned            float64\n",
      "author.num_reviews                float64\n",
      "author.playtime_forever           float64\n",
      "author.playtime_last_two_weeks    float64\n",
      "author.playtime_at_review         float64\n",
      "author.last_played                float64\n",
      "dtype: object\n"
     ]
    }
   ],
   "source": [
    "print(dataframe.dtypes)\n",
    "print(df_extensions_joined.dtypes)"
   ]
  },
  {
   "cell_type": "code",
   "execution_count": 11,
   "metadata": {},
   "outputs": [],
   "source": [
    "# Converting all \"Object\" columns into int64\n",
    "# unnamed\n",
    "df_extensions_joined['Unnamed: 0'] = pd.to_numeric(df_extensions_joined['Unnamed: 0'], errors='coerce')\n",
    "df_extensions_joined['Unnamed: 0'] = df_extensions_joined['Unnamed: 0'].fillna(0).astype(np.dtype('int64'))\n",
    "# timestamp_created\n",
    "df_extensions_joined['timestamp_created'] = pd.to_numeric(df_extensions_joined['timestamp_created'], errors='coerce')\n",
    "df_extensions_joined['timestamp_created'] = df_extensions_joined['timestamp_created'].fillna(0).astype(np.dtype('int64'))\n",
    "# timestamp_updated\n",
    "df_extensions_joined['timestamp_updated'] = pd.to_numeric(df_extensions_joined['timestamp_updated'], errors='coerce')\n",
    "df_extensions_joined['timestamp_updated'] = df_extensions_joined['timestamp_updated'].fillna(0).astype(np.dtype('int64'))\n",
    "# votes_helpful\n",
    "df_extensions_joined['votes_helpful'] = pd.to_numeric(df_extensions_joined['votes_helpful'], errors='coerce')\n",
    "df_extensions_joined['votes_helpful'] = df_extensions_joined['votes_helpful'].fillna(0).astype(np.dtype('int64'))\n",
    "# votes_funny\n",
    "df_extensions_joined['votes_funny'] = pd.to_numeric(df_extensions_joined['votes_funny'], errors='coerce')\n",
    "df_extensions_joined['votes_funny'] = df_extensions_joined['votes_funny'].fillna(0).astype(np.dtype('int64'))\n",
    "\n",
    "# Converting floats into int64\n",
    "# app_id\n",
    "df_extensions_joined['app_id'] = df_extensions_joined['app_id'].fillna(0).astype(np.dtype('int64'))\n",
    "# comment_count\n",
    "df_extensions_joined['comment_count'] = df_extensions_joined['comment_count'].fillna(0).astype(np.dtype('int64'))\n",
    "# author.steamid\n",
    "df_extensions_joined['author.steamid'] = df_extensions_joined['author.steamid'].fillna(0).astype(np.dtype('int64'))\n",
    "# author.num_games_owned\n",
    "df_extensions_joined['author.num_games_owned'] = df_extensions_joined['author.num_games_owned'].fillna(0).astype(np.dtype('int64'))\n",
    "# author.num_reviews\n",
    "df_extensions_joined['author.num_reviews'] = df_extensions_joined['author.num_reviews'].fillna(0).astype(np.dtype('int64'))\n",
    "\n",
    "# Converting object into bool\n",
    "# recommended\n",
    "df_extensions_joined['recommended'] = df_extensions_joined['recommended'].apply(str).str.replace(' ', '')\n",
    "df_extensions_joined['recommended'] = df_extensions_joined['recommended'].apply(bool)\n",
    "# received_for_free\n",
    "df_extensions_joined['received_for_free'] = df_extensions_joined['received_for_free'].apply(str).str.replace(' ', '')\n",
    "df_extensions_joined['received_for_free'] = df_extensions_joined['received_for_free'].apply(bool)\n",
    "# written_during_early_access\n",
    "df_extensions_joined['written_during_early_access'] = df_extensions_joined['written_during_early_access'].apply(str).str.replace(' ', '')\n",
    "df_extensions_joined['written_during_early_access'] = df_extensions_joined['written_during_early_access'].apply(bool)\n",
    "# steam_purchase\n",
    "df_extensions_joined['steam_purchase'] = df_extensions_joined['steam_purchase'].apply(str).str.replace(' ', '')\n",
    "df_extensions_joined['steam_purchase'] = df_extensions_joined['steam_purchase'].apply(bool)"
   ]
  },
  {
   "cell_type": "code",
   "execution_count": 12,
   "metadata": {},
   "outputs": [
    {
     "name": "stdout",
     "output_type": "stream",
     "text": [
      "Unnamed: 0                        True\n",
      "app_id                            True\n",
      "app_name                          True\n",
      "review_id                         True\n",
      "language                          True\n",
      "review                            True\n",
      "timestamp_created                 True\n",
      "timestamp_updated                 True\n",
      "recommended                       True\n",
      "votes_helpful                     True\n",
      "votes_funny                       True\n",
      "weighted_vote_score               True\n",
      "comment_count                     True\n",
      "steam_purchase                    True\n",
      "received_for_free                 True\n",
      "written_during_early_access       True\n",
      "author.steamid                    True\n",
      "author.num_games_owned            True\n",
      "author.num_reviews                True\n",
      "author.playtime_forever           True\n",
      "author.playtime_last_two_weeks    True\n",
      "author.playtime_at_review         True\n",
      "author.last_played                True\n",
      "dtype: bool\n"
     ]
    }
   ],
   "source": [
    "print(dataframe.dtypes == df_extensions_joined.dtypes)"
   ]
  },
  {
   "cell_type": "code",
   "execution_count": 13,
   "metadata": {},
   "outputs": [
    {
     "name": "stdout",
     "output_type": "stream",
     "text": [
      "0          The Witcher 3: Wild Hunt\n",
      "1          The Witcher 3: Wild Hunt\n",
      "2          The Witcher 3: Wild Hunt\n",
      "3          The Witcher 3: Wild Hunt\n",
      "4          The Witcher 3: Wild Hunt\n",
      "                     ...           \n",
      "6999999                   Frostpunk\n",
      "7000000                   Frostpunk\n",
      "7000001                   Frostpunk\n",
      "7000002                   Frostpunk\n",
      "7000003                   Frostpunk\n",
      "Name: app_name, Length: 17000008, dtype: object\n"
     ]
    }
   ],
   "source": [
    "print(df_extensions_joined['app_name'])"
   ]
  },
  {
   "cell_type": "code",
   "execution_count": 14,
   "metadata": {},
   "outputs": [],
   "source": [
    "# df_extensions_joined.to_csv('hw2_bonus_dataset.csv')"
   ]
  },
  {
   "cell_type": "code",
   "execution_count": 15,
   "metadata": {},
   "outputs": [],
   "source": [
    "dataframe = dataframe.append(df_extensions_joined)"
   ]
  },
  {
   "cell_type": "markdown",
   "metadata": {},
   "source": [
    "# [RQ1]"
   ]
  },
  {
   "cell_type": "code",
   "execution_count": 16,
   "metadata": {},
   "outputs": [
    {
     "name": "stdout",
     "output_type": "stream",
     "text": [
      "(38747379, 23)\n"
     ]
    }
   ],
   "source": [
    "print(dataframe.shape)\n"
   ]
  },
  {
   "cell_type": "markdown",
   "metadata": {},
   "source": [
    "In this dataset we have Nrows and 23 variables."
   ]
  },
  {
   "cell_type": "code",
   "execution_count": 17,
   "metadata": {},
   "outputs": [
    {
     "data": {
      "text/html": [
       "<div>\n",
       "<style scoped>\n",
       "    .dataframe tbody tr th:only-of-type {\n",
       "        vertical-align: middle;\n",
       "    }\n",
       "\n",
       "    .dataframe tbody tr th {\n",
       "        vertical-align: top;\n",
       "    }\n",
       "\n",
       "    .dataframe thead th {\n",
       "        text-align: right;\n",
       "    }\n",
       "</style>\n",
       "<table border=\"1\" class=\"dataframe\">\n",
       "  <thead>\n",
       "    <tr style=\"text-align: right;\">\n",
       "      <th></th>\n",
       "      <th>Unnamed: 0</th>\n",
       "      <th>app_id</th>\n",
       "      <th>app_name</th>\n",
       "      <th>review_id</th>\n",
       "      <th>language</th>\n",
       "      <th>review</th>\n",
       "      <th>timestamp_created</th>\n",
       "      <th>timestamp_updated</th>\n",
       "      <th>recommended</th>\n",
       "      <th>votes_helpful</th>\n",
       "      <th>...</th>\n",
       "      <th>steam_purchase</th>\n",
       "      <th>received_for_free</th>\n",
       "      <th>written_during_early_access</th>\n",
       "      <th>author.steamid</th>\n",
       "      <th>author.num_games_owned</th>\n",
       "      <th>author.num_reviews</th>\n",
       "      <th>author.playtime_forever</th>\n",
       "      <th>author.playtime_last_two_weeks</th>\n",
       "      <th>author.playtime_at_review</th>\n",
       "      <th>author.last_played</th>\n",
       "    </tr>\n",
       "  </thead>\n",
       "  <tbody>\n",
       "    <tr>\n",
       "      <th>0</th>\n",
       "      <td>0</td>\n",
       "      <td>292030</td>\n",
       "      <td>The Witcher 3: Wild Hunt</td>\n",
       "      <td>85185598</td>\n",
       "      <td>schinese</td>\n",
       "      <td>不玩此生遗憾，RPG游戏里的天花板，太吸引人了</td>\n",
       "      <td>1611381629</td>\n",
       "      <td>1611381629</td>\n",
       "      <td>True</td>\n",
       "      <td>0</td>\n",
       "      <td>...</td>\n",
       "      <td>True</td>\n",
       "      <td>False</td>\n",
       "      <td>False</td>\n",
       "      <td>76561199095369542</td>\n",
       "      <td>6</td>\n",
       "      <td>2</td>\n",
       "      <td>1909.0</td>\n",
       "      <td>1448.0</td>\n",
       "      <td>1909.0</td>\n",
       "      <td>1.611343e+09</td>\n",
       "    </tr>\n",
       "    <tr>\n",
       "      <th>1</th>\n",
       "      <td>1</td>\n",
       "      <td>292030</td>\n",
       "      <td>The Witcher 3: Wild Hunt</td>\n",
       "      <td>85185250</td>\n",
       "      <td>schinese</td>\n",
       "      <td>拔DIAO无情打桩机--杰洛特!!!</td>\n",
       "      <td>1611381030</td>\n",
       "      <td>1611381030</td>\n",
       "      <td>True</td>\n",
       "      <td>0</td>\n",
       "      <td>...</td>\n",
       "      <td>True</td>\n",
       "      <td>False</td>\n",
       "      <td>False</td>\n",
       "      <td>76561198949504115</td>\n",
       "      <td>30</td>\n",
       "      <td>10</td>\n",
       "      <td>2764.0</td>\n",
       "      <td>2743.0</td>\n",
       "      <td>2674.0</td>\n",
       "      <td>1.611386e+09</td>\n",
       "    </tr>\n",
       "    <tr>\n",
       "      <th>2</th>\n",
       "      <td>2</td>\n",
       "      <td>292030</td>\n",
       "      <td>The Witcher 3: Wild Hunt</td>\n",
       "      <td>85185111</td>\n",
       "      <td>schinese</td>\n",
       "      <td>巫师3NB</td>\n",
       "      <td>1611380800</td>\n",
       "      <td>1611380800</td>\n",
       "      <td>True</td>\n",
       "      <td>0</td>\n",
       "      <td>...</td>\n",
       "      <td>True</td>\n",
       "      <td>False</td>\n",
       "      <td>False</td>\n",
       "      <td>76561199090098988</td>\n",
       "      <td>5</td>\n",
       "      <td>1</td>\n",
       "      <td>1061.0</td>\n",
       "      <td>1061.0</td>\n",
       "      <td>1060.0</td>\n",
       "      <td>1.611384e+09</td>\n",
       "    </tr>\n",
       "  </tbody>\n",
       "</table>\n",
       "<p>3 rows × 23 columns</p>\n",
       "</div>"
      ],
      "text/plain": [
       "   Unnamed: 0  app_id                  app_name  review_id  language  \\\n",
       "0           0  292030  The Witcher 3: Wild Hunt   85185598  schinese   \n",
       "1           1  292030  The Witcher 3: Wild Hunt   85185250  schinese   \n",
       "2           2  292030  The Witcher 3: Wild Hunt   85185111  schinese   \n",
       "\n",
       "                    review  timestamp_created  timestamp_updated  recommended  \\\n",
       "0  不玩此生遗憾，RPG游戏里的天花板，太吸引人了         1611381629         1611381629         True   \n",
       "1       拔DIAO无情打桩机--杰洛特!!!         1611381030         1611381030         True   \n",
       "2                    巫师3NB         1611380800         1611380800         True   \n",
       "\n",
       "   votes_helpful  ...  steam_purchase  received_for_free  \\\n",
       "0              0  ...            True              False   \n",
       "1              0  ...            True              False   \n",
       "2              0  ...            True              False   \n",
       "\n",
       "   written_during_early_access     author.steamid  author.num_games_owned  \\\n",
       "0                        False  76561199095369542                       6   \n",
       "1                        False  76561198949504115                      30   \n",
       "2                        False  76561199090098988                       5   \n",
       "\n",
       "   author.num_reviews  author.playtime_forever  \\\n",
       "0                   2                   1909.0   \n",
       "1                  10                   2764.0   \n",
       "2                   1                   1061.0   \n",
       "\n",
       "   author.playtime_last_two_weeks  author.playtime_at_review  \\\n",
       "0                          1448.0                     1909.0   \n",
       "1                          2743.0                     2674.0   \n",
       "2                          1061.0                     1060.0   \n",
       "\n",
       "   author.last_played  \n",
       "0        1.611343e+09  \n",
       "1        1.611386e+09  \n",
       "2        1.611384e+09  \n",
       "\n",
       "[3 rows x 23 columns]"
      ]
     },
     "execution_count": 17,
     "metadata": {},
     "output_type": "execute_result"
    }
   ],
   "source": [
    "dataframe.head(3)"
   ]
  },
  {
   "cell_type": "code",
   "execution_count": 18,
   "metadata": {},
   "outputs": [
    {
     "name": "stdout",
     "output_type": "stream",
     "text": [
      "<class 'pandas.core.frame.DataFrame'>\n",
      "Int64Index: 38747379 entries, 0 to 7000003\n",
      "Data columns (total 23 columns):\n",
      " #   Column                          Dtype  \n",
      "---  ------                          -----  \n",
      " 0   Unnamed: 0                      int64  \n",
      " 1   app_id                          int64  \n",
      " 2   app_name                        object \n",
      " 3   review_id                       int64  \n",
      " 4   language                        object \n",
      " 5   review                          object \n",
      " 6   timestamp_created               int64  \n",
      " 7   timestamp_updated               int64  \n",
      " 8   recommended                     bool   \n",
      " 9   votes_helpful                   int64  \n",
      " 10  votes_funny                     int64  \n",
      " 11  weighted_vote_score             float64\n",
      " 12  comment_count                   int64  \n",
      " 13  steam_purchase                  bool   \n",
      " 14  received_for_free               bool   \n",
      " 15  written_during_early_access     bool   \n",
      " 16  author.steamid                  int64  \n",
      " 17  author.num_games_owned          int64  \n",
      " 18  author.num_reviews              int64  \n",
      " 19  author.playtime_forever         float64\n",
      " 20  author.playtime_last_two_weeks  float64\n",
      " 21  author.playtime_at_review       float64\n",
      " 22  author.last_played              float64\n",
      "dtypes: bool(4), float64(5), int64(11), object(3)\n",
      "memory usage: 5.9+ GB\n"
     ]
    }
   ],
   "source": [
    "dataframe.info()"
   ]
  },
  {
   "cell_type": "code",
   "execution_count": 19,
   "metadata": {},
   "outputs": [
    {
     "data": {
      "text/plain": [
       "Unnamed: 0                            0\n",
       "app_id                                0\n",
       "app_name                              0\n",
       "review_id                             0\n",
       "language                              0\n",
       "review                            60526\n",
       "timestamp_created                     0\n",
       "timestamp_updated                     0\n",
       "recommended                           0\n",
       "votes_helpful                         0\n",
       "votes_funny                           0\n",
       "weighted_vote_score                   8\n",
       "comment_count                         0\n",
       "steam_purchase                        0\n",
       "received_for_free                     0\n",
       "written_during_early_access           0\n",
       "author.steamid                        0\n",
       "author.num_games_owned                0\n",
       "author.num_reviews                    0\n",
       "author.playtime_forever              20\n",
       "author.playtime_last_two_weeks       20\n",
       "author.playtime_at_review         45683\n",
       "author.last_played                   18\n",
       "dtype: int64"
      ]
     },
     "execution_count": 19,
     "metadata": {},
     "output_type": "execute_result"
    }
   ],
   "source": [
    "dataframe.isnull().sum()"
   ]
  },
  {
   "cell_type": "code",
   "execution_count": 20,
   "metadata": {},
   "outputs": [
    {
     "data": {
      "text/html": [
       "<div>\n",
       "<style scoped>\n",
       "    .dataframe tbody tr th:only-of-type {\n",
       "        vertical-align: middle;\n",
       "    }\n",
       "\n",
       "    .dataframe tbody tr th {\n",
       "        vertical-align: top;\n",
       "    }\n",
       "\n",
       "    .dataframe thead th {\n",
       "        text-align: right;\n",
       "    }\n",
       "</style>\n",
       "<table border=\"1\" class=\"dataframe\">\n",
       "  <thead>\n",
       "    <tr style=\"text-align: right;\">\n",
       "      <th></th>\n",
       "      <th>Unnamed: 0</th>\n",
       "      <th>app_id</th>\n",
       "      <th>review_id</th>\n",
       "      <th>timestamp_created</th>\n",
       "      <th>timestamp_updated</th>\n",
       "      <th>votes_helpful</th>\n",
       "      <th>votes_funny</th>\n",
       "      <th>weighted_vote_score</th>\n",
       "      <th>comment_count</th>\n",
       "      <th>author.steamid</th>\n",
       "      <th>author.num_games_owned</th>\n",
       "      <th>author.num_reviews</th>\n",
       "      <th>author.playtime_forever</th>\n",
       "      <th>author.playtime_last_two_weeks</th>\n",
       "      <th>author.playtime_at_review</th>\n",
       "      <th>author.last_played</th>\n",
       "    </tr>\n",
       "  </thead>\n",
       "  <tbody>\n",
       "    <tr>\n",
       "      <th>count</th>\n",
       "      <td>38747379.000</td>\n",
       "      <td>38747379.000</td>\n",
       "      <td>38747379.000</td>\n",
       "      <td>38747379.000</td>\n",
       "      <td>38747379.000</td>\n",
       "      <td>38747379.000</td>\n",
       "      <td>38747379.000</td>\n",
       "      <td>38747371.000</td>\n",
       "      <td>38747379.000</td>\n",
       "      <td>38747379.000</td>\n",
       "      <td>38747379.000</td>\n",
       "      <td>38747379.000</td>\n",
       "      <td>38747359.000</td>\n",
       "      <td>38747359.000</td>\n",
       "      <td>38701696.000</td>\n",
       "      <td>38747361.000</td>\n",
       "    </tr>\n",
       "    <tr>\n",
       "      <th>mean</th>\n",
       "      <td>8025681.075</td>\n",
       "      <td>397762.536</td>\n",
       "      <td>52065928.649</td>\n",
       "      <td>1423773466.983</td>\n",
       "      <td>1426172645.938</td>\n",
       "      <td>454024.429</td>\n",
       "      <td>15807372356.910</td>\n",
       "      <td>0.162</td>\n",
       "      <td>0.126</td>\n",
       "      <td>76561166534463264.000</td>\n",
       "      <td>1021681.137</td>\n",
       "      <td>454032.902</td>\n",
       "      <td>16417.466</td>\n",
       "      <td>160.780</td>\n",
       "      <td>8974.073</td>\n",
       "      <td>1439594884.868</td>\n",
       "    </tr>\n",
       "    <tr>\n",
       "      <th>std</th>\n",
       "      <td>5968610.103</td>\n",
       "      <td>657012.178</td>\n",
       "      <td>20914468.915</td>\n",
       "      <td>188602109.339</td>\n",
       "      <td>189001279.721</td>\n",
       "      <td>1413086122.625</td>\n",
       "      <td>34788244112143.973</td>\n",
       "      <td>0.262</td>\n",
       "      <td>2.039</td>\n",
       "      <td>49198001275130.539</td>\n",
       "      <td>2119629046.915</td>\n",
       "      <td>1413086122.624</td>\n",
       "      <td>37917.968</td>\n",
       "      <td>742.715</td>\n",
       "      <td>24213.165</td>\n",
       "      <td>204176525.362</td>\n",
       "    </tr>\n",
       "    <tr>\n",
       "      <th>min</th>\n",
       "      <td>0.000</td>\n",
       "      <td>70.000</td>\n",
       "      <td>0.000</td>\n",
       "      <td>0.000</td>\n",
       "      <td>0.000</td>\n",
       "      <td>0.000</td>\n",
       "      <td>0.000</td>\n",
       "      <td>0.000</td>\n",
       "      <td>0.000</td>\n",
       "      <td>0.000</td>\n",
       "      <td>0.000</td>\n",
       "      <td>0.000</td>\n",
       "      <td>0.000</td>\n",
       "      <td>0.000</td>\n",
       "      <td>1.000</td>\n",
       "      <td>0.000</td>\n",
       "    </tr>\n",
       "    <tr>\n",
       "      <th>25%</th>\n",
       "      <td>3228945.500</td>\n",
       "      <td>250900.000</td>\n",
       "      <td>36583549.500</td>\n",
       "      <td>1313596692.500</td>\n",
       "      <td>1315177137.000</td>\n",
       "      <td>0.000</td>\n",
       "      <td>0.000</td>\n",
       "      <td>0.000</td>\n",
       "      <td>0.000</td>\n",
       "      <td>76561197917248512.000</td>\n",
       "      <td>21.000</td>\n",
       "      <td>2.000</td>\n",
       "      <td>1237.000</td>\n",
       "      <td>0.000</td>\n",
       "      <td>554.000</td>\n",
       "      <td>1303980264.264</td>\n",
       "    </tr>\n",
       "    <tr>\n",
       "      <th>50%</th>\n",
       "      <td>6457894.000</td>\n",
       "      <td>359550.000</td>\n",
       "      <td>54270637.000</td>\n",
       "      <td>1501318909.000</td>\n",
       "      <td>1506587214.000</td>\n",
       "      <td>0.000</td>\n",
       "      <td>0.000</td>\n",
       "      <td>0.000</td>\n",
       "      <td>0.000</td>\n",
       "      <td>76561198021813152.000</td>\n",
       "      <td>59.000</td>\n",
       "      <td>4.000</td>\n",
       "      <td>4325.000</td>\n",
       "      <td>0.000</td>\n",
       "      <td>1870.000</td>\n",
       "      <td>1543078501.000</td>\n",
       "    </tr>\n",
       "    <tr>\n",
       "      <th>75%</th>\n",
       "      <td>12060527.500</td>\n",
       "      <td>578080.000</td>\n",
       "      <td>69557559.500</td>\n",
       "      <td>1575174132.000</td>\n",
       "      <td>1576639446.000</td>\n",
       "      <td>1.000</td>\n",
       "      <td>0.000</td>\n",
       "      <td>0.480</td>\n",
       "      <td>0.000</td>\n",
       "      <td>76561198219021664.000</td>\n",
       "      <td>142.000</td>\n",
       "      <td>9.000</td>\n",
       "      <td>15310.000</td>\n",
       "      <td>0.000</td>\n",
       "      <td>6941.000</td>\n",
       "      <td>1602591835.000</td>\n",
       "    </tr>\n",
       "    <tr>\n",
       "      <th>max</th>\n",
       "      <td>21747375.000</td>\n",
       "      <td>1571293102.000</td>\n",
       "      <td>85218673.000</td>\n",
       "      <td>1611426287.000</td>\n",
       "      <td>2283382797.000</td>\n",
       "      <td>4398046511106.000</td>\n",
       "      <td>76561197954255712.000</td>\n",
       "      <td>423.000</td>\n",
       "      <td>4893.000</td>\n",
       "      <td>76561199133265376.000</td>\n",
       "      <td>4398046511619.000</td>\n",
       "      <td>4398046511108.000</td>\n",
       "      <td>3744943.000</td>\n",
       "      <td>27039.000</td>\n",
       "      <td>3228103.000</td>\n",
       "      <td>1611434142.000</td>\n",
       "    </tr>\n",
       "  </tbody>\n",
       "</table>\n",
       "</div>"
      ],
      "text/plain": [
       "        Unnamed: 0         app_id    review_id  timestamp_created  \\\n",
       "count 38747379.000   38747379.000 38747379.000       38747379.000   \n",
       "mean   8025681.075     397762.536 52065928.649     1423773466.983   \n",
       "std    5968610.103     657012.178 20914468.915      188602109.339   \n",
       "min          0.000         70.000        0.000              0.000   \n",
       "25%    3228945.500     250900.000 36583549.500     1313596692.500   \n",
       "50%    6457894.000     359550.000 54270637.000     1501318909.000   \n",
       "75%   12060527.500     578080.000 69557559.500     1575174132.000   \n",
       "max   21747375.000 1571293102.000 85218673.000     1611426287.000   \n",
       "\n",
       "       timestamp_updated     votes_helpful           votes_funny  \\\n",
       "count       38747379.000      38747379.000          38747379.000   \n",
       "mean      1426172645.938        454024.429       15807372356.910   \n",
       "std        189001279.721    1413086122.625    34788244112143.973   \n",
       "min                0.000             0.000                 0.000   \n",
       "25%       1315177137.000             0.000                 0.000   \n",
       "50%       1506587214.000             0.000                 0.000   \n",
       "75%       1576639446.000             1.000                 0.000   \n",
       "max       2283382797.000 4398046511106.000 76561197954255712.000   \n",
       "\n",
       "       weighted_vote_score  comment_count        author.steamid  \\\n",
       "count         38747371.000   38747379.000          38747379.000   \n",
       "mean                 0.162          0.126 76561166534463264.000   \n",
       "std                  0.262          2.039    49198001275130.539   \n",
       "min                  0.000          0.000                 0.000   \n",
       "25%                  0.000          0.000 76561197917248512.000   \n",
       "50%                  0.000          0.000 76561198021813152.000   \n",
       "75%                  0.480          0.000 76561198219021664.000   \n",
       "max                423.000       4893.000 76561199133265376.000   \n",
       "\n",
       "       author.num_games_owned  author.num_reviews  author.playtime_forever  \\\n",
       "count            38747379.000        38747379.000             38747359.000   \n",
       "mean              1021681.137          454032.902                16417.466   \n",
       "std            2119629046.915      1413086122.624                37917.968   \n",
       "min                     0.000               0.000                    0.000   \n",
       "25%                    21.000               2.000                 1237.000   \n",
       "50%                    59.000               4.000                 4325.000   \n",
       "75%                   142.000               9.000                15310.000   \n",
       "max         4398046511619.000   4398046511108.000              3744943.000   \n",
       "\n",
       "       author.playtime_last_two_weeks  author.playtime_at_review  \\\n",
       "count                    38747359.000               38701696.000   \n",
       "mean                          160.780                   8974.073   \n",
       "std                           742.715                  24213.165   \n",
       "min                             0.000                      1.000   \n",
       "25%                             0.000                    554.000   \n",
       "50%                             0.000                   1870.000   \n",
       "75%                             0.000                   6941.000   \n",
       "max                         27039.000                3228103.000   \n",
       "\n",
       "       author.last_played  \n",
       "count        38747361.000  \n",
       "mean       1439594884.868  \n",
       "std         204176525.362  \n",
       "min                 0.000  \n",
       "25%        1303980264.264  \n",
       "50%        1543078501.000  \n",
       "75%        1602591835.000  \n",
       "max        1611434142.000  "
      ]
     },
     "execution_count": 20,
     "metadata": {},
     "output_type": "execute_result"
    }
   ],
   "source": [
    "# statistical properties\n",
    "pd.set_option('display.float_format', lambda x: '%.3f' % x)\n",
    "dataframe.describe()"
   ]
  },
  {
   "cell_type": "markdown",
   "metadata": {},
   "source": [
    "### Description of variables\n",
    "The variables that we are going to analyze varies between int, float, bool and category (object) type, as we see from the head() and info() functions.\n",
    "- The Unnamed: 0 variable is a row counter: we can delete this column.\n",
    "- The app_id is an 'int' variable referring to the unique identification number of the application: since we have this information stored in app_name, we can delete this column as well.\n",
    "- review_id is the unique identity  number of the review. \n",
    "- language and review are two string variables that describe what is the language used in review, and the actual review.\n",
    "- timestamp-created and timestamp-updated are two date-time variables, stored as 'int', referring to the time the review was created and last updated.\n",
    "- recommended is a boolean meaning if the game was recommended or not, votes_helpful ,votes_funny , are the count of votes the review received, weighted_vote_score a float value representing the value of the vote.\n",
    "- Comment count s an int with the count of comments of the review.\n",
    "- steam_purchase, received_for_free and written_during_early_access are boolean variables.\n",
    "- The *Author* categories are referred to the user author of the review: \n",
    "   - steamid is the unique identification number of the user.\n",
    "   -  num_games_owned and num_reviews are int that counts the number of games owned and the total reviews.\n",
    "   - playtime_forever, playtime_last_two_weeks and playtime_at_review are tracked values of the author.\n",
    "   - last_played is a float that must be converted in date-time format."
   ]
  },
  {
   "cell_type": "code",
   "execution_count": 21,
   "metadata": {},
   "outputs": [
    {
     "data": {
      "text/plain": [
       "array([[<AxesSubplot:title={'center':'timestamp_created'}>,\n",
       "        <AxesSubplot:title={'center':'timestamp_updated'}>,\n",
       "        <AxesSubplot:title={'center':'votes_helpful'}>],\n",
       "       [<AxesSubplot:title={'center':'votes_funny'}>,\n",
       "        <AxesSubplot:title={'center':'weighted_vote_score'}>,\n",
       "        <AxesSubplot:title={'center':'comment_count'}>],\n",
       "       [<AxesSubplot:title={'center':'author.num_games_owned'}>,\n",
       "        <AxesSubplot:title={'center':'author.num_reviews'}>,\n",
       "        <AxesSubplot:title={'center':'author.playtime_forever'}>],\n",
       "       [<AxesSubplot:title={'center':'author.playtime_last_two_weeks'}>,\n",
       "        <AxesSubplot:title={'center':'author.playtime_at_review'}>,\n",
       "        <AxesSubplot:title={'center':'author.last_played'}>]],\n",
       "      dtype=object)"
      ]
     },
     "execution_count": 21,
     "metadata": {},
     "output_type": "execute_result"
    },
    {
     "data": {
      "image/png": "[encoded data removed]",
      "text/plain": [
       "<Figure size 1152x1440 with 12 Axes>"
      ]
     },
     "metadata": {
      "needs_background": "light"
     },
     "output_type": "display_data"
    }
   ],
   "source": [
    "#plotting relevant numerical columns\n",
    "d=dataframe[['timestamp_created','timestamp_updated','votes_helpful','votes_funny','weighted_vote_score','comment_count','author.num_games_owned','author.num_reviews','author.playtime_forever','author.playtime_last_two_weeks','author.playtime_at_review','author.last_played']]\n",
    "dataset_num = d.select_dtypes(include = ['float64', 'int64'])\n",
    "dataset_num.head()\n",
    "dataset_num.hist(figsize=(16, 20), bins=50, xlabelsize=8, ylabelsize=8)"
   ]
  },
  {
   "cell_type": "code",
   "execution_count": 22,
   "metadata": {},
   "outputs": [
    {
     "data": {
      "text/plain": [
       "<Figure size 432x288 with 0 Axes>"
      ]
     },
     "metadata": {},
     "output_type": "display_data"
    },
    {
     "data": {
      "image/png": "[encoded data removed]",
      "text/plain": [
       "<Figure size 1224x576 with 2 Axes>"
      ]
     },
     "metadata": {
      "needs_background": "light"
     },
     "output_type": "display_data"
    }
   ],
   "source": [
    "recomm_amount = dataframe[\"recommended\"].value_counts()\n",
    "recomm_amount = recomm_amount/sum(recomm_amount)\n",
    "#print(recomm_amount)\n",
    "\n",
    "helpful=dataframe[\"votes_helpful\"].value_counts()\n",
    "my_bins=[0,1,2,3,5,10,50,max(helpful)]\n",
    "out=pd.cut(dataframe[\"votes_helpful\"],bins=my_bins,include_lowest=True)\n",
    "ax=out.value_counts(sort=False)\n",
    "ax=ax/sum(ax)\n",
    "#print(ax)\n",
    "\n",
    "funny=dataframe[\"votes_funny\"].value_counts()\n",
    "my_bins=[0,1,2,3,5,10,50,max(funny)]\n",
    "out2=pd.cut(dataframe[\"votes_funny\"],bins=my_bins,include_lowest=True)\n",
    "bx=out2.value_counts(sort=False)\n",
    "bx=bx/sum(bx)\n",
    "#print(bx)\n",
    "\n",
    "plt.figure()\n",
    "fig=plt.figure(figsize=(17,8))\n",
    "plt.subplot(121)\n",
    "ax.plot.bar(color='r',title=\"Votes_helpful\",ylabel='Percentage')\n",
    "plt.xticks([0,1,2,3,4,5,6],['0','1','2','3-5','6-10','11-50','>50'])\n",
    "plt.yticks(np.arange(0,1,0.1))\n",
    "\n",
    "plt.subplot(122)\n",
    "bx.plot.bar(color='r',title=\"Votes_funny\",ylabel='Percentage')\n",
    "plt.xticks([0,1,2,3,4,5,6],['0','1','2','3-5','6-10','11-50','>50'])\n",
    "plt.yticks(np.arange(0,1,0.1))\n",
    "\n",
    "plt.show()"
   ]
  },
  {
   "cell_type": "code",
   "execution_count": 23,
   "metadata": {},
   "outputs": [
    {
     "data": {
      "text/html": [
       "<div>\n",
       "<style scoped>\n",
       "    .dataframe tbody tr th:only-of-type {\n",
       "        vertical-align: middle;\n",
       "    }\n",
       "\n",
       "    .dataframe tbody tr th {\n",
       "        vertical-align: top;\n",
       "    }\n",
       "\n",
       "    .dataframe thead th {\n",
       "        text-align: right;\n",
       "    }\n",
       "</style>\n",
       "<table border=\"1\" class=\"dataframe\">\n",
       "  <thead>\n",
       "    <tr style=\"text-align: right;\">\n",
       "      <th></th>\n",
       "      <th>Unnamed: 0</th>\n",
       "      <th>app_id</th>\n",
       "      <th>review_id</th>\n",
       "      <th>timestamp_created</th>\n",
       "      <th>timestamp_updated</th>\n",
       "      <th>recommended</th>\n",
       "      <th>votes_helpful</th>\n",
       "      <th>votes_funny</th>\n",
       "      <th>weighted_vote_score</th>\n",
       "      <th>comment_count</th>\n",
       "      <th>steam_purchase</th>\n",
       "      <th>received_for_free</th>\n",
       "      <th>written_during_early_access</th>\n",
       "      <th>author.steamid</th>\n",
       "      <th>author.num_games_owned</th>\n",
       "      <th>author.num_reviews</th>\n",
       "      <th>author.playtime_forever</th>\n",
       "      <th>author.playtime_last_two_weeks</th>\n",
       "      <th>author.playtime_at_review</th>\n",
       "      <th>author.last_played</th>\n",
       "    </tr>\n",
       "  </thead>\n",
       "  <tbody>\n",
       "    <tr>\n",
       "      <th>Unnamed: 0</th>\n",
       "      <td>1.000</td>\n",
       "      <td>0.037</td>\n",
       "      <td>-0.013</td>\n",
       "      <td>0.383</td>\n",
       "      <td>0.385</td>\n",
       "      <td>-0.218</td>\n",
       "      <td>-0.000</td>\n",
       "      <td>-0.001</td>\n",
       "      <td>0.038</td>\n",
       "      <td>0.008</td>\n",
       "      <td>-0.223</td>\n",
       "      <td>-0.517</td>\n",
       "      <td>-0.482</td>\n",
       "      <td>0.001</td>\n",
       "      <td>-0.000</td>\n",
       "      <td>-0.000</td>\n",
       "      <td>0.014</td>\n",
       "      <td>-0.003</td>\n",
       "      <td>0.008</td>\n",
       "      <td>0.418</td>\n",
       "    </tr>\n",
       "    <tr>\n",
       "      <th>app_id</th>\n",
       "      <td>0.037</td>\n",
       "      <td>1.000</td>\n",
       "      <td>0.149</td>\n",
       "      <td>0.016</td>\n",
       "      <td>0.014</td>\n",
       "      <td>-0.023</td>\n",
       "      <td>0.000</td>\n",
       "      <td>0.916</td>\n",
       "      <td>0.225</td>\n",
       "      <td>0.002</td>\n",
       "      <td>0.001</td>\n",
       "      <td>0.008</td>\n",
       "      <td>0.027</td>\n",
       "      <td>-0.648</td>\n",
       "      <td>0.000</td>\n",
       "      <td>-0.000</td>\n",
       "      <td>-0.081</td>\n",
       "      <td>-0.007</td>\n",
       "      <td>-0.077</td>\n",
       "      <td>0.010</td>\n",
       "    </tr>\n",
       "    <tr>\n",
       "      <th>review_id</th>\n",
       "      <td>-0.013</td>\n",
       "      <td>0.149</td>\n",
       "      <td>1.000</td>\n",
       "      <td>0.160</td>\n",
       "      <td>0.150</td>\n",
       "      <td>0.055</td>\n",
       "      <td>-0.000</td>\n",
       "      <td>-0.001</td>\n",
       "      <td>-0.211</td>\n",
       "      <td>-0.025</td>\n",
       "      <td>0.056</td>\n",
       "      <td>0.015</td>\n",
       "      <td>-0.025</td>\n",
       "      <td>0.001</td>\n",
       "      <td>-0.000</td>\n",
       "      <td>0.000</td>\n",
       "      <td>-0.073</td>\n",
       "      <td>0.132</td>\n",
       "      <td>0.009</td>\n",
       "      <td>0.063</td>\n",
       "    </tr>\n",
       "    <tr>\n",
       "      <th>timestamp_created</th>\n",
       "      <td>0.383</td>\n",
       "      <td>0.016</td>\n",
       "      <td>0.160</td>\n",
       "      <td>1.000</td>\n",
       "      <td>0.998</td>\n",
       "      <td>-0.165</td>\n",
       "      <td>-0.000</td>\n",
       "      <td>-0.003</td>\n",
       "      <td>-0.025</td>\n",
       "      <td>-0.005</td>\n",
       "      <td>-0.227</td>\n",
       "      <td>-0.696</td>\n",
       "      <td>-0.662</td>\n",
       "      <td>0.005</td>\n",
       "      <td>-0.000</td>\n",
       "      <td>-0.000</td>\n",
       "      <td>-0.016</td>\n",
       "      <td>0.014</td>\n",
       "      <td>-0.002</td>\n",
       "      <td>0.979</td>\n",
       "    </tr>\n",
       "    <tr>\n",
       "      <th>timestamp_updated</th>\n",
       "      <td>0.385</td>\n",
       "      <td>0.014</td>\n",
       "      <td>0.150</td>\n",
       "      <td>0.998</td>\n",
       "      <td>1.000</td>\n",
       "      <td>-0.167</td>\n",
       "      <td>-0.000</td>\n",
       "      <td>-0.003</td>\n",
       "      <td>-0.022</td>\n",
       "      <td>-0.004</td>\n",
       "      <td>-0.229</td>\n",
       "      <td>-0.699</td>\n",
       "      <td>-0.666</td>\n",
       "      <td>0.005</td>\n",
       "      <td>-0.000</td>\n",
       "      <td>-0.000</td>\n",
       "      <td>-0.010</td>\n",
       "      <td>0.014</td>\n",
       "      <td>0.004</td>\n",
       "      <td>0.980</td>\n",
       "    </tr>\n",
       "    <tr>\n",
       "      <th>recommended</th>\n",
       "      <td>-0.218</td>\n",
       "      <td>-0.023</td>\n",
       "      <td>0.055</td>\n",
       "      <td>-0.165</td>\n",
       "      <td>-0.167</td>\n",
       "      <td>1.000</td>\n",
       "      <td>0.000</td>\n",
       "      <td>0.000</td>\n",
       "      <td>-0.127</td>\n",
       "      <td>-0.039</td>\n",
       "      <td>0.082</td>\n",
       "      <td>0.236</td>\n",
       "      <td>0.198</td>\n",
       "      <td>-0.000</td>\n",
       "      <td>0.000</td>\n",
       "      <td>0.000</td>\n",
       "      <td>-0.025</td>\n",
       "      <td>0.016</td>\n",
       "      <td>-0.036</td>\n",
       "      <td>-0.175</td>\n",
       "    </tr>\n",
       "    <tr>\n",
       "      <th>votes_helpful</th>\n",
       "      <td>-0.000</td>\n",
       "      <td>0.000</td>\n",
       "      <td>-0.000</td>\n",
       "      <td>-0.000</td>\n",
       "      <td>-0.000</td>\n",
       "      <td>0.000</td>\n",
       "      <td>1.000</td>\n",
       "      <td>-0.000</td>\n",
       "      <td>-0.000</td>\n",
       "      <td>-0.000</td>\n",
       "      <td>0.000</td>\n",
       "      <td>0.000</td>\n",
       "      <td>0.000</td>\n",
       "      <td>0.000</td>\n",
       "      <td>-0.000</td>\n",
       "      <td>-0.000</td>\n",
       "      <td>-0.000</td>\n",
       "      <td>-0.000</td>\n",
       "      <td>-0.000</td>\n",
       "      <td>-0.000</td>\n",
       "    </tr>\n",
       "    <tr>\n",
       "      <th>votes_funny</th>\n",
       "      <td>-0.001</td>\n",
       "      <td>0.916</td>\n",
       "      <td>-0.001</td>\n",
       "      <td>-0.003</td>\n",
       "      <td>-0.003</td>\n",
       "      <td>0.000</td>\n",
       "      <td>-0.000</td>\n",
       "      <td>1.000</td>\n",
       "      <td>0.276</td>\n",
       "      <td>0.003</td>\n",
       "      <td>0.000</td>\n",
       "      <td>0.000</td>\n",
       "      <td>0.000</td>\n",
       "      <td>-0.707</td>\n",
       "      <td>-0.000</td>\n",
       "      <td>-0.000</td>\n",
       "      <td>0.000</td>\n",
       "      <td>-0.000</td>\n",
       "      <td>-0.000</td>\n",
       "      <td>-0.000</td>\n",
       "    </tr>\n",
       "    <tr>\n",
       "      <th>weighted_vote_score</th>\n",
       "      <td>0.038</td>\n",
       "      <td>0.225</td>\n",
       "      <td>-0.211</td>\n",
       "      <td>-0.025</td>\n",
       "      <td>-0.022</td>\n",
       "      <td>-0.127</td>\n",
       "      <td>-0.000</td>\n",
       "      <td>0.276</td>\n",
       "      <td>1.000</td>\n",
       "      <td>0.051</td>\n",
       "      <td>-0.033</td>\n",
       "      <td>-0.011</td>\n",
       "      <td>0.004</td>\n",
       "      <td>-0.276</td>\n",
       "      <td>-0.000</td>\n",
       "      <td>-0.000</td>\n",
       "      <td>0.049</td>\n",
       "      <td>-0.021</td>\n",
       "      <td>0.011</td>\n",
       "      <td>-0.003</td>\n",
       "    </tr>\n",
       "    <tr>\n",
       "      <th>comment_count</th>\n",
       "      <td>0.008</td>\n",
       "      <td>0.002</td>\n",
       "      <td>-0.025</td>\n",
       "      <td>-0.005</td>\n",
       "      <td>-0.004</td>\n",
       "      <td>-0.039</td>\n",
       "      <td>-0.000</td>\n",
       "      <td>0.003</td>\n",
       "      <td>0.051</td>\n",
       "      <td>1.000</td>\n",
       "      <td>-0.006</td>\n",
       "      <td>-0.002</td>\n",
       "      <td>0.000</td>\n",
       "      <td>-0.002</td>\n",
       "      <td>0.000</td>\n",
       "      <td>0.000</td>\n",
       "      <td>0.012</td>\n",
       "      <td>-0.001</td>\n",
       "      <td>0.008</td>\n",
       "      <td>-0.001</td>\n",
       "    </tr>\n",
       "    <tr>\n",
       "      <th>steam_purchase</th>\n",
       "      <td>-0.223</td>\n",
       "      <td>0.001</td>\n",
       "      <td>0.056</td>\n",
       "      <td>-0.227</td>\n",
       "      <td>-0.229</td>\n",
       "      <td>0.082</td>\n",
       "      <td>0.000</td>\n",
       "      <td>0.000</td>\n",
       "      <td>-0.033</td>\n",
       "      <td>-0.006</td>\n",
       "      <td>1.000</td>\n",
       "      <td>0.293</td>\n",
       "      <td>0.323</td>\n",
       "      <td>-0.000</td>\n",
       "      <td>0.000</td>\n",
       "      <td>0.000</td>\n",
       "      <td>0.010</td>\n",
       "      <td>0.017</td>\n",
       "      <td>0.004</td>\n",
       "      <td>-0.249</td>\n",
       "    </tr>\n",
       "    <tr>\n",
       "      <th>received_for_free</th>\n",
       "      <td>-0.517</td>\n",
       "      <td>0.008</td>\n",
       "      <td>0.015</td>\n",
       "      <td>-0.696</td>\n",
       "      <td>-0.699</td>\n",
       "      <td>0.236</td>\n",
       "      <td>0.000</td>\n",
       "      <td>0.000</td>\n",
       "      <td>-0.011</td>\n",
       "      <td>-0.002</td>\n",
       "      <td>0.293</td>\n",
       "      <td>1.000</td>\n",
       "      <td>0.868</td>\n",
       "      <td>-0.001</td>\n",
       "      <td>-0.000</td>\n",
       "      <td>0.000</td>\n",
       "      <td>0.008</td>\n",
       "      <td>0.009</td>\n",
       "      <td>0.005</td>\n",
       "      <td>-0.752</td>\n",
       "    </tr>\n",
       "    <tr>\n",
       "      <th>written_during_early_access</th>\n",
       "      <td>-0.482</td>\n",
       "      <td>0.027</td>\n",
       "      <td>-0.025</td>\n",
       "      <td>-0.662</td>\n",
       "      <td>-0.666</td>\n",
       "      <td>0.198</td>\n",
       "      <td>0.000</td>\n",
       "      <td>0.000</td>\n",
       "      <td>0.004</td>\n",
       "      <td>0.000</td>\n",
       "      <td>0.323</td>\n",
       "      <td>0.868</td>\n",
       "      <td>1.000</td>\n",
       "      <td>-0.001</td>\n",
       "      <td>-0.000</td>\n",
       "      <td>0.000</td>\n",
       "      <td>0.011</td>\n",
       "      <td>0.001</td>\n",
       "      <td>-0.007</td>\n",
       "      <td>-0.705</td>\n",
       "    </tr>\n",
       "    <tr>\n",
       "      <th>author.steamid</th>\n",
       "      <td>0.001</td>\n",
       "      <td>-0.648</td>\n",
       "      <td>0.001</td>\n",
       "      <td>0.005</td>\n",
       "      <td>0.005</td>\n",
       "      <td>-0.000</td>\n",
       "      <td>0.000</td>\n",
       "      <td>-0.707</td>\n",
       "      <td>-0.276</td>\n",
       "      <td>-0.002</td>\n",
       "      <td>-0.000</td>\n",
       "      <td>-0.001</td>\n",
       "      <td>-0.001</td>\n",
       "      <td>1.000</td>\n",
       "      <td>0.000</td>\n",
       "      <td>0.000</td>\n",
       "      <td>-0.036</td>\n",
       "      <td>0.046</td>\n",
       "      <td>-0.036</td>\n",
       "      <td>0.517</td>\n",
       "    </tr>\n",
       "    <tr>\n",
       "      <th>author.num_games_owned</th>\n",
       "      <td>-0.000</td>\n",
       "      <td>0.000</td>\n",
       "      <td>-0.000</td>\n",
       "      <td>-0.000</td>\n",
       "      <td>-0.000</td>\n",
       "      <td>0.000</td>\n",
       "      <td>-0.000</td>\n",
       "      <td>-0.000</td>\n",
       "      <td>-0.000</td>\n",
       "      <td>0.000</td>\n",
       "      <td>0.000</td>\n",
       "      <td>-0.000</td>\n",
       "      <td>-0.000</td>\n",
       "      <td>0.000</td>\n",
       "      <td>1.000</td>\n",
       "      <td>-0.000</td>\n",
       "      <td>0.000</td>\n",
       "      <td>0.000</td>\n",
       "      <td>-0.000</td>\n",
       "      <td>-0.000</td>\n",
       "    </tr>\n",
       "    <tr>\n",
       "      <th>author.num_reviews</th>\n",
       "      <td>-0.000</td>\n",
       "      <td>-0.000</td>\n",
       "      <td>0.000</td>\n",
       "      <td>-0.000</td>\n",
       "      <td>-0.000</td>\n",
       "      <td>0.000</td>\n",
       "      <td>-0.000</td>\n",
       "      <td>-0.000</td>\n",
       "      <td>-0.000</td>\n",
       "      <td>0.000</td>\n",
       "      <td>0.000</td>\n",
       "      <td>0.000</td>\n",
       "      <td>0.000</td>\n",
       "      <td>0.000</td>\n",
       "      <td>-0.000</td>\n",
       "      <td>1.000</td>\n",
       "      <td>-0.000</td>\n",
       "      <td>-0.000</td>\n",
       "      <td>-0.000</td>\n",
       "      <td>-0.000</td>\n",
       "    </tr>\n",
       "    <tr>\n",
       "      <th>author.playtime_forever</th>\n",
       "      <td>0.014</td>\n",
       "      <td>-0.081</td>\n",
       "      <td>-0.073</td>\n",
       "      <td>-0.016</td>\n",
       "      <td>-0.010</td>\n",
       "      <td>-0.025</td>\n",
       "      <td>-0.000</td>\n",
       "      <td>0.000</td>\n",
       "      <td>0.049</td>\n",
       "      <td>0.012</td>\n",
       "      <td>0.010</td>\n",
       "      <td>0.008</td>\n",
       "      <td>0.011</td>\n",
       "      <td>-0.036</td>\n",
       "      <td>0.000</td>\n",
       "      <td>-0.000</td>\n",
       "      <td>1.000</td>\n",
       "      <td>0.360</td>\n",
       "      <td>0.834</td>\n",
       "      <td>0.012</td>\n",
       "    </tr>\n",
       "    <tr>\n",
       "      <th>author.playtime_last_two_weeks</th>\n",
       "      <td>-0.003</td>\n",
       "      <td>-0.007</td>\n",
       "      <td>0.132</td>\n",
       "      <td>0.014</td>\n",
       "      <td>0.014</td>\n",
       "      <td>0.016</td>\n",
       "      <td>-0.000</td>\n",
       "      <td>-0.000</td>\n",
       "      <td>-0.021</td>\n",
       "      <td>-0.001</td>\n",
       "      <td>0.017</td>\n",
       "      <td>0.009</td>\n",
       "      <td>0.001</td>\n",
       "      <td>0.046</td>\n",
       "      <td>0.000</td>\n",
       "      <td>-0.000</td>\n",
       "      <td>0.360</td>\n",
       "      <td>1.000</td>\n",
       "      <td>0.248</td>\n",
       "      <td>0.011</td>\n",
       "    </tr>\n",
       "    <tr>\n",
       "      <th>author.playtime_at_review</th>\n",
       "      <td>0.008</td>\n",
       "      <td>-0.077</td>\n",
       "      <td>0.009</td>\n",
       "      <td>-0.002</td>\n",
       "      <td>0.004</td>\n",
       "      <td>-0.036</td>\n",
       "      <td>-0.000</td>\n",
       "      <td>-0.000</td>\n",
       "      <td>0.011</td>\n",
       "      <td>0.008</td>\n",
       "      <td>0.004</td>\n",
       "      <td>0.005</td>\n",
       "      <td>-0.007</td>\n",
       "      <td>-0.036</td>\n",
       "      <td>-0.000</td>\n",
       "      <td>-0.000</td>\n",
       "      <td>0.834</td>\n",
       "      <td>0.248</td>\n",
       "      <td>1.000</td>\n",
       "      <td>0.010</td>\n",
       "    </tr>\n",
       "    <tr>\n",
       "      <th>author.last_played</th>\n",
       "      <td>0.418</td>\n",
       "      <td>0.010</td>\n",
       "      <td>0.063</td>\n",
       "      <td>0.979</td>\n",
       "      <td>0.980</td>\n",
       "      <td>-0.175</td>\n",
       "      <td>-0.000</td>\n",
       "      <td>-0.000</td>\n",
       "      <td>-0.003</td>\n",
       "      <td>-0.001</td>\n",
       "      <td>-0.249</td>\n",
       "      <td>-0.752</td>\n",
       "      <td>-0.705</td>\n",
       "      <td>0.517</td>\n",
       "      <td>-0.000</td>\n",
       "      <td>-0.000</td>\n",
       "      <td>0.012</td>\n",
       "      <td>0.011</td>\n",
       "      <td>0.010</td>\n",
       "      <td>1.000</td>\n",
       "    </tr>\n",
       "  </tbody>\n",
       "</table>\n",
       "</div>"
      ],
      "text/plain": [
       "                                Unnamed: 0  app_id  review_id  \\\n",
       "Unnamed: 0                           1.000   0.037     -0.013   \n",
       "app_id                               0.037   1.000      0.149   \n",
       "review_id                           -0.013   0.149      1.000   \n",
       "timestamp_created                    0.383   0.016      0.160   \n",
       "timestamp_updated                    0.385   0.014      0.150   \n",
       "recommended                         -0.218  -0.023      0.055   \n",
       "votes_helpful                       -0.000   0.000     -0.000   \n",
       "votes_funny                         -0.001   0.916     -0.001   \n",
       "weighted_vote_score                  0.038   0.225     -0.211   \n",
       "comment_count                        0.008   0.002     -0.025   \n",
       "steam_purchase                      -0.223   0.001      0.056   \n",
       "received_for_free                   -0.517   0.008      0.015   \n",
       "written_during_early_access         -0.482   0.027     -0.025   \n",
       "author.steamid                       0.001  -0.648      0.001   \n",
       "author.num_games_owned              -0.000   0.000     -0.000   \n",
       "author.num_reviews                  -0.000  -0.000      0.000   \n",
       "author.playtime_forever              0.014  -0.081     -0.073   \n",
       "author.playtime_last_two_weeks      -0.003  -0.007      0.132   \n",
       "author.playtime_at_review            0.008  -0.077      0.009   \n",
       "author.last_played                   0.418   0.010      0.063   \n",
       "\n",
       "                                timestamp_created  timestamp_updated  \\\n",
       "Unnamed: 0                                  0.383              0.385   \n",
       "app_id                                      0.016              0.014   \n",
       "review_id                                   0.160              0.150   \n",
       "timestamp_created                           1.000              0.998   \n",
       "timestamp_updated                           0.998              1.000   \n",
       "recommended                                -0.165             -0.167   \n",
       "votes_helpful                              -0.000             -0.000   \n",
       "votes_funny                                -0.003             -0.003   \n",
       "weighted_vote_score                        -0.025             -0.022   \n",
       "comment_count                              -0.005             -0.004   \n",
       "steam_purchase                             -0.227             -0.229   \n",
       "received_for_free                          -0.696             -0.699   \n",
       "written_during_early_access                -0.662             -0.666   \n",
       "author.steamid                              0.005              0.005   \n",
       "author.num_games_owned                     -0.000             -0.000   \n",
       "author.num_reviews                         -0.000             -0.000   \n",
       "author.playtime_forever                    -0.016             -0.010   \n",
       "author.playtime_last_two_weeks              0.014              0.014   \n",
       "author.playtime_at_review                  -0.002              0.004   \n",
       "author.last_played                          0.979              0.980   \n",
       "\n",
       "                                recommended  votes_helpful  votes_funny  \\\n",
       "Unnamed: 0                           -0.218         -0.000       -0.001   \n",
       "app_id                               -0.023          0.000        0.916   \n",
       "review_id                             0.055         -0.000       -0.001   \n",
       "timestamp_created                    -0.165         -0.000       -0.003   \n",
       "timestamp_updated                    -0.167         -0.000       -0.003   \n",
       "recommended                           1.000          0.000        0.000   \n",
       "votes_helpful                         0.000          1.000       -0.000   \n",
       "votes_funny                           0.000         -0.000        1.000   \n",
       "weighted_vote_score                  -0.127         -0.000        0.276   \n",
       "comment_count                        -0.039         -0.000        0.003   \n",
       "steam_purchase                        0.082          0.000        0.000   \n",
       "received_for_free                     0.236          0.000        0.000   \n",
       "written_during_early_access           0.198          0.000        0.000   \n",
       "author.steamid                       -0.000          0.000       -0.707   \n",
       "author.num_games_owned                0.000         -0.000       -0.000   \n",
       "author.num_reviews                    0.000         -0.000       -0.000   \n",
       "author.playtime_forever              -0.025         -0.000        0.000   \n",
       "author.playtime_last_two_weeks        0.016         -0.000       -0.000   \n",
       "author.playtime_at_review            -0.036         -0.000       -0.000   \n",
       "author.last_played                   -0.175         -0.000       -0.000   \n",
       "\n",
       "                                weighted_vote_score  comment_count  \\\n",
       "Unnamed: 0                                    0.038          0.008   \n",
       "app_id                                        0.225          0.002   \n",
       "review_id                                    -0.211         -0.025   \n",
       "timestamp_created                            -0.025         -0.005   \n",
       "timestamp_updated                            -0.022         -0.004   \n",
       "recommended                                  -0.127         -0.039   \n",
       "votes_helpful                                -0.000         -0.000   \n",
       "votes_funny                                   0.276          0.003   \n",
       "weighted_vote_score                           1.000          0.051   \n",
       "comment_count                                 0.051          1.000   \n",
       "steam_purchase                               -0.033         -0.006   \n",
       "received_for_free                            -0.011         -0.002   \n",
       "written_during_early_access                   0.004          0.000   \n",
       "author.steamid                               -0.276         -0.002   \n",
       "author.num_games_owned                       -0.000          0.000   \n",
       "author.num_reviews                           -0.000          0.000   \n",
       "author.playtime_forever                       0.049          0.012   \n",
       "author.playtime_last_two_weeks               -0.021         -0.001   \n",
       "author.playtime_at_review                     0.011          0.008   \n",
       "author.last_played                           -0.003         -0.001   \n",
       "\n",
       "                                steam_purchase  received_for_free  \\\n",
       "Unnamed: 0                              -0.223             -0.517   \n",
       "app_id                                   0.001              0.008   \n",
       "review_id                                0.056              0.015   \n",
       "timestamp_created                       -0.227             -0.696   \n",
       "timestamp_updated                       -0.229             -0.699   \n",
       "recommended                              0.082              0.236   \n",
       "votes_helpful                            0.000              0.000   \n",
       "votes_funny                              0.000              0.000   \n",
       "weighted_vote_score                     -0.033             -0.011   \n",
       "comment_count                           -0.006             -0.002   \n",
       "steam_purchase                           1.000              0.293   \n",
       "received_for_free                        0.293              1.000   \n",
       "written_during_early_access              0.323              0.868   \n",
       "author.steamid                          -0.000             -0.001   \n",
       "author.num_games_owned                   0.000             -0.000   \n",
       "author.num_reviews                       0.000              0.000   \n",
       "author.playtime_forever                  0.010              0.008   \n",
       "author.playtime_last_two_weeks           0.017              0.009   \n",
       "author.playtime_at_review                0.004              0.005   \n",
       "author.last_played                      -0.249             -0.752   \n",
       "\n",
       "                                written_during_early_access  author.steamid  \\\n",
       "Unnamed: 0                                           -0.482           0.001   \n",
       "app_id                                                0.027          -0.648   \n",
       "review_id                                            -0.025           0.001   \n",
       "timestamp_created                                    -0.662           0.005   \n",
       "timestamp_updated                                    -0.666           0.005   \n",
       "recommended                                           0.198          -0.000   \n",
       "votes_helpful                                         0.000           0.000   \n",
       "votes_funny                                           0.000          -0.707   \n",
       "weighted_vote_score                                   0.004          -0.276   \n",
       "comment_count                                         0.000          -0.002   \n",
       "steam_purchase                                        0.323          -0.000   \n",
       "received_for_free                                     0.868          -0.001   \n",
       "written_during_early_access                           1.000          -0.001   \n",
       "author.steamid                                       -0.001           1.000   \n",
       "author.num_games_owned                               -0.000           0.000   \n",
       "author.num_reviews                                    0.000           0.000   \n",
       "author.playtime_forever                               0.011          -0.036   \n",
       "author.playtime_last_two_weeks                        0.001           0.046   \n",
       "author.playtime_at_review                            -0.007          -0.036   \n",
       "author.last_played                                   -0.705           0.517   \n",
       "\n",
       "                                author.num_games_owned  author.num_reviews  \\\n",
       "Unnamed: 0                                      -0.000              -0.000   \n",
       "app_id                                           0.000              -0.000   \n",
       "review_id                                       -0.000               0.000   \n",
       "timestamp_created                               -0.000              -0.000   \n",
       "timestamp_updated                               -0.000              -0.000   \n",
       "recommended                                      0.000               0.000   \n",
       "votes_helpful                                   -0.000              -0.000   \n",
       "votes_funny                                     -0.000              -0.000   \n",
       "weighted_vote_score                             -0.000              -0.000   \n",
       "comment_count                                    0.000               0.000   \n",
       "steam_purchase                                   0.000               0.000   \n",
       "received_for_free                               -0.000               0.000   \n",
       "written_during_early_access                     -0.000               0.000   \n",
       "author.steamid                                   0.000               0.000   \n",
       "author.num_games_owned                           1.000              -0.000   \n",
       "author.num_reviews                              -0.000               1.000   \n",
       "author.playtime_forever                          0.000              -0.000   \n",
       "author.playtime_last_two_weeks                   0.000              -0.000   \n",
       "author.playtime_at_review                       -0.000              -0.000   \n",
       "author.last_played                              -0.000              -0.000   \n",
       "\n",
       "                                author.playtime_forever  \\\n",
       "Unnamed: 0                                        0.014   \n",
       "app_id                                           -0.081   \n",
       "review_id                                        -0.073   \n",
       "timestamp_created                                -0.016   \n",
       "timestamp_updated                                -0.010   \n",
       "recommended                                      -0.025   \n",
       "votes_helpful                                    -0.000   \n",
       "votes_funny                                       0.000   \n",
       "weighted_vote_score                               0.049   \n",
       "comment_count                                     0.012   \n",
       "steam_purchase                                    0.010   \n",
       "received_for_free                                 0.008   \n",
       "written_during_early_access                       0.011   \n",
       "author.steamid                                   -0.036   \n",
       "author.num_games_owned                            0.000   \n",
       "author.num_reviews                               -0.000   \n",
       "author.playtime_forever                           1.000   \n",
       "author.playtime_last_two_weeks                    0.360   \n",
       "author.playtime_at_review                         0.834   \n",
       "author.last_played                                0.012   \n",
       "\n",
       "                                author.playtime_last_two_weeks  \\\n",
       "Unnamed: 0                                              -0.003   \n",
       "app_id                                                  -0.007   \n",
       "review_id                                                0.132   \n",
       "timestamp_created                                        0.014   \n",
       "timestamp_updated                                        0.014   \n",
       "recommended                                              0.016   \n",
       "votes_helpful                                           -0.000   \n",
       "votes_funny                                             -0.000   \n",
       "weighted_vote_score                                     -0.021   \n",
       "comment_count                                           -0.001   \n",
       "steam_purchase                                           0.017   \n",
       "received_for_free                                        0.009   \n",
       "written_during_early_access                              0.001   \n",
       "author.steamid                                           0.046   \n",
       "author.num_games_owned                                   0.000   \n",
       "author.num_reviews                                      -0.000   \n",
       "author.playtime_forever                                  0.360   \n",
       "author.playtime_last_two_weeks                           1.000   \n",
       "author.playtime_at_review                                0.248   \n",
       "author.last_played                                       0.011   \n",
       "\n",
       "                                author.playtime_at_review  author.last_played  \n",
       "Unnamed: 0                                          0.008               0.418  \n",
       "app_id                                             -0.077               0.010  \n",
       "review_id                                           0.009               0.063  \n",
       "timestamp_created                                  -0.002               0.979  \n",
       "timestamp_updated                                   0.004               0.980  \n",
       "recommended                                        -0.036              -0.175  \n",
       "votes_helpful                                      -0.000              -0.000  \n",
       "votes_funny                                        -0.000              -0.000  \n",
       "weighted_vote_score                                 0.011              -0.003  \n",
       "comment_count                                       0.008              -0.001  \n",
       "steam_purchase                                      0.004              -0.249  \n",
       "received_for_free                                   0.005              -0.752  \n",
       "written_during_early_access                        -0.007              -0.705  \n",
       "author.steamid                                     -0.036               0.517  \n",
       "author.num_games_owned                             -0.000              -0.000  \n",
       "author.num_reviews                                 -0.000              -0.000  \n",
       "author.playtime_forever                             0.834               0.012  \n",
       "author.playtime_last_two_weeks                      0.248               0.011  \n",
       "author.playtime_at_review                           1.000               0.010  \n",
       "author.last_played                                  0.010               1.000  "
      ]
     },
     "execution_count": 23,
     "metadata": {},
     "output_type": "execute_result"
    }
   ],
   "source": [
    "dataframe.corr()"
   ]
  },
  {
   "cell_type": "code",
   "execution_count": 24,
   "metadata": {},
   "outputs": [
    {
     "data": {
      "text/plain": [
       "<function matplotlib.pyplot.show(close=None, block=None)>"
      ]
     },
     "execution_count": 24,
     "metadata": {},
     "output_type": "execute_result"
    },
    {
     "data": {
      "image/png": "[encoded data removed]",
      "text/plain": [
       "<Figure size 1152x360 with 2 Axes>"
      ]
     },
     "metadata": {
      "needs_background": "light"
     },
     "output_type": "display_data"
    }
   ],
   "source": [
    "#for a better visualization:\n",
    "import seaborn as sns\n",
    "#selecting relevant numerical columns\n",
    "d=dataframe[['timestamp_created','timestamp_updated','votes_helpful','votes_funny','weighted_vote_score','comment_count','author.num_games_owned','author.num_reviews','author.playtime_forever','author.playtime_last_two_weeks','author.playtime_at_review','author.last_played']]\n",
    "dataset_num = d.select_dtypes(include = ['float64', 'int64'])\n",
    "#correlation visualisation\n",
    "corr=dataset_num.corr()\n",
    "plt.figure(figsize = (16,5))\n",
    "sns.heatmap(abs(corr), annot=True) #correlations are in absolute value for visual purposes (to be able to easily spot strong correlations)\n",
    "plt.show"
   ]
  },
  {
   "cell_type": "markdown",
   "metadata": {
    "id": "pWSLz_iPFQgo"
   },
   "source": [
    "# [RQ2] Let's explore the dataset by finding simple insights into the reviews.\n",
    "---"
   ]
  },
  {
   "cell_type": "markdown",
   "metadata": {
    "id": "d9bt-NZaFbm2"
   },
   "source": [
    "### Plot the number of reviews for each application in descending order."
   ]
  },
  {
   "cell_type": "code",
   "execution_count": 25,
   "metadata": {
    "colab": {
     "base_uri": "https://localhost:8080/",
     "height": 0
    },
    "id": "OuVXwZXtzunJ",
    "outputId": "eb3f9157-840b-4d3a-b707-46407205bda8"
   },
   "outputs": [
    {
     "data": {
      "text/plain": [
       "Text(0, 0.5, 'Reviews Amount')"
      ]
     },
     "execution_count": 25,
     "metadata": {},
     "output_type": "execute_result"
    },
    {
     "data": {
      "image/png": "[encoded data removed]",
      "text/plain": [
       "<Figure size 2160x1440 with 1 Axes>"
      ]
     },
     "metadata": {
      "needs_background": "light"
     },
     "output_type": "display_data"
    }
   ],
   "source": [
    "reviewsAmounts = dataframe['app_id'].value_counts()\n",
    "ra_plot = reviewsAmounts.plot(kind='bar',\n",
    "                                    figsize=(30,20),\n",
    "                                    title=\"Reviews amount for each App\")\n",
    "ra_plot.set_xlabel(\"Application ID\")\n",
    "ra_plot.set_ylabel(\"Reviews Amount\")\n",
    "#plt.show()"
   ]
  },
  {
   "cell_type": "markdown",
   "metadata": {
    "id": "YRfbLFOuFlhR"
   },
   "source": [
    "### Find out are the most and least reviewed applications"
   ]
  },
  {
   "cell_type": "code",
   "execution_count": 26,
   "metadata": {
    "colab": {
     "base_uri": "https://localhost:8080/"
    },
    "id": "sicK8WYe8Dn3",
    "outputId": "af8407b1-c1b9-453c-99ea-ce782255d4b0"
   },
   "outputs": [
    {
     "name": "stdout",
     "output_type": "stream",
     "text": [
      "578080\n",
      "1260786198\n"
     ]
    }
   ],
   "source": [
    "print(reviewsAmounts.idxmax())\n",
    "print(reviewsAmounts.idxmin())"
   ]
  },
  {
   "cell_type": "markdown",
   "metadata": {
    "id": "v3YouPvQF1Co"
   },
   "source": [
    "### What applications have the best Weighted Vote Score?\n"
   ]
  },
  {
   "cell_type": "code",
   "execution_count": 27,
   "metadata": {
    "colab": {
     "base_uri": "https://localhost:8080/"
    },
    "id": "SmZ9SjDE9N-L",
    "outputId": "c2865fc0-9d27-459d-b18f-f5e810511dd8"
   },
   "outputs": [
    {
     "name": "stdout",
     "output_type": "stream",
     "text": [
      "3984227    1014231018\n",
      "Name: app_id, dtype: int64\n"
     ]
    }
   ],
   "source": [
    "# daframe.sort_values('weighted_vote_score')\n",
    "scores = dataframe['weighted_vote_score']\n",
    "max = scores.idxmax()\n",
    "\n",
    "print(dataframe[dataframe['weighted_vote_score'] == dataframe['weighted_vote_score'].max()]['app_id'])\n"
   ]
  },
  {
   "cell_type": "markdown",
   "metadata": {
    "id": "CrFGNNieF3th"
   },
   "source": [
    "### Which applications have the most and the least recommendations?\n"
   ]
  },
  {
   "cell_type": "code",
   "execution_count": 28,
   "metadata": {
    "colab": {
     "base_uri": "https://localhost:8080/"
    },
    "id": "Ow-jtVNC_GPR",
    "outputId": "8c756189-3a66-4ce5-a2ae-a21493e5ae1f"
   },
   "outputs": [
    {
     "name": "stdout",
     "output_type": "stream",
     "text": [
      "         app_id  recommendations\n",
      "196      578080          2530672\n",
      "315  1014231018                1\n",
      "316  1260786198                1\n",
      "317  1278507025                1\n",
      "318  1313321531                1\n",
      "319  1330466723                1\n",
      "320  1372767453                1\n",
      "321  1455932317                1\n",
      "322  1571293102                1\n"
     ]
    }
   ],
   "source": [
    "recommended = dataframe.groupby('app_id')['recommended'].apply(lambda r : (r == True).sum()).reset_index(name = 'recommendations')\n",
    "max_min_recommendations = recommended[\n",
    "        (recommended['recommendations'] == recommended['recommendations'].max()) |\n",
    "        (recommended['recommendations'] == recommended['recommendations'].min())\n",
    "      ]\n",
    "print(max_min_recommendations)"
   ]
  },
  {
   "cell_type": "markdown",
   "metadata": {
    "id": "_Qg8RFmNGCzc"
   },
   "source": [
    "### How many of these applications were purchased, and how many were given for free?\n"
   ]
  },
  {
   "cell_type": "code",
   "execution_count": 29,
   "metadata": {
    "colab": {
     "base_uri": "https://localhost:8080/",
     "height": 307
    },
    "id": "47wFyLzLF-S2",
    "outputId": "34364af0-2ee7-4b10-b10e-518a892405e6"
   },
   "outputs": [
    {
     "name": "stdout",
     "output_type": "stream",
     "text": [
      "Given for free    17688069\n",
      "Purchased         21059310\n",
      "Name: received_for_free, dtype: int64\n"
     ]
    }
   ],
   "source": [
    "print((dataframe)['received_for_free'].agg({'Given for free' : lambda x : (x == True).sum(), 'Purchased' : lambda y : (y == False).sum()}))"
   ]
  },
  {
   "cell_type": "markdown",
   "metadata": {
    "id": "3DyMBjtjXyqE"
   },
   "source": [
    "# [RQ3]  Now it's important to understand the preferred time to do reviews.\n",
    "---\n"
   ]
  },
  {
   "cell_type": "markdown",
   "metadata": {
    "id": "-9gIqyKpYT50"
   },
   "source": [
    "### What is the most common time that authors review an application? For example, authors usually write a review at 17:44."
   ]
  },
  {
   "cell_type": "code",
   "execution_count": 30,
   "metadata": {
    "id": "tRlv27JmfQp0"
   },
   "outputs": [],
   "source": [
    "timeframes = pd.to_datetime(dataframe['timestamp_created'].apply(lambda time : (datetime.fromtimestamp(time))))"
   ]
  },
  {
   "cell_type": "code",
   "execution_count": 31,
   "metadata": {
    "id": "GWr_u55og75Z"
   },
   "outputs": [
    {
     "name": "stdout",
     "output_type": "stream",
     "text": [
      "People usually write reviews at: \n",
      "16:54\n"
     ]
    },
    {
     "data": {
      "text/plain": [
       "[None]"
      ]
     },
     "execution_count": 31,
     "metadata": {},
     "output_type": "execute_result"
    }
   ],
   "source": [
    "modes = timeframes.dt.time.mode()\n",
    "print(\"People usually write reviews at: \")\n",
    "[print(time.strftime('%H:%M') ) for time in modes.values]"
   ]
  },
  {
   "cell_type": "markdown",
   "metadata": {
    "id": "PT04u-zWkej4"
   },
   "source": [
    "### Create a function that receives as a parameter a list of time intervals and returns the plot the number of reviews for each of the intervals.\n"
   ]
  },
  {
   "cell_type": "code",
   "execution_count": 32,
   "metadata": {
    "id": "E9RyZZBImeh0"
   },
   "outputs": [],
   "source": [
    "# Counting how many datetime occurences in input_timeframes belong to each interval in intervals\n",
    "#\n",
    "# Parameters :\n",
    "# [intervals] : List of datetime tuples (interval_start, interval_end)\n",
    "# such that they define time intervals. E.G. = (06:00, 12:00). [start] has to be lesser than [end]\n",
    "# [input_timeframes] : input list of (DateTime objects)\n",
    "#\n",
    "# Returns : A Pandas dataframe with input_timeframes grouped by intervals.\n",
    "#           E.G. : \n",
    "#           '    Interval   |   Reviews    '\n",
    "#           ' --------------|--------------'\n",
    "#           ' 06:00 - 09:59 |    100000    '\n",
    "#           ' 10:00 - 11:59 |     30000    '\n",
    "#           '------------------------------'\n",
    "def count_reviews_in_belonging_t_interval(intervals, input_timeframes):\n",
    "\n",
    "    df_timeframes = pd.DataFrame()\n",
    "    df_timeframes['times'] = input_timeframes\n",
    "    df_timeframes.index = pd.to_datetime(input_timeframes)\n",
    "    output = pd.DataFrame({'Interval' : [], 'Reviews' : []})\n",
    "\n",
    "    for (start,end) in intervals :\n",
    "        assert(start < end), 'Input Mismatch: DateTime interval had start greater than end!'\n",
    "        \n",
    "        start = start.strftime('%H:%M')\n",
    "        end = end.strftime('%H:%M')\n",
    "        r_amount = len(df_timeframes.between_time(start, end))\n",
    "        output = output.append(pd.DataFrame({'Interval' : ['{}-{}'.format(start,end)], 'Reviews': [r_amount]}), ignore_index = True)\n",
    "    return output\n"
   ]
  },
  {
   "cell_type": "markdown",
   "metadata": {
    "id": "SYgtygz-spAI"
   },
   "source": [
    "### Use the function that you created in the previous literal to plot the number of reviews between the following time intervals:"
   ]
  },
  {
   "cell_type": "code",
   "execution_count": 33,
   "metadata": {
    "id": "VPumks8psqUM"
   },
   "outputs": [
    {
     "data": {
      "text/plain": [
       "<AxesSubplot:xlabel='Interval'>"
      ]
     },
     "execution_count": 33,
     "metadata": {},
     "output_type": "execute_result"
    },
    {
     "data": {
      "image/png": "[encoded data removed]",
      "text/plain": [
       "<Figure size 432x288 with 1 Axes>"
      ]
     },
     "metadata": {
      "needs_background": "light"
     },
     "output_type": "display_data"
    }
   ],
   "source": [
    "# Defining said intervals as datetime objects\n",
    "intervals = [\n",
    "    ( datetime.strptime('06:00:00', \"%H:%M:%S\"), datetime.strptime('10:59:59', \"%H:%M:%S\") ),\n",
    "    ( datetime.strptime('11:00:00', \"%H:%M:%S\"), datetime.strptime('16:59:59', \"%H:%M:%S\") ),\n",
    "    ( datetime.strptime('14:00:00', \"%H:%M:%S\"), datetime.strptime('16:59:59', \"%H:%M:%S\") ), \n",
    "    ( datetime.strptime('17:00:00', \"%H:%M:%S\"), datetime.strptime('19:59:59', \"%H:%M:%S\") ),\n",
    "    ( datetime.strptime('20:00:00', \"%H:%M:%S\"), datetime.strptime('23:59:59', \"%H:%M:%S\") ),\n",
    "    ( datetime.strptime('00:00:00', \"%H:%M:%S\"), datetime.strptime('02:59:59', \"%H:%M:%S\") ),\n",
    "    ( datetime.strptime('03:00:00', \"%H:%M:%S\"), datetime.strptime('05:59:59', \"%H:%M:%S\") )\n",
    "]\n",
    "\n",
    "# Counnting how many reviews have been placed in said intervals\n",
    "output = count_reviews_in_belonging_t_interval(intervals, timeframes)\n",
    "output.plot(x = 'Interval', y='Reviews', kind='bar')"
   ]
  },
  {
   "cell_type": "markdown",
   "metadata": {},
   "source": [
    "# [RQ4] As Steam is a worldwide platform, the reviews can be done in many languages. Let's extract some information about it."
   ]
  },
  {
   "cell_type": "markdown",
   "metadata": {},
   "source": [
    "### What are the top 3 languages used to review applications?"
   ]
  },
  {
   "cell_type": "code",
   "execution_count": 34,
   "metadata": {},
   "outputs": [
    {
     "name": "stdout",
     "output_type": "stream",
     "text": [
      "['english', 'schinese', 'russian']\n"
     ]
    }
   ],
   "source": [
    "top_3_languages = dataframe['language'].value_counts()[:3].index.tolist()\n",
    "print(top_3_languages)"
   ]
  },
  {
   "cell_type": "markdown",
   "metadata": {},
   "source": [
    "### Create a function that receives as parameters both the name of a data set and a list of languages’ names and returns a data frame filtered only with the reviews written in the provided languages."
   ]
  },
  {
   "cell_type": "code",
   "execution_count": 35,
   "metadata": {},
   "outputs": [],
   "source": [
    "def filter_dataset_on_languages(dataset, languages) :\n",
    "    return dataset[dataset['language'].isin(languages)]\n"
   ]
  },
  {
   "cell_type": "markdown",
   "metadata": {},
   "source": [
    "### Use the function created in the previous literal to find what percentage of these reviews (associated with the top 3 languages) were voted as funny?"
   ]
  },
  {
   "cell_type": "code",
   "execution_count": 36,
   "metadata": {},
   "outputs": [],
   "source": [
    "filtered_ds = filter_dataset_on_languages(dataframe, top_3_languages)"
   ]
  },
  {
   "cell_type": "code",
   "execution_count": 37,
   "metadata": {},
   "outputs": [
    {
     "name": "stdout",
     "output_type": "stream",
     "text": [
      "11.81%\n"
     ]
    }
   ],
   "source": [
    "print('{:.2f}%'.format(100 * (len(filtered_ds[filtered_ds['votes_funny'] > 0])) / len(filtered_ds)))"
   ]
  },
  {
   "cell_type": "markdown",
   "metadata": {},
   "source": [
    "### Use the function created in the literal “a” to find what percentage of these reviews (associated with the top 3 languages) were voted as helpful?"
   ]
  },
  {
   "cell_type": "code",
   "execution_count": 38,
   "metadata": {},
   "outputs": [
    {
     "name": "stdout",
     "output_type": "stream",
     "text": [
      "28.13%\n"
     ]
    }
   ],
   "source": [
    "print('{:.2f}%'.format(100 * (len(filtered_ds[filtered_ds['votes_helpful'] > 0])) / len(filtered_ds)))"
   ]
  },
  {
   "cell_type": "markdown",
   "metadata": {},
   "source": [
    "# [RQ5] The reviews' authors are users from the game that provide their opinion on it. Now you can check how often they make reviews.\n",
    "\n"
   ]
  },
  {
   "cell_type": "markdown",
   "metadata": {},
   "source": [
    "### Plot the top 10 most popular reviewers and the number of reviews."
   ]
  },
  {
   "cell_type": "code",
   "execution_count": 39,
   "metadata": {},
   "outputs": [],
   "source": [
    "top_10_reviewers = dataframe[dataframe['author.steamid'].isin(dataframe['author.steamid'].value_counts()[:10].index.tolist())][['author.steamid','author.num_reviews']].drop_duplicates()"
   ]
  },
  {
   "cell_type": "code",
   "execution_count": 40,
   "metadata": {},
   "outputs": [
    {
     "data": {
      "text/plain": [
       "<AxesSubplot:xlabel='Reviewer'>"
      ]
     },
     "execution_count": 40,
     "metadata": {},
     "output_type": "execute_result"
    },
    {
     "data": {
      "image/png": "[encoded data removed]",
      "text/plain": [
       "<Figure size 432x288 with 1 Axes>"
      ]
     },
     "metadata": {
      "needs_background": "light"
     },
     "output_type": "display_data"
    }
   ],
   "source": [
    "reviewers = pd.DataFrame({'Reviewer':top_10_reviewers['author.steamid'], 'Reviews Amount':top_10_reviewers['author.num_reviews']})\n",
    "reviewers.plot(x = 'Reviewer', y = 'Reviews Amount', kind='bar')\n"
   ]
  },
  {
   "cell_type": "markdown",
   "metadata": {},
   "source": [
    "### What applications did the most popular author review?"
   ]
  },
  {
   "cell_type": "code",
   "execution_count": 41,
   "metadata": {},
   "outputs": [],
   "source": [
    "most_popular_author = dataframe['author.steamid'].mode()[0]\n",
    "most_popular_author_reviews = dataframe[dataframe['author.steamid'] == most_popular_author]\n"
   ]
  },
  {
   "cell_type": "code",
   "execution_count": 42,
   "metadata": {},
   "outputs": [
    {
     "name": "stdout",
     "output_type": "stream",
     "text": [
      "          app_id                  app_name\n",
      "512675        70                 Half-Life\n",
      "539037       240    Counter-Strike: Source\n",
      "658130       420  Half-Life 2: Episode Two\n",
      "849477       620                  Portal 2\n",
      "1549581     4000               Garry's Mod\n",
      "...          ...                       ...\n",
      "21578107  367520             Hollow Knight\n",
      "21624890  447820             Day of Infamy\n",
      "21651066  598330                SimAirport\n",
      "21656340  543460             Dead Rising 4\n",
      "21672218  355790  Styx: Shards of Darkness\n",
      "\n",
      "[149 rows x 2 columns]\n"
     ]
    }
   ],
   "source": [
    "print(most_popular_author_reviews[['app_id','app_name']])"
   ]
  },
  {
   "cell_type": "markdown",
   "metadata": {},
   "source": [
    "### How many applications did he purchase, and how many did he get as free? Provide the number (count) and the percentage."
   ]
  },
  {
   "cell_type": "code",
   "execution_count": 43,
   "metadata": {},
   "outputs": [
    {
     "name": "stdout",
     "output_type": "stream",
     "text": [
      "Most popular reviewer has : \n",
      "145/149 (97.32%) games that have been purchased\n",
      "4/149 (2.68%) games that have been received for free\n"
     ]
    }
   ],
   "source": [
    "games_received_for_free = most_popular_author_reviews[most_popular_author_reviews['received_for_free'] == True]\n",
    "games_paid = most_popular_author_reviews[most_popular_author_reviews['received_for_free'] == False]\n",
    "\n",
    "amount_paid = len(games_paid)\n",
    "amount_free = len(games_received_for_free)\n",
    "tot = amount_free + amount_paid\n",
    "\n",
    "print(\"Most popular reviewer has : \")\n",
    "print(\"{}/{} ({:.2f}%) games that have been purchased\".format(amount_paid, tot, 100 * amount_paid / tot))\n",
    "print(\"{}/{} ({:.2f}%) games that have been received for free\".format(amount_free, tot, 100 * amount_free / tot))"
   ]
  },
  {
   "cell_type": "markdown",
   "metadata": {},
   "source": [
    "### How many of the applications he purchased reviewed positively, and how many negatively? How about the applications he received for free?"
   ]
  },
  {
   "cell_type": "code",
   "execution_count": 44,
   "metadata": {},
   "outputs": [
    {
     "name": "stdout",
     "output_type": "stream",
     "text": [
      "Author 76561198062813911 has reviewed positively 142 of the 145 purchased.\n",
      "Author 76561198062813911 has reviewed negatively 3 of the 145 purchased.\n",
      "Author 76561198062813911 has reviewed positively 4 of the 4 received for free.\n",
      "Author 76561198062813911 has reviewed negatively 0 of the 4 received for free.\n"
     ]
    }
   ],
   "source": [
    "print(\"Author {} has reviewed positively {} of the {} purchased.\".format(most_popular_author, len(games_paid[games_paid['recommended'] == True]), amount_paid))\n",
    "print(\"Author {} has reviewed negatively {} of the {} purchased.\".format(most_popular_author, len(games_paid[games_paid['recommended'] == False]), amount_paid))\n",
    "print(\"Author {} has reviewed positively {} of the {} received for free.\".format(most_popular_author, len(games_received_for_free[games_received_for_free['recommended'] == True]), amount_free))\n",
    "print(\"Author {} has reviewed negatively {} of the {} received for free.\".format(most_popular_author, len(games_received_for_free[games_received_for_free['recommended'] == False]), amount_free))"
   ]
  },
  {
   "cell_type": "markdown",
   "metadata": {},
   "source": [
    "# [RQ6] It's time to get information from the updates that a user does to his reviews.\n",
    "---"
   ]
  },
  {
   "cell_type": "markdown",
   "metadata": {},
   "source": [
    "### What is the average time (days and minutes) a user lets pass before he updates a review?"
   ]
  },
  {
   "cell_type": "code",
   "execution_count": 45,
   "metadata": {},
   "outputs": [],
   "source": [
    "# Filtering out reviews that don't have updated timestamp\n",
    "updated_reviews = dataframe[dataframe['timestamp_updated'].notnull()]\n",
    "updated_reviews = updated_reviews[updated_reviews['timestamp_updated'] != updated_reviews['timestamp_created']]"
   ]
  },
  {
   "cell_type": "code",
   "execution_count": 46,
   "metadata": {},
   "outputs": [],
   "source": [
    "time_between_updates = updated_reviews.apply(lambda row : (datetime.fromtimestamp(row['timestamp_updated']) - datetime.fromtimestamp(row['timestamp_created'])), axis=1)"
   ]
  },
  {
   "cell_type": "code",
   "execution_count": 47,
   "metadata": {},
   "outputs": [
    {
     "name": "stdout",
     "output_type": "stream",
     "text": [
      "183 days 23:10:19.433543902\n"
     ]
    }
   ],
   "source": [
    "average_time_between_updates = np.mean(time_between_updates)\n",
    "print(average_time_between_updates)"
   ]
  },
  {
   "cell_type": "markdown",
   "metadata": {},
   "source": [
    "### Plot the top 3 authors that usually update their reviews."
   ]
  },
  {
   "cell_type": "code",
   "execution_count": 48,
   "metadata": {},
   "outputs": [
    {
     "data": {
      "text/plain": [
       "<AxesSubplot:title={'center':'Top 3 Review Updaters'}, xlabel='Reviewers', ylabel='Updates Amount'>"
      ]
     },
     "execution_count": 48,
     "metadata": {},
     "output_type": "execute_result"
    },
    {
     "data": {
      "image/png": "[encoded data removed]",
      "text/plain": [
       "<Figure size 432x288 with 1 Axes>"
      ]
     },
     "metadata": {
      "needs_background": "light"
     },
     "output_type": "display_data"
    }
   ],
   "source": [
    "most_frequent_updaters = (updated_reviews['author.steamid'].value_counts()[:3])\n",
    "most_frequent_updaters.plot(kind='bar', title =\"Top 3 Review Updaters\", xlabel=\"Reviewers\", ylabel =\"Updates Amount\")"
   ]
  },
  {
   "cell_type": "markdown",
   "metadata": {},
   "source": [
    "# [RQ7] Of course, calculating probabilities is a job that any Data Scientist must know. Let's compute Some interesting figures.\n",
    "---\n"
   ]
  },
  {
   "cell_type": "markdown",
   "metadata": {},
   "source": [
    "### What’s the probability that a review has a Weighted Vote Score equal to or bigger than 0.5?"
   ]
  },
  {
   "cell_type": "code",
   "execution_count": 49,
   "metadata": {},
   "outputs": [],
   "source": [
    "well_voted_reviews = (dataframe[dataframe['weighted_vote_score'] >= 0.5] )"
   ]
  },
  {
   "cell_type": "code",
   "execution_count": 50,
   "metadata": {},
   "outputs": [
    {
     "name": "stdout",
     "output_type": "stream",
     "text": [
      "21.75%\n"
     ]
    }
   ],
   "source": [
    "well_voted_review_probability = len(well_voted_reviews) / len(dataframe)\n",
    "print('{:.2f}%'.format(100 * well_voted_review_probability))"
   ]
  },
  {
   "cell_type": "markdown",
   "metadata": {},
   "source": [
    "### What’s the probability that a review has at least one vote as funny given that the Weighted Vote Score is bigger than 0.5?"
   ]
  },
  {
   "cell_type": "code",
   "execution_count": 51,
   "metadata": {},
   "outputs": [],
   "source": [
    "funny_and_well_voted_reviews = well_voted_reviews[well_voted_reviews['votes_funny'] > 0]"
   ]
  },
  {
   "cell_type": "code",
   "execution_count": 52,
   "metadata": {},
   "outputs": [],
   "source": [
    "funny_and_well_voted_reviews_probability = (len(funny_and_well_voted_reviews) / len(well_voted_reviews))"
   ]
  },
  {
   "cell_type": "code",
   "execution_count": 53,
   "metadata": {},
   "outputs": [
    {
     "name": "stdout",
     "output_type": "stream",
     "text": [
      "19.04%\n"
     ]
    }
   ],
   "source": [
    "print('{:.2f}%'.format(100 * funny_and_well_voted_reviews_probability))"
   ]
  },
  {
   "cell_type": "markdown",
   "metadata": {},
   "source": [
    "### Is the probability that “a review has at least one vote as funny” independent of the “probability that a review has a Weighted Vote Score equal or bigger than 0.5”?"
   ]
  },
  {
   "cell_type": "markdown",
   "metadata": {},
   "source": [
    "by definition probs are indipendent if the prob of their interception is equal to p(a) * p(b).. so..."
   ]
  },
  {
   "cell_type": "code",
   "execution_count": 54,
   "metadata": {},
   "outputs": [],
   "source": [
    "funny_reviews = dataframe[dataframe['votes_funny'] > 0]\n",
    "funny_well_voted_interception = (dataframe.query('votes_funny > 0 & weighted_vote_score >= 0.5'))"
   ]
  },
  {
   "cell_type": "code",
   "execution_count": 55,
   "metadata": {},
   "outputs": [],
   "source": [
    "funny_reviews_probability = len(funny_reviews)/len(dataframe)\n",
    "\n",
    "funny_times_well_voted_probability = funny_reviews_probability * well_voted_review_probability\n",
    "funny_well_voted_interception_probability = len(funny_well_voted_interception)/len(dataframe)"
   ]
  },
  {
   "cell_type": "code",
   "execution_count": 56,
   "metadata": {},
   "outputs": [
    {
     "name": "stdout",
     "output_type": "stream",
     "text": [
      "False\n"
     ]
    }
   ],
   "source": [
    "print(funny_well_voted_interception_probability == funny_times_well_voted_probability)"
   ]
  },
  {
   "cell_type": "markdown",
   "metadata": {},
   "source": [
    "# [RQ8] Every decision you take in a data-based environment should be reinforced with charts, statistical tests and analysis methods to check if a hypothesis is correct or not.\n",
    "---"
   ]
  },
  {
   "cell_type": "markdown",
   "metadata": {},
   "source": [
    "### Is there a significant difference in the Weighted Vote Score of reviews made in Chinese vs the ones made in Russian? Use an appropriate statistical test or technique and support your choice.\n"
   ]
  },
  {
   "cell_type": "code",
   "execution_count": 60,
   "metadata": {},
   "outputs": [
    {
     "name": "stdout",
     "output_type": "stream",
     "text": [
      "<class 'list'>\n"
     ]
    },
    {
     "data": {
      "text/plain": [
       "<Figure size 432x288 with 0 Axes>"
      ]
     },
     "metadata": {},
     "output_type": "display_data"
    },
    {
     "data": {
      "image/png": "[encoded data removed]",
      "text/plain": [
       "<Figure size 1224x576 with 1 Axes>"
      ]
     },
     "metadata": {
      "needs_background": "light"
     },
     "output_type": "display_data"
    },
    {
     "name": "stdout",
     "output_type": "stream",
     "text": [
      "Ttest_indResult(statistic=nan, pvalue=nan)\n"
     ]
    }
   ],
   "source": [
    "#from scipy.stats import mannwhitneyu\n",
    "import scipy.stats as stats\n",
    "#from scipy.stats import wilcoxon\n",
    "from scipy.stats import ks_2samp\n",
    "\n",
    "\n",
    "dataframe_chin_rus=dataframe[(dataframe['language']=='schinese') | (dataframe['language']=='russian') ]\n",
    "dataframe_chin_rus=dataframe_chin_rus[['weighted_vote_score','language']]\n",
    "df_weight_rus = dataframe_chin_rus[dataframe_chin_rus['language']=='russian']['weighted_vote_score'].tolist()\n",
    "df_weight_chin = dataframe_chin_rus[dataframe_chin_rus['language']=='schinese']['weighted_vote_score'].tolist()\n",
    "\n",
    "print(type(df_weight_rus))\n",
    "#print(df_weight_rus.describe())\n",
    "#print(df_weight_chin.describe())\n",
    "\n",
    "#print('Mean of weighted scores of the Russian reviews are :',df_weight_rus.mean(),\n",
    "#      '\\nMean of weighted scores of the chinese reviews are : ',df_weight_chin.mean())\n",
    "\n",
    "plt.figure()\n",
    "fig=plt.figure(figsize=(17,8))\n",
    "\n",
    "bins=np.linspace(0,1,25)\n",
    "plt.hist(df_weight_rus, bins,alpha=0.5, label=\"russian\")\n",
    "plt.hist(df_weight_chin, bins,alpha=0.5, label=\"chinese\")\n",
    "plt.legend(loc='upper right')\n",
    "plt.show()\n",
    "\n",
    "ttest=stats.ttest_ind(df_weight_rus,df_weight_chin, equal_var=False)\n",
    "print(ttest)\n",
    "#altough the values aren't normally distributed, we could apply a t-test since the dataset is too big, and by the cantral limit theorem we could assume that the distribution is normal\n"
   ]
  },
  {
   "cell_type": "markdown",
   "metadata": {},
   "source": [
    "We are analysing the significance of difference between the Chinese weighted score and the Russian weighted score. \n",
    "- Altough the values aren't normally distributed, we could apply a t-test since the dataset is too big, and by the cantral limit theorem we could assume that the distribution is normal.\n",
    "- Since the p-value is he two means are different, and the significance test results have a p-value of <0.05. We can assume that the two weighted scores are significantly different. "
   ]
  },
  {
   "cell_type": "markdown",
   "metadata": {},
   "source": [
    "### Can you find any significant relationship between the time that a user lets pass before he updates the review and the Weighted Vote Score? Use an appropriate statistical test or technique and support your choice.\n"
   ]
  },
  {
   "cell_type": "code",
   "execution_count": 61,
   "metadata": {},
   "outputs": [],
   "source": [
    "import seaborn as sns \n",
    "timeframes = pd.to_datetime(dataframe['timestamp_created'].apply(lambda time : (datetime.fromtimestamp(time))))\n",
    "timeframes_upd = pd.to_datetime(dataframe['timestamp_updated'].apply(lambda time : (datetime.fromtimestamp(time))))\n",
    "#The difference between updated time and created time gives us the Gap time between updation.\n",
    "timeframe_gaptime = timeframes_upd - timeframes\n",
    "timeframe_gaptime= timeframe_gaptime / np.timedelta64(1, 's')\n",
    "\n",
    "\n",
    "weighted = dataframe['weighted_vote_score']\n",
    "\n",
    "data={'Gaptime': timeframe_gaptime,\n",
    "      'VotedWeights' : weighted,\n",
    "      'Recommended': dataframe['recommended']\n",
    "     }\n",
    "time_weight_df=pd.DataFrame(data)\n"
   ]
  },
  {
   "cell_type": "code",
   "execution_count": 62,
   "metadata": {},
   "outputs": [
    {
     "data": {
      "text/plain": [
       "<Figure size 432x288 with 0 Axes>"
      ]
     },
     "metadata": {},
     "output_type": "display_data"
    },
    {
     "data": {
      "image/png": "[encoded data removed]",
      "text/plain": [
       "<Figure size 1224x576 with 1 Axes>"
      ]
     },
     "metadata": {
      "needs_background": "light"
     },
     "output_type": "display_data"
    }
   ],
   "source": [
    "##plot\n",
    "plt.figure()\n",
    "fig=plt.figure(figsize=(17,8))\n",
    "sns.scatterplot(data=time_weight_df, x='Gaptime', y='VotedWeights')\n",
    "plt.title('Scatterplot of Gap time between updates of reviews and Weighted Score')\n",
    "plt.xlabel('Gap Time')\n",
    "plt.ylabel('Weighted Vote Score')\n",
    "plt.show()"
   ]
  },
  {
   "cell_type": "markdown",
   "metadata": {},
   "source": [
    "From the scatter-plot we can see how there is no linear correlation between the variables. "
   ]
  },
  {
   "cell_type": "code",
   "execution_count": null,
   "metadata": {},
   "outputs": [],
   "source": [
    "#we'll use a chi square contingency test to check if there's a dependance between the variables\n",
    "from scipy.stats import chi2_contingency \n",
    "contingency_table=pd.crosstab(time_weight_df['Gaptime'],time_weight_df['VotedWeights'])\n",
    "print('p-value: ',chi2_contingency(contingency_table)[1])"
   ]
  },
  {
   "cell_type": "markdown",
   "metadata": {},
   "source": [
    "A Chi square contingency test results in a p-value=0.0, therefore the variables are independent, i.e. there's no significant relationship between them."
   ]
  },
  {
   "cell_type": "markdown",
   "metadata": {},
   "source": [
    "### Is there any change in the relationship of the variables mentioned in the previous literal if you include whether an application is recommended or not in the review? Use an appropriate statistical test or technique and support your choice."
   ]
  },
  {
   "cell_type": "code",
   "execution_count": 67,
   "metadata": {},
   "outputs": [
    {
     "data": {
      "text/plain": [
       "<Figure size 432x288 with 0 Axes>"
      ]
     },
     "metadata": {},
     "output_type": "display_data"
    },
    {
     "data": {
      "image/png": "[encoded data removed]",
      "text/plain": [
       "<Figure size 1080x576 with 1 Axes>"
      ]
     },
     "metadata": {
      "needs_background": "light"
     },
     "output_type": "display_data"
    },
    {
     "ename": "ValueError",
     "evalue": "cannot reindex from a duplicate axis",
     "output_type": "error",
     "traceback": [
      "\u001b[1;31m---------------------------------------------------------------------------\u001b[0m",
      "\u001b[1;31mValueError\u001b[0m                                Traceback (most recent call last)",
      "\u001b[1;32m<ipython-input-67-17842ab58d42>\u001b[0m in \u001b[0;36m<module>\u001b[1;34m\u001b[0m\n\u001b[0;32m      7\u001b[0m \u001b[0mplt\u001b[0m\u001b[1;33m.\u001b[0m\u001b[0mshow\u001b[0m\u001b[1;33m(\u001b[0m\u001b[1;33m)\u001b[0m\u001b[1;33m\u001b[0m\u001b[1;33m\u001b[0m\u001b[0m\n\u001b[0;32m      8\u001b[0m \u001b[1;33m\u001b[0m\u001b[0m\n\u001b[1;32m----> 9\u001b[1;33m contingency_table=pd.crosstab(time_weight_df[time_weight_df['Recommended']==True]['Gaptime'],\n\u001b[0m\u001b[0;32m     10\u001b[0m time_weight_df[time_weight_df['Recommended']==True]['VotedWeights'])\n\u001b[0;32m     11\u001b[0m \u001b[0mprint\u001b[0m\u001b[1;33m(\u001b[0m\u001b[1;34m'p-value for recommended application: '\u001b[0m\u001b[1;33m,\u001b[0m\u001b[0mchi2_contingency\u001b[0m\u001b[1;33m(\u001b[0m\u001b[0mcontingency_table\u001b[0m\u001b[1;33m)\u001b[0m\u001b[1;33m[\u001b[0m\u001b[1;36m1\u001b[0m\u001b[1;33m]\u001b[0m\u001b[1;33m)\u001b[0m\u001b[1;33m\u001b[0m\u001b[1;33m\u001b[0m\u001b[0m\n",
      "\u001b[1;32m~\\anaconda3\\lib\\site-packages\\pandas\\core\\reshape\\pivot.py\u001b[0m in \u001b[0;36mcrosstab\u001b[1;34m(index, columns, values, rownames, colnames, aggfunc, margins, margins_name, dropna, normalize)\u001b[0m\n\u001b[0;32m    596\u001b[0m         \u001b[1;33m**\u001b[0m\u001b[0mdict\u001b[0m\u001b[1;33m(\u001b[0m\u001b[0mzip\u001b[0m\u001b[1;33m(\u001b[0m\u001b[0munique_colnames\u001b[0m\u001b[1;33m,\u001b[0m \u001b[0mcolumns\u001b[0m\u001b[1;33m)\u001b[0m\u001b[1;33m)\u001b[0m\u001b[1;33m,\u001b[0m\u001b[1;33m\u001b[0m\u001b[1;33m\u001b[0m\u001b[0m\n\u001b[0;32m    597\u001b[0m     }\n\u001b[1;32m--> 598\u001b[1;33m     \u001b[0mdf\u001b[0m \u001b[1;33m=\u001b[0m \u001b[0mDataFrame\u001b[0m\u001b[1;33m(\u001b[0m\u001b[0mdata\u001b[0m\u001b[1;33m,\u001b[0m \u001b[0mindex\u001b[0m\u001b[1;33m=\u001b[0m\u001b[0mcommon_idx\u001b[0m\u001b[1;33m)\u001b[0m\u001b[1;33m\u001b[0m\u001b[1;33m\u001b[0m\u001b[0m\n\u001b[0m\u001b[0;32m    599\u001b[0m     \u001b[0moriginal_df_cols\u001b[0m \u001b[1;33m=\u001b[0m \u001b[0mdf\u001b[0m\u001b[1;33m.\u001b[0m\u001b[0mcolumns\u001b[0m\u001b[1;33m\u001b[0m\u001b[1;33m\u001b[0m\u001b[0m\n\u001b[0;32m    600\u001b[0m \u001b[1;33m\u001b[0m\u001b[0m\n",
      "\u001b[1;32m~\\anaconda3\\lib\\site-packages\\pandas\\core\\frame.py\u001b[0m in \u001b[0;36m__init__\u001b[1;34m(self, data, index, columns, dtype, copy)\u001b[0m\n\u001b[0;32m    527\u001b[0m \u001b[1;33m\u001b[0m\u001b[0m\n\u001b[0;32m    528\u001b[0m         \u001b[1;32melif\u001b[0m \u001b[0misinstance\u001b[0m\u001b[1;33m(\u001b[0m\u001b[0mdata\u001b[0m\u001b[1;33m,\u001b[0m \u001b[0mdict\u001b[0m\u001b[1;33m)\u001b[0m\u001b[1;33m:\u001b[0m\u001b[1;33m\u001b[0m\u001b[1;33m\u001b[0m\u001b[0m\n\u001b[1;32m--> 529\u001b[1;33m             \u001b[0mmgr\u001b[0m \u001b[1;33m=\u001b[0m \u001b[0minit_dict\u001b[0m\u001b[1;33m(\u001b[0m\u001b[0mdata\u001b[0m\u001b[1;33m,\u001b[0m \u001b[0mindex\u001b[0m\u001b[1;33m,\u001b[0m \u001b[0mcolumns\u001b[0m\u001b[1;33m,\u001b[0m \u001b[0mdtype\u001b[0m\u001b[1;33m=\u001b[0m\u001b[0mdtype\u001b[0m\u001b[1;33m)\u001b[0m\u001b[1;33m\u001b[0m\u001b[1;33m\u001b[0m\u001b[0m\n\u001b[0m\u001b[0;32m    530\u001b[0m         \u001b[1;32melif\u001b[0m \u001b[0misinstance\u001b[0m\u001b[1;33m(\u001b[0m\u001b[0mdata\u001b[0m\u001b[1;33m,\u001b[0m \u001b[0mma\u001b[0m\u001b[1;33m.\u001b[0m\u001b[0mMaskedArray\u001b[0m\u001b[1;33m)\u001b[0m\u001b[1;33m:\u001b[0m\u001b[1;33m\u001b[0m\u001b[1;33m\u001b[0m\u001b[0m\n\u001b[0;32m    531\u001b[0m             \u001b[1;32mimport\u001b[0m \u001b[0mnumpy\u001b[0m\u001b[1;33m.\u001b[0m\u001b[0mma\u001b[0m\u001b[1;33m.\u001b[0m\u001b[0mmrecords\u001b[0m \u001b[1;32mas\u001b[0m \u001b[0mmrecords\u001b[0m\u001b[1;33m\u001b[0m\u001b[1;33m\u001b[0m\u001b[0m\n",
      "\u001b[1;32m~\\anaconda3\\lib\\site-packages\\pandas\\core\\internals\\construction.py\u001b[0m in \u001b[0;36minit_dict\u001b[1;34m(data, index, columns, dtype)\u001b[0m\n\u001b[0;32m    285\u001b[0m             \u001b[0marr\u001b[0m \u001b[1;32mif\u001b[0m \u001b[1;32mnot\u001b[0m \u001b[0mis_datetime64tz_dtype\u001b[0m\u001b[1;33m(\u001b[0m\u001b[0marr\u001b[0m\u001b[1;33m)\u001b[0m \u001b[1;32melse\u001b[0m \u001b[0marr\u001b[0m\u001b[1;33m.\u001b[0m\u001b[0mcopy\u001b[0m\u001b[1;33m(\u001b[0m\u001b[1;33m)\u001b[0m \u001b[1;32mfor\u001b[0m \u001b[0marr\u001b[0m \u001b[1;32min\u001b[0m \u001b[0marrays\u001b[0m\u001b[1;33m\u001b[0m\u001b[1;33m\u001b[0m\u001b[0m\n\u001b[0;32m    286\u001b[0m         ]\n\u001b[1;32m--> 287\u001b[1;33m     \u001b[1;32mreturn\u001b[0m \u001b[0marrays_to_mgr\u001b[0m\u001b[1;33m(\u001b[0m\u001b[0marrays\u001b[0m\u001b[1;33m,\u001b[0m \u001b[0mdata_names\u001b[0m\u001b[1;33m,\u001b[0m \u001b[0mindex\u001b[0m\u001b[1;33m,\u001b[0m \u001b[0mcolumns\u001b[0m\u001b[1;33m,\u001b[0m \u001b[0mdtype\u001b[0m\u001b[1;33m=\u001b[0m\u001b[0mdtype\u001b[0m\u001b[1;33m)\u001b[0m\u001b[1;33m\u001b[0m\u001b[1;33m\u001b[0m\u001b[0m\n\u001b[0m\u001b[0;32m    288\u001b[0m \u001b[1;33m\u001b[0m\u001b[0m\n\u001b[0;32m    289\u001b[0m \u001b[1;33m\u001b[0m\u001b[0m\n",
      "\u001b[1;32m~\\anaconda3\\lib\\site-packages\\pandas\\core\\internals\\construction.py\u001b[0m in \u001b[0;36marrays_to_mgr\u001b[1;34m(arrays, arr_names, index, columns, dtype, verify_integrity)\u001b[0m\n\u001b[0;32m     83\u001b[0m \u001b[1;33m\u001b[0m\u001b[0m\n\u001b[0;32m     84\u001b[0m         \u001b[1;31m# don't force copy because getting jammed in an ndarray anyway\u001b[0m\u001b[1;33m\u001b[0m\u001b[1;33m\u001b[0m\u001b[1;33m\u001b[0m\u001b[0m\n\u001b[1;32m---> 85\u001b[1;33m         \u001b[0marrays\u001b[0m \u001b[1;33m=\u001b[0m \u001b[0m_homogenize\u001b[0m\u001b[1;33m(\u001b[0m\u001b[0marrays\u001b[0m\u001b[1;33m,\u001b[0m \u001b[0mindex\u001b[0m\u001b[1;33m,\u001b[0m \u001b[0mdtype\u001b[0m\u001b[1;33m)\u001b[0m\u001b[1;33m\u001b[0m\u001b[1;33m\u001b[0m\u001b[0m\n\u001b[0m\u001b[0;32m     86\u001b[0m \u001b[1;33m\u001b[0m\u001b[0m\n\u001b[0;32m     87\u001b[0m         \u001b[0mcolumns\u001b[0m \u001b[1;33m=\u001b[0m \u001b[0mensure_index\u001b[0m\u001b[1;33m(\u001b[0m\u001b[0mcolumns\u001b[0m\u001b[1;33m)\u001b[0m\u001b[1;33m\u001b[0m\u001b[1;33m\u001b[0m\u001b[0m\n",
      "\u001b[1;32m~\\anaconda3\\lib\\site-packages\\pandas\\core\\internals\\construction.py\u001b[0m in \u001b[0;36m_homogenize\u001b[1;34m(data, index, dtype)\u001b[0m\n\u001b[0;32m    342\u001b[0m                 \u001b[1;31m# Forces alignment. No need to copy data since we\u001b[0m\u001b[1;33m\u001b[0m\u001b[1;33m\u001b[0m\u001b[1;33m\u001b[0m\u001b[0m\n\u001b[0;32m    343\u001b[0m                 \u001b[1;31m# are putting it into an ndarray later\u001b[0m\u001b[1;33m\u001b[0m\u001b[1;33m\u001b[0m\u001b[1;33m\u001b[0m\u001b[0m\n\u001b[1;32m--> 344\u001b[1;33m                 \u001b[0mval\u001b[0m \u001b[1;33m=\u001b[0m \u001b[0mval\u001b[0m\u001b[1;33m.\u001b[0m\u001b[0mreindex\u001b[0m\u001b[1;33m(\u001b[0m\u001b[0mindex\u001b[0m\u001b[1;33m,\u001b[0m \u001b[0mcopy\u001b[0m\u001b[1;33m=\u001b[0m\u001b[1;32mFalse\u001b[0m\u001b[1;33m)\u001b[0m\u001b[1;33m\u001b[0m\u001b[1;33m\u001b[0m\u001b[0m\n\u001b[0m\u001b[0;32m    345\u001b[0m         \u001b[1;32melse\u001b[0m\u001b[1;33m:\u001b[0m\u001b[1;33m\u001b[0m\u001b[1;33m\u001b[0m\u001b[0m\n\u001b[0;32m    346\u001b[0m             \u001b[1;32mif\u001b[0m \u001b[0misinstance\u001b[0m\u001b[1;33m(\u001b[0m\u001b[0mval\u001b[0m\u001b[1;33m,\u001b[0m \u001b[0mdict\u001b[0m\u001b[1;33m)\u001b[0m\u001b[1;33m:\u001b[0m\u001b[1;33m\u001b[0m\u001b[1;33m\u001b[0m\u001b[0m\n",
      "\u001b[1;32m~\\anaconda3\\lib\\site-packages\\pandas\\core\\series.py\u001b[0m in \u001b[0;36mreindex\u001b[1;34m(self, index, **kwargs)\u001b[0m\n\u001b[0;32m   4343\u001b[0m     )\n\u001b[0;32m   4344\u001b[0m     \u001b[1;32mdef\u001b[0m \u001b[0mreindex\u001b[0m\u001b[1;33m(\u001b[0m\u001b[0mself\u001b[0m\u001b[1;33m,\u001b[0m \u001b[0mindex\u001b[0m\u001b[1;33m=\u001b[0m\u001b[1;32mNone\u001b[0m\u001b[1;33m,\u001b[0m \u001b[1;33m**\u001b[0m\u001b[0mkwargs\u001b[0m\u001b[1;33m)\u001b[0m\u001b[1;33m:\u001b[0m\u001b[1;33m\u001b[0m\u001b[1;33m\u001b[0m\u001b[0m\n\u001b[1;32m-> 4345\u001b[1;33m         \u001b[1;32mreturn\u001b[0m \u001b[0msuper\u001b[0m\u001b[1;33m(\u001b[0m\u001b[1;33m)\u001b[0m\u001b[1;33m.\u001b[0m\u001b[0mreindex\u001b[0m\u001b[1;33m(\u001b[0m\u001b[0mindex\u001b[0m\u001b[1;33m=\u001b[0m\u001b[0mindex\u001b[0m\u001b[1;33m,\u001b[0m \u001b[1;33m**\u001b[0m\u001b[0mkwargs\u001b[0m\u001b[1;33m)\u001b[0m\u001b[1;33m\u001b[0m\u001b[1;33m\u001b[0m\u001b[0m\n\u001b[0m\u001b[0;32m   4346\u001b[0m \u001b[1;33m\u001b[0m\u001b[0m\n\u001b[0;32m   4347\u001b[0m     def drop(\n",
      "\u001b[1;32m~\\anaconda3\\lib\\site-packages\\pandas\\core\\generic.py\u001b[0m in \u001b[0;36mreindex\u001b[1;34m(self, *args, **kwargs)\u001b[0m\n\u001b[0;32m   4809\u001b[0m \u001b[1;33m\u001b[0m\u001b[0m\n\u001b[0;32m   4810\u001b[0m         \u001b[1;31m# perform the reindex on the axes\u001b[0m\u001b[1;33m\u001b[0m\u001b[1;33m\u001b[0m\u001b[1;33m\u001b[0m\u001b[0m\n\u001b[1;32m-> 4811\u001b[1;33m         return self._reindex_axes(\n\u001b[0m\u001b[0;32m   4812\u001b[0m             \u001b[0maxes\u001b[0m\u001b[1;33m,\u001b[0m \u001b[0mlevel\u001b[0m\u001b[1;33m,\u001b[0m \u001b[0mlimit\u001b[0m\u001b[1;33m,\u001b[0m \u001b[0mtolerance\u001b[0m\u001b[1;33m,\u001b[0m \u001b[0mmethod\u001b[0m\u001b[1;33m,\u001b[0m \u001b[0mfill_value\u001b[0m\u001b[1;33m,\u001b[0m \u001b[0mcopy\u001b[0m\u001b[1;33m\u001b[0m\u001b[1;33m\u001b[0m\u001b[0m\n\u001b[0;32m   4813\u001b[0m         ).__finalize__(self, method=\"reindex\")\n",
      "\u001b[1;32m~\\anaconda3\\lib\\site-packages\\pandas\\core\\generic.py\u001b[0m in \u001b[0;36m_reindex_axes\u001b[1;34m(self, axes, level, limit, tolerance, method, fill_value, copy)\u001b[0m\n\u001b[0;32m   4830\u001b[0m \u001b[1;33m\u001b[0m\u001b[0m\n\u001b[0;32m   4831\u001b[0m             \u001b[0maxis\u001b[0m \u001b[1;33m=\u001b[0m \u001b[0mself\u001b[0m\u001b[1;33m.\u001b[0m\u001b[0m_get_axis_number\u001b[0m\u001b[1;33m(\u001b[0m\u001b[0ma\u001b[0m\u001b[1;33m)\u001b[0m\u001b[1;33m\u001b[0m\u001b[1;33m\u001b[0m\u001b[0m\n\u001b[1;32m-> 4832\u001b[1;33m             obj = obj._reindex_with_indexers(\n\u001b[0m\u001b[0;32m   4833\u001b[0m                 \u001b[1;33m{\u001b[0m\u001b[0maxis\u001b[0m\u001b[1;33m:\u001b[0m \u001b[1;33m[\u001b[0m\u001b[0mnew_index\u001b[0m\u001b[1;33m,\u001b[0m \u001b[0mindexer\u001b[0m\u001b[1;33m]\u001b[0m\u001b[1;33m}\u001b[0m\u001b[1;33m,\u001b[0m\u001b[1;33m\u001b[0m\u001b[1;33m\u001b[0m\u001b[0m\n\u001b[0;32m   4834\u001b[0m                 \u001b[0mfill_value\u001b[0m\u001b[1;33m=\u001b[0m\u001b[0mfill_value\u001b[0m\u001b[1;33m,\u001b[0m\u001b[1;33m\u001b[0m\u001b[1;33m\u001b[0m\u001b[0m\n",
      "\u001b[1;32m~\\anaconda3\\lib\\site-packages\\pandas\\core\\generic.py\u001b[0m in \u001b[0;36m_reindex_with_indexers\u001b[1;34m(self, reindexers, fill_value, copy, allow_dups)\u001b[0m\n\u001b[0;32m   4875\u001b[0m \u001b[1;33m\u001b[0m\u001b[0m\n\u001b[0;32m   4876\u001b[0m             \u001b[1;31m# TODO: speed up on homogeneous DataFrame objects\u001b[0m\u001b[1;33m\u001b[0m\u001b[1;33m\u001b[0m\u001b[1;33m\u001b[0m\u001b[0m\n\u001b[1;32m-> 4877\u001b[1;33m             new_data = new_data.reindex_indexer(\n\u001b[0m\u001b[0;32m   4878\u001b[0m                 \u001b[0mindex\u001b[0m\u001b[1;33m,\u001b[0m\u001b[1;33m\u001b[0m\u001b[1;33m\u001b[0m\u001b[0m\n\u001b[0;32m   4879\u001b[0m                 \u001b[0mindexer\u001b[0m\u001b[1;33m,\u001b[0m\u001b[1;33m\u001b[0m\u001b[1;33m\u001b[0m\u001b[0m\n",
      "\u001b[1;32m~\\anaconda3\\lib\\site-packages\\pandas\\core\\internals\\managers.py\u001b[0m in \u001b[0;36mreindex_indexer\u001b[1;34m(self, new_axis, indexer, axis, fill_value, allow_dups, copy, consolidate, only_slice)\u001b[0m\n\u001b[0;32m   1299\u001b[0m         \u001b[1;31m# some axes don't allow reindexing with dups\u001b[0m\u001b[1;33m\u001b[0m\u001b[1;33m\u001b[0m\u001b[1;33m\u001b[0m\u001b[0m\n\u001b[0;32m   1300\u001b[0m         \u001b[1;32mif\u001b[0m \u001b[1;32mnot\u001b[0m \u001b[0mallow_dups\u001b[0m\u001b[1;33m:\u001b[0m\u001b[1;33m\u001b[0m\u001b[1;33m\u001b[0m\u001b[0m\n\u001b[1;32m-> 1301\u001b[1;33m             \u001b[0mself\u001b[0m\u001b[1;33m.\u001b[0m\u001b[0maxes\u001b[0m\u001b[1;33m[\u001b[0m\u001b[0maxis\u001b[0m\u001b[1;33m]\u001b[0m\u001b[1;33m.\u001b[0m\u001b[0m_can_reindex\u001b[0m\u001b[1;33m(\u001b[0m\u001b[0mindexer\u001b[0m\u001b[1;33m)\u001b[0m\u001b[1;33m\u001b[0m\u001b[1;33m\u001b[0m\u001b[0m\n\u001b[0m\u001b[0;32m   1302\u001b[0m \u001b[1;33m\u001b[0m\u001b[0m\n\u001b[0;32m   1303\u001b[0m         \u001b[1;32mif\u001b[0m \u001b[0maxis\u001b[0m \u001b[1;33m>=\u001b[0m \u001b[0mself\u001b[0m\u001b[1;33m.\u001b[0m\u001b[0mndim\u001b[0m\u001b[1;33m:\u001b[0m\u001b[1;33m\u001b[0m\u001b[1;33m\u001b[0m\u001b[0m\n",
      "\u001b[1;32m~\\anaconda3\\lib\\site-packages\\pandas\\core\\indexes\\base.py\u001b[0m in \u001b[0;36m_can_reindex\u001b[1;34m(self, indexer)\u001b[0m\n\u001b[0;32m   3474\u001b[0m         \u001b[1;31m# trying to reindex on an axis with duplicates\u001b[0m\u001b[1;33m\u001b[0m\u001b[1;33m\u001b[0m\u001b[1;33m\u001b[0m\u001b[0m\n\u001b[0;32m   3475\u001b[0m         \u001b[1;32mif\u001b[0m \u001b[1;32mnot\u001b[0m \u001b[0mself\u001b[0m\u001b[1;33m.\u001b[0m\u001b[0m_index_as_unique\u001b[0m \u001b[1;32mand\u001b[0m \u001b[0mlen\u001b[0m\u001b[1;33m(\u001b[0m\u001b[0mindexer\u001b[0m\u001b[1;33m)\u001b[0m\u001b[1;33m:\u001b[0m\u001b[1;33m\u001b[0m\u001b[1;33m\u001b[0m\u001b[0m\n\u001b[1;32m-> 3476\u001b[1;33m             \u001b[1;32mraise\u001b[0m \u001b[0mValueError\u001b[0m\u001b[1;33m(\u001b[0m\u001b[1;34m\"cannot reindex from a duplicate axis\"\u001b[0m\u001b[1;33m)\u001b[0m\u001b[1;33m\u001b[0m\u001b[1;33m\u001b[0m\u001b[0m\n\u001b[0m\u001b[0;32m   3477\u001b[0m \u001b[1;33m\u001b[0m\u001b[0m\n\u001b[0;32m   3478\u001b[0m     \u001b[1;32mdef\u001b[0m \u001b[0mreindex\u001b[0m\u001b[1;33m(\u001b[0m\u001b[0mself\u001b[0m\u001b[1;33m,\u001b[0m \u001b[0mtarget\u001b[0m\u001b[1;33m,\u001b[0m \u001b[0mmethod\u001b[0m\u001b[1;33m=\u001b[0m\u001b[1;32mNone\u001b[0m\u001b[1;33m,\u001b[0m \u001b[0mlevel\u001b[0m\u001b[1;33m=\u001b[0m\u001b[1;32mNone\u001b[0m\u001b[1;33m,\u001b[0m \u001b[0mlimit\u001b[0m\u001b[1;33m=\u001b[0m\u001b[1;32mNone\u001b[0m\u001b[1;33m,\u001b[0m \u001b[0mtolerance\u001b[0m\u001b[1;33m=\u001b[0m\u001b[1;32mNone\u001b[0m\u001b[1;33m)\u001b[0m\u001b[1;33m:\u001b[0m\u001b[1;33m\u001b[0m\u001b[1;33m\u001b[0m\u001b[0m\n",
      "\u001b[1;31mValueError\u001b[0m: cannot reindex from a duplicate axis"
     ]
    }
   ],
   "source": [
    "plt.figure()\n",
    "fig=plt.figure(figsize=(15,8))\n",
    "sns.scatterplot(data=time_weight_df, x='Gaptime', y='VotedWeights', hue='Recommended')\n",
    "plt.title('Scatterplot of Gap time between updates of reviews and Weighted Score')\n",
    "plt.xlabel('Gap Time')\n",
    "plt.ylabel('Weighted Vote Score')\n",
    "plt.show()\n",
    "\n",
    "contingency_table=pd.crosstab(time_weight_df[time_weight_df['Recommended']==True]['Gaptime'],\n",
    "time_weight_df[time_weight_df['Recommended']==True]['VotedWeights'])\n",
    "print('p-value for recommended application: ',chi2_contingency(contingency_table)[1])\n",
    "\n",
    "contingency_table=pd.crosstab(time_weight_df[time_weight_df['Recommended']==False]['Gaptime'],\n",
    "time_weight_df[time_weight_df['Recommended']==False]['VotedWeights'])\n",
    "print('p-value for not recommended application: ',chi2_contingency(contingency_table)[1])"
   ]
  },
  {
   "cell_type": "markdown",
   "metadata": {},
   "source": [
    "There is no real difference, even if we analyze according the Recommended variable."
   ]
  },
  {
   "cell_type": "markdown",
   "metadata": {},
   "source": [
    "### What are histograms, bar plots, scatterplots and pie charts used for?"
   ]
  },
  {
   "cell_type": "markdown",
   "metadata": {},
   "source": [
    "This techniques of presenting data are really useful when we want to present in a visible way our variables, and relashionships between them.\n",
    "Histograms and other bar plots provide a visual interpretation of numerical data by showing the number of data points that fall within a specified range of values, while pie charts show how much each category represents as a proportion of the whole, and scatterplots serve for observing and showing relationships between two numeric variables."
   ]
  },
  {
   "cell_type": "markdown",
   "metadata": {},
   "source": [
    "### What insights can you extract from a Box Plot?"
   ]
  },
  {
   "cell_type": "markdown",
   "metadata": {},
   "source": [
    "A Boxplot is a simple graphic way to represent the variabilities of values in the dataset. It shows the upper and lower quartiles, the median, minimum and maximum values, and the outliers which usually should be excluded from the analysis, or at least took into consideration."
   ]
  },
  {
   "cell_type": "code",
   "execution_count": null,
   "metadata": {},
   "outputs": [],
   "source": [
    "#example of boxplot\n",
    "dataframe_chin_rus.boxplot(column=['weighted_vote_score'], by=['language'],figsize=(9,6))"
   ]
  },
  {
   "cell_type": "markdown",
   "metadata": {},
   "source": [
    "# Teoretical Questions \n",
    "---"
   ]
  },
  {
   "cell_type": "markdown",
   "metadata": {},
   "source": [
    "# [TQ1]\n",
    "\n",
    "We are given the following algorithm.\n",
    "```\n",
    "Input: \n",
    "    A: array of length n\n",
    "    k: integers between 1 and n\n",
    "    \n",
    "function alg(A, k):\n",
    "  s <-- a random element of A\n",
    "  set L = [all the elements of A with value <= s]\n",
    "  set R = [all the elements of A with value > s]\n",
    "  r = len(L)\n",
    "  if k == r:\n",
    "    return s\n",
    "  else if k < r:  \n",
    "    return alg(L, k)\n",
    "  else:\n",
    "    return alg(R, k - r)\n",
    "```\n",
    "What does the algorithm compute?\n",
    "What is asymptotically (i.e., we are asking for big-O complexity) the running time of the algorithm in the worst case, as a function of n?\n",
    "What is asymptotically the running time of the algorithm in the best case?"
   ]
  },
  {
   "cell_type": "markdown",
   "metadata": {},
   "source": [
    "# TQ1 answer\n",
    "\n",
    "### What does the algorithm compute?\n",
    "This algorithm performs a search on the input array returning the Kth element in ascending order.  \n",
    "\n",
    "It works by dividing the array in two subset, one smaller and one bigger than a random element S.  \n",
    "Since the array is not sorted and the algorithm does not include a sorting logic, we assume that each time it has to split the input, it's going to perform an amount of operations equal to the length of the input itself O(n). \n",
    "\n",
    "After having divided the input in two separated lists, if the element has not ben found (the randomly chosen element would be at the end of the first subset, therefore its index is equal to len(L), it checks whether or not the value belongs to the smaller-than or bigger-than subset and recursively calls itself on the correct subset. \n",
    "\n",
    "The algorithm ends either when the element we're looking for gets randomly selected, or when it's left with a subset of two elements which gets split in two atomic lists. In this case, it either returns the first one if its correct, or calls itself for the last time. \n",
    "\n",
    "\n",
    "### What is asymptotically the running time ?\n",
    "- **Worst case** <br/>In the worst case scenario, in which the element that we're looking for is on one extreme and the randomly selected element is always in the other extreme of an unsorted array, the algorithm is going to compute in :<br /> *O(n^2)*, because it's going to sort n elements n amount of times. (Removing only one element from the array in every step.)\n",
    "- **Best case** <br/>In the best case scenario the first randomly selected element equals the correct one, so the computational time is equal to 2n + len(r), therefore **O(n)**; where n is the length of the array.<br/>This is true because before checking if the element is correct, the algorithm has to split the input in two parts.<br/>\n",
    "- **Normal case** <br/> Normally, the algorithm is going to have a logarithmic complexity of n(log(n)), because it will have to sort n elements a log(n) amount of times (the selection of the subset division is random)"
   ]
  },
  {
   "cell_type": "markdown",
   "metadata": {},
   "source": [
    "#### Explanation using an example:\n",
    "##### 1st case:  A=9\n",
    "Then n=1 and k=1\n",
    "Alg( (9) , 1):\n",
    "\n",
    "\ts=9 , L=9, R=null, r=1\n",
    "    \n",
    "\tr=k\n",
    "    \n",
    "\tthe algorithm returns 9\n",
    "    \n",
    "##### 2nd case: A=(9,10)\n",
    "Then n=2, if k=1:\n",
    "\n",
    "\t\tAlg( (9,10) , 1):\n",
    "        \n",
    "\t\t\tIf s=9: L=9, R=10, r=1\n",
    "            \n",
    "\t\t\t\tr=k\n",
    "                \n",
    "\t\t\t\tthe algorithm returns 9\n",
    "                \n",
    "\t\t\tif s=10: L=(9,10) R=null, r=2\n",
    "            \n",
    "\t\t\t\tk<r\n",
    "                \n",
    "\t\t\t\tthe algorithm returns alg( (9,10) , 1)    same case as starting point\n",
    "                \n",
    "if k=2:\n",
    "\n",
    "\t\talg( (9,10) , 2):\n",
    "        \n",
    "\t\t\tif s=9: L=9, R=10, r=1\n",
    "            \n",
    "\t\t\t\tr<k\n",
    "                \n",
    "\t\t\t\tthe algorithm returns alg((10),1)  which returns 10\n",
    "                \n",
    "\t\t\tif s=10: L=(9,10), R=null, r=2\n",
    "            \n",
    "\t\t\t\tk=r\n",
    "                \n",
    "\t\t\t\tthe algorithm returns 10\n",
    "                \n",
    "\n",
    "##### 3rd case: A=(9,10,7)\n",
    "If k=1: the algorithm returns 7\n",
    "\n",
    "If k=2: the algorithm returns 9\n",
    "\n",
    "If k=3: the algorithm returns 10\n"
   ]
  },
  {
   "cell_type": "markdown",
   "metadata": {},
   "source": [
    "# TQ2\n",
    "You are given the recursive function splitSwap, which accepts an array a, an index i, and a length n.\n",
    "```\n",
    "function splitSwap(a, l, n):\n",
    "  if n <= 1:\n",
    "    return\n",
    "  splitSwap(a, l, n/2)\n",
    "  splitSwap(a, l+ n /2, n/2)\n",
    "  swapList(a, l, n)\n",
    "The subroutine swapList is described here:\n",
    "\n",
    "function swapList(a, l, n):\n",
    "  for i = 0 to n/2:\n",
    "    tmp = a[l + i]\n",
    "    a[l + i] = a[l + n/2 + i]\n",
    "    a[l + n/2 + i] = tmp\n",
    " ```\n",
    "How much running time does it take to execute splitSwap(a, 0, n)? (We want a Big O analysis.)\n",
    "What does this algorithm do? Is it optimal? Describe the mechanism of the algorithm in details, we do not want to know only its final result.\n",
    "HINT: Consider the scenario where len(a) and n are numbers that are a power of 2.\n",
    "\n",
    "---"
   ]
  },
  {
   "cell_type": "markdown",
   "metadata": {},
   "source": [
    "# TQ2 answer\n",
    "### How much running time does it take to execute?\n",
    "The algorithm takes asintotically **n log(n)** running time to execute.  \n",
    "This is given by the fact that the function swapList has linear complexity O(n) : its running time is (n/2)\\*(3).   \n",
    "Swaplist is then called asyntotically log(n) amount of times, since for each step splitSwap is called by reducing n in half. \n",
    "\n",
    "Matematically the running time is :    \n",
    "SwapList : (n/2)\\*(3) = O(n)   \n",
    "SplitSwap : log(n) \\* (n/2)\\*3 => O(n(log(n))\n",
    "\n",
    "### How does it work?\n",
    "This algorithm is designed to *split* **a** (the input) starting from index *L* and to swap every item after its *Lth*.  \n",
    "\n",
    "The algorithm implements a recursive function that modifies the input by enqueueing operations in a tree-like structure, with depth equal to :    \n",
    "**2^d = N**.   \n",
    "Where d is the *depth*\n",
    "\n",
    "Visually:    \n",
    "<img src=\"https://user-images.githubusercontent.com/50860347/139086690-4bf9b177-1231-4a08-aa1e-adde8215eaa6.jpg\" alt=\"Tree structure\" width=\"400\"/>\n",
    "\n",
    "The tree is visited in a **Post-Order LRN** way : left subtree first, then right-subtree, and at the end the node.   \n",
    "In this case the tree is visited in this order:\n",
    "1. [**splitSwap(a, 3, 1)**]\n",
    "2. [**splitSwap(a, 4, 1)**]\n",
    "3. [**splitSwap(a, 3, 2)**]\n",
    "4. [**splitSwap(a, 5, 1)**]\n",
    "5. [**splitSwap(a, 6, 1)**]\n",
    "6. [**splitSwap(a, 5, 2)**]\n",
    "7. [**splitSwap(a, 3, 4)**]\n",
    "\n",
    "This is how it works:   \n",
    "When n = 2 (Depth d-1), the element in position L is pushed to end of the list. (this happens after all the leafs of that depth are computed)   \n",
    "when n > 2, the elements are swapped with the element in position equal to their position + n/2    \n",
    "\n",
    "in the end, the value returned is an array with values that are equal to the input until position L, and then the starting values swapped with themself according to the logic explained above.\n",
    "\n",
    "\n",
    "Speaking of complexity analysis, I would say that the algorithm is optimal,  because asinothothically its complexity is O(nlog(n)).\n",
    "On the other hand, I would also say that the algorithm is not optimal at all because it has many flaws in its design:    \n",
    "*Considering the scenario where len(a) and n are numbers that are a power of 2*   \n",
    "In order to work without throwing errors the algorithm requires some **constraints** to be respected: In particular, N has to be smaller than len(a)/2 and l+N has to be smaller than len(a).   \n",
    "This is required to avoid **Index Out Of Bound Exceptions**   \n",
    "In conclusion, I think that the algorithm would be optimal if its flawes were fixed.  "
   ]
  },
  {
   "cell_type": "markdown",
   "metadata": {},
   "source": [
    "# TQ3\n",
    "In the knapsack problem we are given n objects and each object i has a weight w_i and a value v_i. We are also given a weight budget W. The problem is to select a set of objects with total weight bounded by W that maximized the sum of their values. The following are three natural heuristics:\n",
    "\n",
    "Order them in increasing order of weight and then visit them sequentially, adding them to the solution as long as the budget is not exceeded\n",
    "Order them in decreasing order of values, and then visit them sequentially, adding them to the solution if the budget is not exceeded\n",
    "Order them in decreasing relative value (v_i / w_i), and then visit them sequentially, adding them to the solution if the budget is not exceeded\n",
    "For each of the heuristics, provide a counterexample, that is, an example of a problem instance in which the heuristic fails to provide the optimal solution."
   ]
  },
  {
   "cell_type": "markdown",
   "metadata": {},
   "source": [
    "# TQ3 Answer\n",
    "\n",
    "### Order them in increasing order of weight and then visit them sequentially, adding them to the solution as long as the budget is not exceeded.\n",
    "#### Counter example:\n",
    "W=71\n",
    "\n",
    "|i||V_i||W_i|\n",
    "|---||----||---|\n",
    "|1||30||5|\n",
    "|2||1||10|\n",
    "|3||4||12|\n",
    "|4||19||24|\n",
    "|5||64||70|\n",
    "\n",
    "If we follow this heuristic, the solution will be to take the first 4 items whose sum of weights is 51 <W, and sum of values is 54, while the obvious correct solution would be to take the last item whose weight is 70 <W and value is 64 which is bigger than the sum of values of the first 4 elements (54).\n",
    "\n",
    "### Order them in decreasing order of values, and then visit them sequentially, adding them to the solution if the budget is not exceeded.\n",
    "#### Counter example:\n",
    "W=200\n",
    "\n",
    "|i||V_i||W_i|\n",
    "|---||----||---|\n",
    "|1||103||61|\n",
    "|2||78||100|\n",
    "|3||65||120|\n",
    "|4||64||24|\n",
    "|5||2||4|\n",
    "\n",
    "If we follow this heuristic, the solution will be to take the first 2 items whose sum of weights is 161 <W, and sum of values is 181, while a better solution would be to take the items 1,2,4 and 5 whose sum of weights is 189 <W and sum of values is 247 which is bigger than the sum of values of the first 2 elements (161).\n",
    "\n",
    "### Order them in decreasing relative value (v_i / w_i), and then visit them sequentially, adding them to the solution if the budget is not exceeded\n",
    "#### Counter example:\n",
    "W=200\n",
    "\n",
    "|i||V_i||W_i||V_i/w_i|\n",
    "|---||----||----||---|\n",
    "|1||64||24||2.67|\n",
    "|2||103||61||1.68|\n",
    "|3||78||100||0.78|\n",
    "|4||65||120||0.54|\n",
    "|5||2||4||0.5|\n",
    "\n",
    "If we follow this heuristic, and with the same example as before, with an order change relatively to (v_i/w_i), the solution will be to take the first 3 items whose sum of weights is 185 <W, and sum of values is 245, while a better solution would be to take the items 1, 2, 3 and 5 whose sum of weights is 189 <W and sum of values is 247 which is bigger than the sum of values of the first 2 elements (161)."
   ]
  }
 ],
 "metadata": {
  "colab": {
   "collapsed_sections": [
    "d9bt-NZaFbm2",
    "YRfbLFOuFlhR",
    "v3YouPvQF1Co"
   ],
   "name": "main.ipynb",
   "provenance": []
  },
  "interpreter": {
   "hash": "f2aa7c95bd86456af63100c3cd7a0850f99a04d60470a2adcdc01225edcb23fb"
  },
  "kernelspec": {
   "display_name": "Python 3",
   "language": "python",
   "name": "python3"
  },
  "language_info": {
   "codemirror_mode": {
    "name": "ipython",
    "version": 3
   },
   "file_extension": ".py",
   "mimetype": "text/x-python",
   "name": "python",
   "nbconvert_exporter": "python",
   "pygments_lexer": "ipython3",
   "version": "3.8.8"
  }
 },
 "nbformat": 4,
 "nbformat_minor": 4
}
